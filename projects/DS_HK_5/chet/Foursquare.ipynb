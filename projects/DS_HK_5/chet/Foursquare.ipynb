{
 "cells": [
  {
   "cell_type": "markdown",
   "metadata": {},
   "source": [
    "## Preliminaries"
   ]
  },
  {
   "cell_type": "code",
   "execution_count": 149,
   "metadata": {
    "collapsed": true
   },
   "outputs": [],
   "source": [
    "%matplotlib inline"
   ]
  },
  {
   "cell_type": "code",
   "execution_count": 247,
   "metadata": {
    "collapsed": true
   },
   "outputs": [],
   "source": [
    "from __future__ import unicode_literals, division\n",
    "\n",
    "import IPython\n",
    "import warnings\n",
    "import requests\n",
    "import numpy as np\n",
    "import pandas as pd\n",
    "import seaborn as sns\n",
    "import matplotlib as mpl\n",
    "import matplotlib.pyplot as plt\n",
    "\n",
    "from pylab import *\n",
    "from IPython.display import HTML\n",
    "from IPython.display import display as prnt\n",
    "from random import sample\n",
    "\n",
    "# Notebook Options\n",
    "warnings.filterwarnings('ignore')\n",
    "np.set_printoptions(suppress=True)\n",
    "\n",
    "# Matplotlib Styles\n",
    "c = {'axes.labelsize': 17,\n",
    "'axes.titlesize': 16,\n",
    "'figure.figsize': [18, 8],\n",
    "'grid.linewidth': 1.6,\n",
    "'legend.fontsize': 17,\n",
    "'lines.linewidth': 2,\n",
    "'lines.markeredgewidth': 0.0,\n",
    "'lines.markersize': 11,\n",
    "'patch.linewidth': 0.5,\n",
    "'xtick.labelsize': 16,\n",
    "'xtick.major.pad': 20,\n",
    "'xtick.major.width': 2,\n",
    "'xtick.minor.width': 1,\n",
    "'ytick.labelsize': 16.0,\n",
    "'ytick.major.pad': 20,\n",
    "'ytick.major.width': 2,\n",
    "'ytick.minor.width': 1 }\n",
    "wide_c = dict(c, **{'figure.figsize':[20,8]})"
   ]
  },
  {
   "cell_type": "code",
   "execution_count": 152,
   "metadata": {
    "collapsed": true
   },
   "outputs": [],
   "source": [
    "def table(df,replace_match=\"\",replace_str=\"\"):\n",
    "    return IPython.display.display(HTML(df.to_html().replace('<table border=\"1\" class=\"dataframe\">','<table class=\"table table-striped table-hover\">').replace(replace_match,replace_str)))\n"
   ]
  },
  {
   "cell_type": "markdown",
   "metadata": {},
   "source": [
    "## Data - Getting Global Cities"
   ]
  },
  {
   "cell_type": "code",
   "execution_count": 192,
   "metadata": {
    "collapsed": false
   },
   "outputs": [
    {
     "data": {
      "text/html": [
       "<div style=\"max-height:1000px;max-width:1500px;overflow:auto;\">\n",
       "<table border=\"1\" class=\"dataframe\">\n",
       "  <thead>\n",
       "    <tr style=\"text-align: right;\">\n",
       "      <th></th>\n",
       "      <th>CriteriaID</th>\n",
       "      <th>ParentID</th>\n",
       "    </tr>\n",
       "  </thead>\n",
       "  <tbody>\n",
       "    <tr>\n",
       "      <th>count</th>\n",
       "      <td>86460.000000</td>\n",
       "      <td>86225.000000</td>\n",
       "    </tr>\n",
       "    <tr>\n",
       "      <th>mean</th>\n",
       "      <td>6163814.708027</td>\n",
       "      <td>199841.391453</td>\n",
       "    </tr>\n",
       "    <tr>\n",
       "      <th>std</th>\n",
       "      <td>3862852.852441</td>\n",
       "      <td>1260101.607985</td>\n",
       "    </tr>\n",
       "    <tr>\n",
       "      <th>min</th>\n",
       "      <td>2004.000000</td>\n",
       "      <td>2016.000000</td>\n",
       "    </tr>\n",
       "    <tr>\n",
       "      <th>25%</th>\n",
       "      <td>1022781.750000</td>\n",
       "      <td>20417.000000</td>\n",
       "    </tr>\n",
       "    <tr>\n",
       "      <th>50%</th>\n",
       "      <td>9012996.500000</td>\n",
       "      <td>21148.000000</td>\n",
       "    </tr>\n",
       "    <tr>\n",
       "      <th>75%</th>\n",
       "      <td>9040921.250000</td>\n",
       "      <td>21167.000000</td>\n",
       "    </tr>\n",
       "    <tr>\n",
       "      <th>max</th>\n",
       "      <td>9062587.000000</td>\n",
       "      <td>9062587.000000</td>\n",
       "    </tr>\n",
       "  </tbody>\n",
       "</table>\n",
       "</div>"
      ],
      "text/plain": [
       "           CriteriaID        ParentID\n",
       "count    86460.000000    86225.000000\n",
       "mean   6163814.708027   199841.391453\n",
       "std    3862852.852441  1260101.607985\n",
       "min       2004.000000     2016.000000\n",
       "25%    1022781.750000    20417.000000\n",
       "50%    9012996.500000    21148.000000\n",
       "75%    9040921.250000    21167.000000\n",
       "max    9062587.000000  9062587.000000"
      ]
     },
     "execution_count": 192,
     "metadata": {},
     "output_type": "execute_result"
    }
   ],
   "source": [
    "DATA_DIR = '../data/cities/'\n",
    "CITIES_FILE = DATA_DIR + 'google_global_cities.csv'\n",
    "\n",
    "df = pd.read_csv(CITIES_FILE)\n",
    "\n",
    "df.describe()"
   ]
  },
  {
   "cell_type": "code",
   "execution_count": 193,
   "metadata": {
    "collapsed": false
   },
   "outputs": [
    {
     "name": "stdout",
     "output_type": "stream",
     "text": [
      "<class 'pandas.core.frame.DataFrame'>\n",
      "Int64Index: 86460 entries, 0 to 86459\n",
      "Data columns (total 7 columns):\n",
      "CriteriaID       86460 non-null int64\n",
      "Name             86460 non-null object\n",
      "CanonicalName    86460 non-null object\n",
      "ParentID         86225 non-null float64\n",
      "CountryCode      86459 non-null object\n",
      "TargetType       86460 non-null object\n",
      "Status           86460 non-null object\n",
      "dtypes: float64(1), int64(1), object(5)\n",
      "memory usage: 5.3+ MB\n"
     ]
    }
   ],
   "source": [
    "df.info()"
   ]
  },
  {
   "cell_type": "markdown",
   "metadata": {},
   "source": [
    "NB - Pandas doesn't construct columns if there is a space in the name"
   ]
  },
  {
   "cell_type": "code",
   "execution_count": 194,
   "metadata": {
    "collapsed": false
   },
   "outputs": [
    {
     "data": {
      "text/plain": [
       "array(['City', 'Municipality', 'Neighborhood', 'County', 'Borough',\n",
       "       'University', 'Airport', 'Province', 'State', 'Country',\n",
       "       'DMA Region', 'Territory', 'Canton', 'Region',\n",
       "       'Autonomous Community', 'Union Territory', 'Prefecture',\n",
       "       'Governorate', 'Postal Code', 'Congressional District',\n",
       "       'Department', 'TV Region', 'Okrug', 'City Region', 'District'], dtype=object)"
      ]
     },
     "execution_count": 194,
     "metadata": {},
     "output_type": "execute_result"
    }
   ],
   "source": [
    "pd.unique(df.TargetType.ravel())"
   ]
  },
  {
   "cell_type": "code",
   "execution_count": 221,
   "metadata": {
    "collapsed": false
   },
   "outputs": [
    {
     "data": {
      "text/plain": [
       "array(['AE', 'AR', 'AU', 'AT', 'BE', 'BG', 'BR', 'CA', 'CH', 'CL', 'CN',\n",
       "       'CO', 'CZ', 'DE', 'DK', 'EG', 'ES', 'FI', 'FR', 'GB', 'HR', 'HU',\n",
       "       'ID', 'IN', 'IE', 'IL', 'IT', 'JP', 'KR', 'MA', 'MX', 'MY', 'NG',\n",
       "       'NL', 'NO', 'NZ', 'PK', 'PH', 'PL', 'PT', 'RO', 'RU', 'SA', 'SE',\n",
       "       'TH', 'TR', 'TW', 'UA', 'US', 'VN', 'ZA', 'EE', 'GR', 'LT', 'LV',\n",
       "       'PR', 'SI', 'SK'], dtype=object)"
      ]
     },
     "execution_count": 221,
     "metadata": {},
     "output_type": "execute_result"
    }
   ],
   "source": [
    "pd.unique(df.CountryCode.ravel())"
   ]
  },
  {
   "cell_type": "code",
   "execution_count": null,
   "metadata": {
    "collapsed": true
   },
   "outputs": [],
   "source": [
    "df = df[df.TargetType.isin( ['City'] )]"
   ]
  },
  {
   "cell_type": "code",
   "execution_count": 222,
   "metadata": {
    "collapsed": true
   },
   "outputs": [],
   "source": [
    "df = df[df.CountryCode.isin( ['GB'] )]"
   ]
  },
  {
   "cell_type": "code",
   "execution_count": 242,
   "metadata": {
    "collapsed": false,
    "scrolled": true
   },
   "outputs": [
    {
     "data": {
      "text/html": [
       "<div style=\"max-height:1000px;max-width:1500px;overflow:auto;\">\n",
       "<table border=\"1\" class=\"dataframe\">\n",
       "  <thead>\n",
       "    <tr style=\"text-align: right;\">\n",
       "      <th></th>\n",
       "      <th>CriteriaID</th>\n",
       "      <th>Name</th>\n",
       "      <th>CanonicalName</th>\n",
       "      <th>ParentID</th>\n",
       "      <th>CountryCode</th>\n",
       "      <th>TargetType</th>\n",
       "      <th>Status</th>\n",
       "      <th>FSqName</th>\n",
       "    </tr>\n",
       "  </thead>\n",
       "  <tbody>\n",
       "    <tr>\n",
       "      <th>5361</th>\n",
       "      <td>1006645</td>\n",
       "      <td>Coleford</td>\n",
       "      <td>Coleford,England,United Kingdom</td>\n",
       "      <td>20339</td>\n",
       "      <td>GB</td>\n",
       "      <td>City</td>\n",
       "      <td>Active</td>\n",
       "      <td>Coleford, England, United Kingdom</td>\n",
       "    </tr>\n",
       "    <tr>\n",
       "      <th>5543</th>\n",
       "      <td>1006827</td>\n",
       "      <td>Irlam</td>\n",
       "      <td>Irlam,England,United Kingdom</td>\n",
       "      <td>20339</td>\n",
       "      <td>GB</td>\n",
       "      <td>City</td>\n",
       "      <td>Active</td>\n",
       "      <td>Irlam, England, United Kingdom</td>\n",
       "    </tr>\n",
       "    <tr>\n",
       "      <th>5754</th>\n",
       "      <td>1007039</td>\n",
       "      <td>Rustington</td>\n",
       "      <td>Rustington,England,United Kingdom</td>\n",
       "      <td>20339</td>\n",
       "      <td>GB</td>\n",
       "      <td>City</td>\n",
       "      <td>Active</td>\n",
       "      <td>Rustington, England, United Kingdom</td>\n",
       "    </tr>\n",
       "    <tr>\n",
       "      <th>5281</th>\n",
       "      <td>1006565</td>\n",
       "      <td>Brighton</td>\n",
       "      <td>Brighton,England,United Kingdom</td>\n",
       "      <td>20339</td>\n",
       "      <td>GB</td>\n",
       "      <td>City</td>\n",
       "      <td>Active</td>\n",
       "      <td>Brighton, England, United Kingdom</td>\n",
       "    </tr>\n",
       "    <tr>\n",
       "      <th>5671</th>\n",
       "      <td>1006955</td>\n",
       "      <td>North Shields</td>\n",
       "      <td>North Shields,England,United Kingdom</td>\n",
       "      <td>20339</td>\n",
       "      <td>GB</td>\n",
       "      <td>City</td>\n",
       "      <td>Active</td>\n",
       "      <td>North Shields, England, United Kingdom</td>\n",
       "    </tr>\n",
       "    <tr>\n",
       "      <th>5831</th>\n",
       "      <td>1007117</td>\n",
       "      <td>Stockley</td>\n",
       "      <td>Stockley,England,United Kingdom</td>\n",
       "      <td>20339</td>\n",
       "      <td>GB</td>\n",
       "      <td>City</td>\n",
       "      <td>Active</td>\n",
       "      <td>Stockley, England, United Kingdom</td>\n",
       "    </tr>\n",
       "    <tr>\n",
       "      <th>5932</th>\n",
       "      <td>1007218</td>\n",
       "      <td>Westhoughton</td>\n",
       "      <td>Westhoughton,England,United Kingdom</td>\n",
       "      <td>20339</td>\n",
       "      <td>GB</td>\n",
       "      <td>City</td>\n",
       "      <td>Active</td>\n",
       "      <td>Westhoughton, England, United Kingdom</td>\n",
       "    </tr>\n",
       "    <tr>\n",
       "      <th>5883</th>\n",
       "      <td>1007169</td>\n",
       "      <td>Titchfield</td>\n",
       "      <td>Titchfield,England,United Kingdom</td>\n",
       "      <td>20339</td>\n",
       "      <td>GB</td>\n",
       "      <td>City</td>\n",
       "      <td>Active</td>\n",
       "      <td>Titchfield, England, United Kingdom</td>\n",
       "    </tr>\n",
       "    <tr>\n",
       "      <th>5453</th>\n",
       "      <td>1006737</td>\n",
       "      <td>Geddington</td>\n",
       "      <td>Geddington,England,United Kingdom</td>\n",
       "      <td>20339</td>\n",
       "      <td>GB</td>\n",
       "      <td>City</td>\n",
       "      <td>Active</td>\n",
       "      <td>Geddington, England, United Kingdom</td>\n",
       "    </tr>\n",
       "    <tr>\n",
       "      <th>5674</th>\n",
       "      <td>1006958</td>\n",
       "      <td>Northallerton</td>\n",
       "      <td>Northallerton,England,United Kingdom</td>\n",
       "      <td>20339</td>\n",
       "      <td>GB</td>\n",
       "      <td>City</td>\n",
       "      <td>Active</td>\n",
       "      <td>Northallerton, England, United Kingdom</td>\n",
       "    </tr>\n",
       "  </tbody>\n",
       "</table>\n",
       "</div>"
      ],
      "text/plain": [
       "      CriteriaID           Name                         CanonicalName  \\\n",
       "5361     1006645       Coleford       Coleford,England,United Kingdom   \n",
       "5543     1006827          Irlam          Irlam,England,United Kingdom   \n",
       "5754     1007039     Rustington     Rustington,England,United Kingdom   \n",
       "5281     1006565       Brighton       Brighton,England,United Kingdom   \n",
       "5671     1006955  North Shields  North Shields,England,United Kingdom   \n",
       "5831     1007117       Stockley       Stockley,England,United Kingdom   \n",
       "5932     1007218   Westhoughton   Westhoughton,England,United Kingdom   \n",
       "5883     1007169     Titchfield     Titchfield,England,United Kingdom   \n",
       "5453     1006737     Geddington     Geddington,England,United Kingdom   \n",
       "5674     1006958  Northallerton  Northallerton,England,United Kingdom   \n",
       "\n",
       "      ParentID CountryCode TargetType  Status  \\\n",
       "5361     20339          GB       City  Active   \n",
       "5543     20339          GB       City  Active   \n",
       "5754     20339          GB       City  Active   \n",
       "5281     20339          GB       City  Active   \n",
       "5671     20339          GB       City  Active   \n",
       "5831     20339          GB       City  Active   \n",
       "5932     20339          GB       City  Active   \n",
       "5883     20339          GB       City  Active   \n",
       "5453     20339          GB       City  Active   \n",
       "5674     20339          GB       City  Active   \n",
       "\n",
       "                                     FSqName  \n",
       "5361       Coleford, England, United Kingdom  \n",
       "5543          Irlam, England, United Kingdom  \n",
       "5754     Rustington, England, United Kingdom  \n",
       "5281       Brighton, England, United Kingdom  \n",
       "5671  North Shields, England, United Kingdom  \n",
       "5831       Stockley, England, United Kingdom  \n",
       "5932   Westhoughton, England, United Kingdom  \n",
       "5883     Titchfield, England, United Kingdom  \n",
       "5453     Geddington, England, United Kingdom  \n",
       "5674  Northallerton, England, United Kingdom  "
      ]
     },
     "execution_count": 242,
     "metadata": {},
     "output_type": "execute_result"
    }
   ],
   "source": [
    "df2 = df.ix[sample(df.index,10)]\n",
    "df2"
   ]
  },
  {
   "cell_type": "code",
   "execution_count": 238,
   "metadata": {
    "collapsed": false
   },
   "outputs": [],
   "source": [
    "df['FSqName'] = df.CanonicalName.str.replace(',', ', ')"
   ]
  },
  {
   "cell_type": "code",
   "execution_count": 246,
   "metadata": {
    "collapsed": false
   },
   "outputs": [
    {
     "data": {
      "text/plain": [
       "979"
      ]
     },
     "execution_count": 246,
     "metadata": {},
     "output_type": "execute_result"
    }
   ],
   "source": [
    "len(df)"
   ]
  },
  {
   "cell_type": "markdown",
   "metadata": {},
   "source": [
    "##Data - Query Foursquare"
   ]
  },
  {
   "cell_type": "code",
   "execution_count": 116,
   "metadata": {
    "collapsed": true
   },
   "outputs": [],
   "source": [
    "CLIENT_ID = 'ILD0TB12XNHPLVGIFY5O3RCEQG30D0JRHZX0PANKWMHKC2WS'\n",
    "CLIENT_SECRET = 'VFDNL2QOVEWZG5TN51TPEOTNJ0BI0ZD351B4FWGE2ARCYYMD'\n",
    "VERSION = '20140801'"
   ]
  },
  {
   "cell_type": "code",
   "execution_count": 259,
   "metadata": {
    "collapsed": false
   },
   "outputs": [],
   "source": [
    "import urllib2\n",
    "import json\n",
    "\n",
    "foursq_url_name = 'https://api.foursquare.com/v2/venues/explore?client_id=%s&client_secret=%s&v=%s&near=%s'\n",
    "\n",
    "foursq_url_ll = 'https://api.foursquare.com/v2/venues/explore?client_id=%s&client_secret=%s&v=%s&ll=%s'\n",
    "\n",
    "\n",
    "def getVenuesByName(near):\n",
    "    url = foursq_url_name % (CLIENT_ID, CLIENT_SECRET, VERSION, near)  \n",
    "    venueCategoryList = []    \n",
    "    \n",
    "    try:\n",
    "        response = urllib2.urlopen(url)\n",
    "        data = json.load(response)\n",
    "    \n",
    "        items = data['response']['groups'][0]['items']\n",
    "\n",
    "        for item in items:\n",
    "            name = item['venue']['name']\n",
    "            rating = item['venue']['rating']\n",
    "            for category in item['venue']['categories']:\n",
    "                if (category['primary'] == True):\n",
    "                    venueCategoryList.append(category['name'])\n",
    "    except:\n",
    "        return venueCategoryList            \n",
    "\n",
    "    else:\n",
    "        return venueCategoryList            \n",
    "\n"
   ]
  },
  {
   "cell_type": "code",
   "execution_count": 270,
   "metadata": {
    "collapsed": false,
    "scrolled": true
   },
   "outputs": [
    {
     "name": "stdout",
     "output_type": "stream",
     "text": [
      "Newcastle, Northern Ireland, United Kingdom -> \n",
      "[u'Caf\\xe9', u'Caf\\xe9', u'Beer Garden', u'Caf\\xe9', u'Park', u'Caf\\xe9', u'Theater', u'Spanish Restaurant', u'Bar', u'Coffee Shop', u'Wine Bar', u'Asian Restaurant', u'Caf\\xe9', u'Asian Restaurant', u'Beach', u'Museum', u'Ice Cream Shop', u'Pizza Place', u'Caf\\xe9', u'Caf\\xe9', u'Caf\\xe9', u'Bar', u'Caf\\xe9', u'Bar', u'Caf\\xe9', u'Flea Market', u'Caf\\xe9', u'Restaurant', u'Bar', u'Caf\\xe9']\n",
      "Shepperton, England, United Kingdom -> \n",
      "[u'Garden Center', u'Performing Arts Venue', u'Pub', u'Coffee Shop', u'Indie Movie Theater', u'Pub', u'Pub', u'Italian Restaurant', u'Pub', u'Gastropub', u'Pub', u'Theme Park', u'Theme Park Ride / Attraction', u'Coffee Shop', u'Theme Park Ride / Attraction', u'Asian Restaurant', u'Theme Park Ride / Attraction', u'Theme Park Ride / Attraction', u'Theme Park Ride / Attraction', u'Japanese Restaurant', u'Pub', u'Coffee Shop', u'Italian Restaurant', u'Museum', u'Portuguese Restaurant', u'Racetrack', u'Breakfast Spot', u'Indian Restaurant', u'Supermarket', u'Pub']\n",
      "Stamford, England, United Kingdom -> \n",
      "[u'Supermarket', u'Coffee Shop', u'Brewery', u'Spanish Restaurant', u'Pizza Place', u'Pizza Place', u'Pizza Place', u'Moroccan Restaurant', u'Grocery Store', u'Bar', u'American Restaurant', u'Athletics & Sports', u'Mexican Restaurant', u'History Museum', u'Wine Bar', u'Deli / Bodega', u'Italian Restaurant', u'Bagel Shop', u'Beach', u'Italian Restaurant', u'Falafel Restaurant', u'Park', u'American Restaurant', u'American Restaurant', u'Sushi Restaurant', u'Dance Studio', u'Mexican Restaurant', u'Beach', u'Burger Joint', u'Middle Eastern Restaurant']\n",
      "Newport, England, United Kingdom -> \n",
      "[u'Trail', u'Historic Site', u'Park', u'American Restaurant', u'Historic Site', u'Mexican Restaurant', u'Coffee Shop', u'Park', u'Seafood Restaurant', u'Mexican Restaurant', u'Bar', u'American Restaurant', u'American Restaurant', u'Breakfast Spot', u'Pub', u'Beach', u'Historic Site', u'American Restaurant', u'Asian Restaurant', u'Bar', u'Historic Site', u'Bakery', u'Breakfast Spot', u'Italian Restaurant', u'Seafood Restaurant', u'Pub', u'Museum', u'Diner', u'Coffee Shop', u'Caf\\xe9']\n",
      "Liphook, England, United Kingdom -> \n",
      "[u'Coffee Shop', u'Spa']\n"
     ]
    }
   ],
   "source": [
    "df2 = df.ix[sample(df.index,5)]\n",
    "df2\n",
    "\n",
    "for row in df2.values:\n",
    "    city = row[7]\n",
    "    city_features = getVenuesByName(city)\n",
    "    \n",
    "    print city + \" -> \"\n",
    "    print city_features"
   ]
  },
  {
   "cell_type": "code",
   "execution_count": 260,
   "metadata": {
    "collapsed": false
   },
   "outputs": [],
   "source": [
    "\n",
    "a = getVenuesByName('Brighton, England, United Kingdom')\n",
    "b = getVenuesByName('Chicago, IL, United States')\n",
    "\n"
   ]
  },
  {
   "cell_type": "code",
   "execution_count": 261,
   "metadata": {
    "collapsed": false
   },
   "outputs": [
    {
     "name": "stdout",
     "output_type": "stream",
     "text": [
      "[u'Sushi Restaurant', u'American Restaurant', u'Multiplex', u'Pub', u'Italian Restaurant', u'Coffee Shop', u'Bakery', u'American Restaurant', u'American Restaurant', u'New American Restaurant', u'Brewery', u'Sandwich Place', u'Dive Bar', u'Department Store', u'Mediterranean Restaurant', u'Steakhouse', u'Pet Store', u'Department Store', u'Japanese Restaurant', u'Dessert Shop', u'Greek Restaurant', u'Breakfast Spot', u'Burger Joint', u'Coffee Shop', u'Breakfast Spot', u'Mexican Restaurant', u'Burger Joint', u'Fast Food Restaurant', u'American Restaurant', u'Supermarket']\n",
      "--\n",
      "[u'Park', u'Theater', u'Art Museum', u'Park', u'Farmers Market', u'Public Art', u'Comedy Club', u'Coffee Shop', u'Caf\\xe9', u'Brewery', u'Trail', u'Concert Hall', u'New American Restaurant', u'Science Museum', u'Bar', u'Seafood Restaurant', u'Mexican Restaurant', u'Pizza Place', u'Brewery', u'Indie Movie Theater', u'Pie Shop', u'New American Restaurant', u'Stadium', u'Cuban Restaurant', u'Tapas Restaurant', u'Gastropub', u'Grocery Store', u'Korean Restaurant', u'Seafood Restaurant', u'Coffee Shop']\n"
     ]
    }
   ],
   "source": [
    "\n",
    "print a\n",
    "\n",
    "print \"--\"\n",
    "\n",
    "print b\n"
   ]
  },
  {
   "cell_type": "markdown",
   "metadata": {},
   "source": [
    "[u'Concert Hall', u'Baseball Stadium', u'Park', u'Botanical Garden', u'Coffee Shop', u'Performing Arts Venue', u'Plaza', u'Pub', u'Hockey Arena', u'Bar', u'Gastropub', u'Ice Cream Shop', u'Brewery', u'History Museum', u'Indie Movie Theater', u'Mexican Restaurant', u'Burger Joint', u'Zoo', u'Caribbean Restaurant', u'History Museum', u'Museum', u'Hot Dog Joint', u'Diner', u'Distillery', u'Park', u'Science Museum', u'Breakfast Spot', u'Diner', u'German Restaurant', u'Coffee Shop']\n",
    "--\n",
    "[u'Park', u'Theater', u'Art Museum', u'Park', u'Farmers Market', u'Public Art', u'Comedy Club', u'Coffee Shop', u'Caf\\xe9', u'Brewery', u'Trail', u'Concert Hall', u'New American Restaurant', u'Science Museum', u'Bar', u'Seafood Restaurant', u'Mexican Restaurant', u'Pizza Place', u'Brewery', u'Indie Movie Theater', u'Pie Shop', u'New American Restaurant', u'Stadium', u'Cuban Restaurant', u'Tapas Restaurant', u'Gastropub', u'Grocery Store', u'Korean Restaurant', u'Seafood Restaurant', u'Coffee Shop']"
   ]
  },
  {
   "cell_type": "code",
   "execution_count": 148,
   "metadata": {
    "collapsed": false
   },
   "outputs": [
    {
     "name": "stdout",
     "output_type": "stream",
     "text": [
      "0.0\n"
     ]
    }
   ],
   "source": [
    "import numpy as np\n",
    "from sklearn.metrics import jaccard_similarity_score\n",
    "\n",
    "print jaccard_similarity_score(a, b)"
   ]
  },
  {
   "cell_type": "code",
   "execution_count": null,
   "metadata": {
    "collapsed": true
   },
   "outputs": [],
   "source": []
  }
 ],
 "metadata": {
  "kernelspec": {
   "display_name": "Python 2",
   "language": "python",
   "name": "python2"
  },
  "language_info": {
   "codemirror_mode": {
    "name": "ipython",
    "version": 2
   },
   "file_extension": ".py",
   "mimetype": "text/x-python",
   "name": "python",
   "nbconvert_exporter": "python",
   "pygments_lexer": "ipython2",
   "version": "2.7.9"
  }
 },
 "nbformat": 4,
 "nbformat_minor": 0
}
