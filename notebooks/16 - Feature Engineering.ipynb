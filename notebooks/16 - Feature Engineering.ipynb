{
 "cells": [
  {
   "cell_type": "code",
   "execution_count": 1,
   "metadata": {
    "collapsed": false
   },
   "outputs": [
    {
     "data": {
      "application/javascript": [
       "\n",
       "    window.load_remote_theme = false;\n",
       "    window.theme_url = \"https://drostehk.github.io/ipynb-theme/\";\n",
       "    window.asset_url = \"https://raw.githubusercontent.com/tijptjik/DS_assets/master/\";\n",
       "\n",
       "    window.load_local_theme = function(){\n",
       "        var hostname = document.location.hostname\n",
       "        return ((hostname == \"localhost\" || hostname == '127.0.0.1') && !load_remote_theme)\n",
       "    }\n",
       "\n",
       "    var url = load_local_theme() ? document.location.origin + \"/files/theme/custom.js\" : theme_url + 'custom.js'\n",
       "\n",
       "    $.getScript(url)"
      ],
      "text/plain": [
       "<IPython.core.display.Javascript object>"
      ]
     },
     "metadata": {},
     "output_type": "display_data"
    }
   ],
   "source": [
    "%%javascript\n",
    "\n",
    "    window.load_remote_theme = false;\n",
    "    window.theme_url = \"https://drostehk.github.io/ipynb-theme/\";\n",
    "    window.asset_url = \"https://raw.githubusercontent.com/tijptjik/DS_assets/master/\";\n",
    "\n",
    "    window.load_local_theme = function(){\n",
    "        var hostname = document.location.hostname\n",
    "        return ((hostname == \"localhost\" || hostname == '127.0.0.1') && !load_remote_theme)\n",
    "    }\n",
    "\n",
    "    var url = load_local_theme() ? document.location.origin + \"/files/theme/custom.js\" : theme_url + 'custom.js'\n",
    "\n",
    "    $.getScript(url)"
   ]
  },
  {
   "cell_type": "markdown",
   "metadata": {},
   "source": [
    "# Feature Engineering"
   ]
  },
  {
   "cell_type": "markdown",
   "metadata": {},
   "source": [
    ">  Features are easily the most important factor in determining the success of a machine learning project,"
   ]
  },
  {
   "cell_type": "markdown",
   "metadata": {},
   "source": [
    "## Why do Feature Engineering?"
   ]
  },
  {
   "cell_type": "markdown",
   "metadata": {},
   "source": [
    "Feature engineering is the process of transforming raw data into features that better represent the underlying problem to the predictive models, resulting in improved model accuracy on unseen data. Machine learning algorithms learn a solution to a problem from sample data. In this context, feature engineering asks: what is the best representation of the sample data to learn a solution to your problem?"
   ]
  },
  {
   "cell_type": "markdown",
   "metadata": {},
   "source": [
    "![](assets/features-in-ML.jpg)"
   ]
  },
  {
   "cell_type": "markdown",
   "metadata": {},
   "source": [
    "* Better features means **better results** - Since the success of all Machine Learning algorithms depends on how you present the data, better features will give you better results.\n",
    "* Better features means **flexibility** - You can choose “the wrong models” (less than optimal) and still get good results. Most models can pick up on good structure in data. The flexibility of good features will allow you to use less complex models that are faster to run, easier to understand and easier to maintain. This is very desirable.\n",
    "* Better features means **simpler models** - With well engineered features, you can choose “the wrong parameters” (less than optimal) and still get good results, for much the same reasons. You do not need to work as hard to pick the right models and the most optimized parameters. With good features, you are closer to the underlying problem and a representation of all the data you have available and could use to best characterize that underlying problem."
   ]
  },
  {
   "cell_type": "markdown",
   "metadata": {},
   "source": [
    "## Defining the Feature"
   ]
  },
  {
   "cell_type": "markdown",
   "metadata": {},
   "source": [
    "Tabular data is described in terms of observations or instances (rows) that are made up of variables or attributes (columns). An attribute _could_ be a feature. The idea of a feature, separate from an attribute, makes more sense in the context of a problem. **A feature is an attribute that is useful or meaningful to your problem**. It is an important part of an observation for learning about the structure of the problem that is being modeled."
   ]
  },
  {
   "cell_type": "markdown",
   "metadata": {},
   "source": [
    "![](assets/62020_wl_compvision_fig1_wl.jpg)"
   ]
  },
  {
   "cell_type": "markdown",
   "metadata": {},
   "source": [
    "In computer vision, an image is an observation, but a feature could be a line in the image. In natural language processing, a document or a tweet could be an observation, and a phrase or word count could be a feature. In speech recognition, an utterance could be an observation, but a feature might be a single word or phoneme."
   ]
  },
  {
   "cell_type": "markdown",
   "metadata": {},
   "source": [
    "### Feature Scoring \n",
    "\n",
    "You can objectively estimate the usefulness of features. This can be helpful as a pre-cursor to selecting features. Features are allocated scores and can then be ranked by their scores. Those features with the highest scores can be selected for inclusion in the training dataset, whereas those remaining can be ignored. **A feature may be important if it is highly correlated with the dependent variable** (the thing being predicted). Correlation coefficients and other univariate (each attribute is considered independently) methods are common methods.\n"
   ]
  },
  {
   "cell_type": "markdown",
   "metadata": {},
   "source": [
    "### When to do Feature Engineering?"
   ]
  },
  {
   "cell_type": "markdown",
   "metadata": {},
   "source": [
    "A picture relevant to our discussion on feature engineering is the stage at which it happens:\n",
    "\n",
    "1. (tasks before here…)\n",
    "1. **Select Data**: Integrate data, de-normalize it into a dataset, collect it together.\n",
    "1. **Preprocess Data**: Format it, clean it, sample it so you can work with it.\n",
    "1. **Transform Data**: Feature Engineer happens here.\n",
    "1. **Model Data**: Create models, evaluate them and tune them.\n",
    "1. (tasks after here…)\n",
    "\n",
    "We may have to go back through these steps as we identify new perspectives on the data. For example, we may have an attribute that is an aggregate field, like a sum. Rather than a single sum, we may decide to create features to describe the quantity by time interval, such as season. We need to step backward in the process through `Preprocessing` and even `Selecting data` to get access to the “real raw data” and create this feature."
   ]
  },
  {
   "cell_type": "markdown",
   "metadata": {},
   "source": [
    "### How to approach Feature Engineering?"
   ]
  },
  {
   "cell_type": "markdown",
   "metadata": {},
   "source": [
    "1. **Brainstorm features** : Really get into the problem, look at a lot of data, study feature engineering on other problems and see what you can steal.\n",
    "1. **Devise features**: Depends on your problem, but you may use automatic feature extraction, manual feature construction and mixtures of the two.\n",
    "1. **Select features**: Use different feature importance scorings and feature selection methods to prepare one or more “views” for your models to operate upon.\n",
    "1. **Evaluate models**: Estimate model accuracy on unseen data using the chosen features."
   ]
  },
  {
   "cell_type": "markdown",
   "metadata": {},
   "source": [
    "## Feature Selection"
   ]
  },
  {
   "cell_type": "markdown",
   "metadata": {},
   "source": [
    "Those attributes that are irrelevant to the problem need to be removed. There will be some features that will be more important than others to the model accuracy. There will also be features that will be redundant in the context of other features. Feature selection addresses these problems by **automatically selecting a subset that are most useful to the problem**. Feature selection algorithms may use a scoring method to rank and choose features, such as correlation or other feature importance methods."
   ]
  },
  {
   "cell_type": "markdown",
   "metadata": {},
   "source": [
    "### Remove Redundant Features"
   ]
  },
  {
   "cell_type": "markdown",
   "metadata": {},
   "source": [
    "Data can contain attributes that are highly correlated with each other. Many methods perform better if highly correlated attributes are removed. We'll write a function, `findCorrelation` which will analyze a correlation matrix of your data’s attributes report on attributes that can be removed.\n",
    "\n",
    "The following example loads the Pima Indians Diabetes dataset that contains a number of biological attributes from medical reports. A correlation matrix is created from these attributes and highly correlated attributes are identified."
   ]
  },
  {
   "cell_type": "code",
   "execution_count": 2,
   "metadata": {
    "collapsed": true
   },
   "outputs": [],
   "source": [
    "%matplotlib inline"
   ]
  },
  {
   "cell_type": "code",
   "execution_count": 3,
   "metadata": {
    "collapsed": false
   },
   "outputs": [
    {
     "name": "stdout",
     "output_type": "stream",
     "text": [
      "<class 'pandas.core.frame.DataFrame'>\n",
      "Int64Index: 768 entries, 0 to 767\n",
      "Data columns (total 9 columns):\n",
      "preg     768 non-null int64\n",
      "plas     768 non-null int64\n",
      "pres     768 non-null int64\n",
      "skin     768 non-null int64\n",
      "test     768 non-null int64\n",
      "mass     768 non-null float64\n",
      "pedi     768 non-null float64\n",
      "age      768 non-null int64\n",
      "class    768 non-null int64\n",
      "dtypes: float64(2), int64(7)\n",
      "memory usage: 60.0 KB\n"
     ]
    }
   ],
   "source": [
    "import numpy as np\n",
    "import pandas as pd\n",
    "# URL for the Pima Indians Diabetes dataset (UCI Machine Learning Repository)\n",
    "url = \"http://goo.gl/j0Rvxq\"\n",
    "names = ['preg', 'plas', 'pres', 'skin', 'test', 'mass', 'pedi', 'age', 'class']\n",
    "# download the file\n",
    "df = pd.read_csv(url, names=names)\n",
    "df.info()"
   ]
  },
  {
   "cell_type": "code",
   "execution_count": 4,
   "metadata": {
    "collapsed": false
   },
   "outputs": [
    {
     "data": {
      "image/png": "[encoded data removed]",
      "text/plain": [
       "<matplotlib.figure.Figure at 0x7f0e1214fa90>"
      ]
     },
     "metadata": {},
     "output_type": "display_data"
    }
   ],
   "source": [
    "import numpy as np\n",
    "import seaborn as sns\n",
    "import matplotlib.pyplot as plt\n",
    "sns.set(style=\"darkgrid\")\n",
    "\n",
    "f, ax = plt.subplots(figsize=(9, 9))\n",
    "cmap = sns.diverging_palette(220, 10, as_cmap=True)\n",
    "sns.corrplot(df, annot=False, sig_stars=False,\n",
    "             diag_names=False, cmap=cmap, ax=ax);"
   ]
  },
  {
   "cell_type": "code",
   "execution_count": 5,
   "metadata": {
    "collapsed": true
   },
   "outputs": [],
   "source": [
    "def findCorrelation(df,threshold=0.5):\n",
    "    cor = df.corr()\n",
    "    cor.loc[:,:] = np.tril(cor.values, k=-1)\n",
    "    cor = cor.stack()\n",
    "    return cor[cor > threshold]"
   ]
  },
  {
   "cell_type": "code",
   "execution_count": 6,
   "metadata": {
    "collapsed": false
   },
   "outputs": [
    {
     "data": {
      "text/plain": [
       "age  preg    0.544341\n",
       "dtype: float64"
      ]
     },
     "execution_count": 6,
     "metadata": {},
     "output_type": "execute_result"
    }
   ],
   "source": [
    "findCorrelation(df, 0.5)"
   ]
  },
  {
   "cell_type": "markdown",
   "metadata": {},
   "source": [
    "in this case the age attribute is remove as it correlates highly with the pregnant attribute.\n",
    "\n",
    "Generally, you want to remove attributes with an absolute correlation of 0.75 or higher."
   ]
  },
  {
   "cell_type": "markdown",
   "metadata": {},
   "source": [
    "### Rank Features By Importance\n",
    "\n",
    "The importance of features can be estimated from data by building a model. Some methods like decision trees have a built in mechanism to report on variable importance. For other algorithms, the importance can be estimated using a ROC curve analysis conducted for each attribute.\n",
    "\n",
    "The example below loads the Pima Indians Diabetes dataset and constructs an ExtraTrees (ET) model. The `feature_importances_` is then used to estimate the variable importance, which is printed and plotted."
   ]
  },
  {
   "cell_type": "code",
   "execution_count": 7,
   "metadata": {
    "collapsed": false
   },
   "outputs": [],
   "source": [
    "X = df.iloc[:,:-1]\n",
    "y = df.iloc[:,-1]"
   ]
  },
  {
   "cell_type": "code",
   "execution_count": 8,
   "metadata": {
    "collapsed": false
   },
   "outputs": [
    {
     "data": {
      "text/plain": [
       "Index([u'plas', u'age', u'mass', u'pedi', u'preg', u'pres', u'skin', u'test'], dtype='object')"
      ]
     },
     "execution_count": 8,
     "metadata": {},
     "output_type": "execute_result"
    }
   ],
   "source": [
    "df.ix[:, [1, 7, 5, 6, 0, 2, 3, 4]].columns"
   ]
  },
  {
   "cell_type": "code",
   "execution_count": 9,
   "metadata": {
    "collapsed": false
   },
   "outputs": [
    {
     "name": "stdout",
     "output_type": "stream",
     "text": [
      "Feature ranking:\n",
      "1. feature plas (0.233980)\n",
      "2. feature age (0.143583)\n",
      "3. feature mass (0.142423)\n",
      "4. feature pedi (0.117021)\n",
      "5. feature preg (0.108078)\n",
      "6. feature pres (0.099023)\n",
      "7. feature skin (0.080832)\n",
      "8. feature test (0.075060)\n"
     ]
    },
    {
     "data": {
      "image/png": "[encoded data removed]",
      "text/plain": [
       "<matplotlib.figure.Figure at 0x7f0e05c7fa10>"
      ]
     },
     "metadata": {},
     "output_type": "display_data"
    }
   ],
   "source": [
    "from sklearn.ensemble import ExtraTreesClassifier\n",
    "\n",
    "# Build a classification task\n",
    "X = df.iloc[:,:-1]\n",
    "y = df.iloc[:,-1]\n",
    "\n",
    "# Build a forest and compute the feature importances\n",
    "forest = ExtraTreesClassifier(n_estimators=250,\n",
    "                              random_state=0)\n",
    "\n",
    "forest.fit(X, y)\n",
    "importances = forest.feature_importances_\n",
    "std = np.std([tree.feature_importances_ for tree in forest.estimators_],\n",
    "             axis=0)\n",
    "indices = np.argsort(importances)[::-1]\n",
    "\n",
    "x_labels = df.ix[:, [1, 7, 5, 6, 0, 2, 3, 4]].columns\n",
    "\n",
    "# Print the feature ranking\n",
    "print \"Feature ranking:\"\n",
    "\n",
    "for f in xrange(8):\n",
    "    print \"%d. feature %s (%f)\" % (f + 1, x_labels[f], importances[indices[f]])\n",
    "\n",
    "# Plot the feature importances of the forest\n",
    "import pylab as pl\n",
    "pl.figure()\n",
    "pl.title(\"Feature importances\")\n",
    "pl.bar(xrange(8), importances[indices],\n",
    "       color=\"r\", yerr=std[indices], align=\"center\")\n",
    "\n",
    "\n",
    "pl.xticks(xrange(8), x_labels)\n",
    "pl.xlim([-1, 8])\n",
    "pl.xticks\n",
    "pl.show()"
   ]
  },
  {
   "cell_type": "markdown",
   "metadata": {},
   "source": [
    "It shows that the `plas`, `age` and `mass` attributes are the top 3 most important attributes in the dataset and the `test` attribute is the least important."
   ]
  },
  {
   "cell_type": "markdown",
   "metadata": {},
   "source": [
    "### Automatic Feature Selection\n",
    "\n",
    "Automatic feature selection methods can be used to build many models with different subsets of a dataset and identify those attributes that are and are not required to build an accurate model. A popular automatic method for feature selection provided by SciKit Learn which is called **Recursive Feature Elimination Cross Validation** (RFECV).\n",
    "\n",
    "The example below provides an example of the RFE method on the Pima Indians Diabetes dataset. A Random Forest algorithm is used on each iteration to evaluate the model. The algorithm is configured to explore all possible subsets of the attributes. All 8 attributes are selected in this example, although in the plot showing the accuracy of the different attribute subset sizes, we can see that just 4 attributes gives almost comparable results."
   ]
  },
  {
   "cell_type": "code",
   "execution_count": 10,
   "metadata": {
    "collapsed": false,
    "scrolled": false
   },
   "outputs": [
    {
     "name": "stdout",
     "output_type": "stream",
     "text": [
      "Fitting estimator with 8 features.\n",
      "Fitting estimator with 7 features.\n",
      "Fitting estimator with 6 features.\n",
      "Fitting estimator with 5 features.\n",
      "Fitting estimator with 4 features.\n",
      "Fitting estimator with 3 features.\n",
      "Fitting estimator with 2 features.\n",
      "Finished fold with 1 / 8 feature ranks, score=0.719239\n",
      "Finished fold with 2 / 8 feature ranks, score=0.769985\n",
      "Finished fold with 3 / 8 feature ranks, score=0.793104\n",
      "Finished fold with 4 / 8 feature ranks, score=0.799642\n",
      "Finished fold with 5 / 8 feature ranks, score=0.806955\n",
      "Finished fold with 6 / 8 feature ranks, score=0.805343\n",
      "Finished fold with 7 / 8 feature ranks, score=0.806955\n",
      "Finished fold with 8 / 8 feature ranks, score=0.807851\n",
      "Fitting estimator with 8 features.\n",
      "Fitting estimator with 7 features.\n",
      "Fitting estimator with 6 features.\n",
      "Fitting estimator with 5 features.\n",
      "Fitting estimator with 4 features.\n",
      "Fitting estimator with 3 features.\n",
      "Fitting estimator with 2 features.\n",
      "Finished fold with 1 / 8 feature ranks, score=0.762343\n",
      "Finished fold with 2 / 8 feature ranks, score=0.805672\n",
      "Finished fold with 3 / 8 feature ranks, score=0.821015\n",
      "Finished fold with 4 / 8 feature ranks, score=0.848299\n",
      "Finished fold with 5 / 8 feature ranks, score=0.854537\n",
      "Finished fold with 6 / 8 feature ranks, score=0.859015\n",
      "Finished fold with 7 / 8 feature ranks, score=0.863075\n",
      "Finished fold with 8 / 8 feature ranks, score=0.864657\n"
     ]
    }
   ],
   "source": [
    "from sklearn.ensemble import RandomForestClassifier\n",
    "from sklearn.feature_selection import RFECV\n",
    "\n",
    "class RandomForestClassifierWithCoef(RandomForestClassifier):\n",
    "    def fit(self, *args, **kwargs):\n",
    "        super(RandomForestClassifierWithCoef, self).fit(*args, **kwargs)\n",
    "        self.coef_ = self.feature_importances_\n",
    "\n",
    "rf = RandomForestClassifierWithCoef(n_estimators=500,\n",
    "                                        min_samples_leaf=5, n_jobs=-1)\n",
    "\n",
    "rfecv = RFECV(estimator=rf, step=1, cv=2, scoring='roc_auc', verbose=2)\n",
    "\n",
    "selector=rfecv.fit(X, y)"
   ]
  },
  {
   "cell_type": "code",
   "execution_count": 11,
   "metadata": {
    "collapsed": false
   },
   "outputs": [
    {
     "data": {
      "text/plain": [
       "8"
      ]
     },
     "execution_count": 11,
     "metadata": {},
     "output_type": "execute_result"
    }
   ],
   "source": [
    "selector.n_features_"
   ]
  },
  {
   "cell_type": "markdown",
   "metadata": {},
   "source": [
    "Here we've selected all features. Now let's try this on a synthetic dataset to show you what happens when features are dropped. The regression problem Friedman 1 as described in Friedman (1991) and Breiman (1996). Inputs are 10 independent variables uniformly distributed on the interval [0,1], only 5 out of these 10 are actually used. "
   ]
  },
  {
   "cell_type": "code",
   "execution_count": 12,
   "metadata": {
    "collapsed": false
   },
   "outputs": [
    {
     "name": "stdout",
     "output_type": "stream",
     "text": [
      "5\n",
      "[ True  True  True  True  True False False False False False]\n",
      "[1 1 1 1 1 6 4 3 2 5]\n"
     ]
    }
   ],
   "source": [
    "from sklearn.datasets import make_friedman1\n",
    "from sklearn.svm import SVR\n",
    "X, y = make_friedman1(n_samples=50, n_features=10, random_state=0)\n",
    "estimator = SVR(kernel=\"linear\")\n",
    "selector = RFECV(estimator, step=1, cv=5)\n",
    "selector = selector.fit(X, y)\n",
    "print selector.n_features_\n",
    "print selector.support_ \n",
    "print selector.ranking_"
   ]
  },
  {
   "cell_type": "markdown",
   "metadata": {},
   "source": [
    "## Feature Extraction"
   ]
  },
  {
   "cell_type": "markdown",
   "metadata": {},
   "source": [
    "Some observations are far too voluminous in their raw state to be modeled by predictive modeling algorithms directly. Feature extraction is a process of automatically reducing the dimensionality of these types of observations into a much smaller set that can be modelled. For tabular data, this might include projection methods like **Principal Component Analysis** and unsupervised **Clustering** methods."
   ]
  },
  {
   "cell_type": "markdown",
   "metadata": {},
   "source": [
    "## Clustering"
   ]
  },
  {
   "cell_type": "markdown",
   "metadata": {},
   "source": [
    "### Clustering for Understanding"
   ]
  },
  {
   "cell_type": "markdown",
   "metadata": {},
   "source": [
    "* Market Segmentation\n",
    "* [Social Network Analysis](https://immersion.media.mit.edu/viz)\n",
    "* Organising Computing Clusters\n",
    "* Astronomical Data Analysis"
   ]
  },
  {
   "cell_type": "markdown",
   "metadata": {},
   "source": [
    "#### Clustering for Utility"
   ]
  },
  {
   "cell_type": "markdown",
   "metadata": {},
   "source": [
    "* Summarization\n",
    "* Compression\n",
    "* Efficiently Finding Nearest Neighbours"
   ]
  },
  {
   "cell_type": "markdown",
   "metadata": {},
   "source": [
    "### Approach"
   ]
  },
  {
   "cell_type": "markdown",
   "metadata": {},
   "source": [
    "Think of a cluster as a “potential class”; then the solution to a clustering problem is to programatically determine these classes. The real purpose of clustering is data exploration, so a solution is anything that contributes to your understanding."
   ]
  },
  {
   "cell_type": "markdown",
   "metadata": {},
   "source": [
    "### $K$-Means Clustering"
   ]
  },
  {
   "cell_type": "markdown",
   "metadata": {},
   "source": [
    "A greedy learner that partitions a data set into $k$ clusters.\n",
    "\n",
    "* *greedy* – captures local structure (depends on initial conditions)\n",
    "* *partition* – performs complete clustering (each point belongs to\n",
    "exactly one cluster)\n",
    "\n"
   ]
  },
  {
   "cell_type": "markdown",
   "metadata": {},
   "source": [
    "### Partitions"
   ]
  },
  {
   "cell_type": "markdown",
   "metadata": {},
   "source": [
    "Each point is assigned to the cluster with the nearest centroid.\n",
    "\n",
    "*centroid* – the mean of the data points in a cluster\n",
    "  * requires continuous (vector-like) features, though see [TopSig](http://eprints.qut.edu.au/43451/) for a binary implementation\n",
    "  * highlights iterative nature of algorithm"
   ]
  },
  {
   "cell_type": "code",
   "execution_count": 13,
   "metadata": {
    "collapsed": false
   },
   "outputs": [
    {
     "data": {
      "text/html": [
       "<iframe src=\"http://bl.ocks.org/mbostock/raw/4060366/\" width=820 height=500></iframe>"
      ],
      "text/plain": [
       "<IPython.core.display.HTML object>"
      ]
     },
     "execution_count": 13,
     "metadata": {},
     "output_type": "execute_result"
    }
   ],
   "source": [
    "from IPython.display import HTML\n",
    "HTML('<iframe src=\"http://bl.ocks.org/mbostock/raw/4060366/\" width=820 height=500></iframe>')"
   ]
  },
  {
   "cell_type": "markdown",
   "metadata": {},
   "source": [
    "These partitions are sometimes called _Voronoi cells_, and these maps _Voronoi diagrams_."
   ]
  },
  {
   "cell_type": "markdown",
   "metadata": {},
   "source": [
    "![](assets/plot_kmeans_digits_1.png)"
   ]
  },
  {
   "cell_type": "markdown",
   "metadata": {},
   "source": [
    "One important point to keep in mind is that partitions are not scale-invariant! This means that the same data can yield very different clustering results depending on the scale and the units used. Therefore it’s important to think about your data representation before applying a clustering algorithm."
   ]
  },
  {
   "cell_type": "markdown",
   "metadata": {},
   "source": [
    "These graphs show two different representations of the same data:"
   ]
  },
  {
   "cell_type": "markdown",
   "metadata": {},
   "source": [
    "![](assets/kmeans_scale.png)"
   ]
  },
  {
   "cell_type": "markdown",
   "metadata": {},
   "source": [
    "#### How the $K$-means algorithm works"
   ]
  },
  {
   "cell_type": "markdown",
   "metadata": {},
   "source": [
    "![](assets/kmeans.gif)"
   ]
  },
  {
   "cell_type": "markdown",
   "metadata": {},
   "source": [
    "1. Selects $K$ centroids ($K$ rows chosen at random)\n",
    "1. Assigns each data point to its closest centroid\n",
    "1. Recalculates the centroids as the average of all data points in a cluster (i.e., the centroids are p-length mean vectors, where p is the number of variables)\n",
    "1. Assigns data points to their closest centroids\n",
    "1. Continues steps 3 and 4 until the observations are not reassigned or the maximum number of iterations (SciKit uses 300 as a default) is reached."
   ]
  },
  {
   "cell_type": "markdown",
   "metadata": {},
   "source": [
    "Implementation details for this approach can vary."
   ]
  },
  {
   "cell_type": "markdown",
   "metadata": {},
   "source": [
    "![](assets/kmeans.png)"
   ]
  },
  {
   "cell_type": "markdown",
   "metadata": {},
   "source": [
    "#### $K$-Means in SciKit Learn"
   ]
  },
  {
   "cell_type": "markdown",
   "metadata": {},
   "source": [
    "Since K-means cluster analysis starts with `k` randomly chosen centroids, a different solution can be obtained each time the function is invoked. Use the `random.seed(n)` function to guarantee that the results are reproducible. Additionally, this clustering approach can be sensitive to the initial selection of centroids. The `KMeans()` class has an `n_init` parameter that attempts multiple initial configurations and reports on the best one. For example, adding `n_init=25` will generate `25` initial configurations. This approach is often recommended."
   ]
  },
  {
   "cell_type": "markdown",
   "metadata": {},
   "source": [
    "### Properties"
   ]
  },
  {
   "cell_type": "markdown",
   "metadata": {},
   "source": [
    "* K-means is algorithmically pretty efficient (time & space complexity is linear in number of records).\n",
    "* It has a hard time dealing with non-[convex clusters](http://pafnuty.wordpress.com/2013/08/14/non-convex-sets-with-k-means-and-hierarchical-clustering/), or data with widely varying shapes and densities."
   ]
  },
  {
   "cell_type": "markdown",
   "metadata": {},
   "source": [
    "![](assets/intclusoutnonfastclus.png)"
   ]
  },
  {
   "cell_type": "markdown",
   "metadata": {},
   "source": [
    "* Clustering binary data with K-Means [(should be avoided)](http://www-01.ibm.com/support/docview.wss?uid=swg21477401)\n",
    "* Difficulties can sometimes be overcome by increasing the value of k and combining subclusters in a post-processing step."
   ]
  },
  {
   "cell_type": "markdown",
   "metadata": {},
   "source": [
    "### STEP 1 – CHOOSING INITIAL CENTROIDS"
   ]
  },
  {
   "cell_type": "markdown",
   "metadata": {},
   "source": [
    "How do you choose the initial centroid positions?\n",
    "* Randomly (but may yield divergent behavior)\n",
    "![](assets/K-means_convergence_to_a_local_minimum.png)\n",
    "* Perform alternative clustering task, use resulting centroids as initial k-means centroids\n",
    "* Start with global centroid, choose point at max distance, repeat (but might select outlier)"
   ]
  },
  {
   "cell_type": "markdown",
   "metadata": {},
   "source": [
    "### STEP 2 – SIMILARITY MEASURES"
   ]
  },
  {
   "cell_type": "markdown",
   "metadata": {},
   "source": [
    "How do you determine which centroid is the nearest?\n",
    "* The “nearness” criterion is determined by the similarity/distance measure we discussed earlier. This measure makes quantitative inference possible. (Technically, by defining a similarity measure we are mapping our observations into a metric space.)\n",
    "* A similarity measure must satisfy certain general conditions:"
   ]
  },
  {
   "cell_type": "markdown",
   "metadata": {},
   "source": [
    "$$d(x,y) \\geq 0$$"
   ]
  },
  {
   "cell_type": "markdown",
   "metadata": {},
   "source": [
    "$$d(x,y) = 0 \\longleftrightarrow x = y$$"
   ]
  },
  {
   "cell_type": "markdown",
   "metadata": {},
   "source": [
    "$$d(x,y) = d(x,y) \\\\ \\text{(symmetry)}$$"
   ]
  },
  {
   "cell_type": "markdown",
   "metadata": {},
   "source": [
    "$$d(x,y) + d(y,z) \\geq d(x,z) \\\\\\text{(triangle inequality)}$$"
   ]
  },
  {
   "cell_type": "markdown",
   "metadata": {},
   "source": [
    "* There are a number of different [similarity measures](http://ag.arizona.edu/classes/rnr555/lecnotes/10.html) to choose from, and in general the right choice depends on the problem.\n",
    "  * For data that takes values in $R^n$ , the typical choice is the [Euclidean distance](http://en.wikipedia.org/wiki/Euclidean_distance):"
   ]
  },
  {
   "cell_type": "markdown",
   "metadata": {},
   "source": [
    "$$ d(p,q) = d(q,p) = \\sqrt{(p_1 - q_1)^2 + (p_2 - q_2)^2 + \\dots + (p_n -q_n)^2} = \\sqrt{\\sum\\limits_{i=1}^n(q_{i}-p_{i})^2 }$$"
   ]
  },
  {
   "cell_type": "markdown",
   "metadata": {},
   "source": [
    "* We can express different semantics about our data through the choice of metric. Ex: One popular metric for text mining problems (or any problem with sparse binary data) is the [Jaccard Coefficient](http://matpalm.com/resemblance/jaccard_coeff/)]."
   ]
  },
  {
   "cell_type": "markdown",
   "metadata": {},
   "source": [
    "$$J(A,B) = \\frac{A\\cap B}{A\\cup B}$$"
   ]
  },
  {
   "cell_type": "markdown",
   "metadata": {},
   "source": [
    "the jaccard index is a simple measure of how similiar two sets are.\n",
    "it's simply the ratio of the size of the intersection of the sets and the size of the union of the sets.\n",
    "\n",
    "eg. \n",
    "\n",
    "    if J(A,B) is jaccard index between sets A and B\n",
    "    and A = {1,2,3}, B = {2,3,4}, C = {4,5,6},\n",
    "    then J(A,B) = 2/4 = 0.5,\n",
    "    and J(A,C) = 0/6 = 0,\n",
    "    and J(B,C) = 1/5 = 0.2\n",
    "\n",
    "so the most \"similiar\" sets are A and B and the least similiar are A and C\n",
    "(note also J(A,A) = J(B,B) = J(C,C) = 1)"
   ]
  },
  {
   "cell_type": "markdown",
   "metadata": {},
   "source": [
    "* Applying this metric to a problem expresses the sparse nature of the data, and makes a variety of text mining techniques accessible."
   ]
  },
  {
   "cell_type": "markdown",
   "metadata": {},
   "source": [
    "The matrix whose entries $D_{ij}$ contain the values $d(x, y)$ for all $x$ and $y$ is called the distance matrix. The distance matrix contains all of the information we know about the dataset. For this reason, it’s really the choice of metric that determines the definition of a cluster."
   ]
  },
  {
   "cell_type": "markdown",
   "metadata": {},
   "source": [
    "### STEP 3 – OBJECTIVE FUNCTION"
   ]
  },
  {
   "cell_type": "markdown",
   "metadata": {},
   "source": [
    "We need to recompute the positions of the centroids at each iteration of the algorithm. We do so by optimizing an objective function that tells us how “good” the clustering is. The iterative part of the algorithm (recomputing centroids and reassigning points to clusters) explicitly tries to minimize this objective function."
   ]
  },
  {
   "cell_type": "markdown",
   "metadata": {},
   "source": [
    "Ex: Using the Euclidean distance measure, one typical objective function is the sum of squared errors from each point $x$ to its centroid $c_i$ :"
   ]
  },
  {
   "cell_type": "markdown",
   "metadata": {},
   "source": [
    "$$ SSE = \\sum\\limits_{i=1}^k \\sum\\limits_{x\\in C_{i}} d(x,c_{i})^2 $$"
   ]
  },
  {
   "cell_type": "markdown",
   "metadata": {},
   "source": [
    "Given two clusterings, we will prefer the one with the lower SSE since this means the centroids have converged to better locations (a better local optimum)."
   ]
  },
  {
   "cell_type": "markdown",
   "metadata": {},
   "source": [
    "### STEP 4 – CONVERGENCE"
   ]
  },
  {
   "cell_type": "markdown",
   "metadata": {},
   "source": [
    "We iterate until some stopping criteria are met; in general, suitable convergence is achieved in a small number of steps. Stopping criteria can be based on the centroids (eg, if positions change by no more than $e$) or on the points (eg, if no more than $x$% change clusters between iterations). Recall that, in general, different runs of the algorithm will converge to different local optima (centroid configurations)."
   ]
  },
  {
   "cell_type": "markdown",
   "metadata": {},
   "source": [
    "## Cluster Validation"
   ]
  },
  {
   "cell_type": "markdown",
   "metadata": {},
   "source": [
    "In general, k-means will converge to a solution and return a partition of $k$ clusters, even if no natural clusters exist in the data. We will look at two validation metrics useful for partitional clustering, *cohesion* and *separation*."
   ]
  },
  {
   "cell_type": "markdown",
   "metadata": {},
   "source": [
    "### Cohesion and separation"
   ]
  },
  {
   "cell_type": "markdown",
   "metadata": {},
   "source": [
    "![](assets/separationcohesion.png)"
   ]
  },
  {
   "cell_type": "markdown",
   "metadata": {},
   "source": [
    "*Cohesion* measures clustering effectiveness within a cluster."
   ]
  },
  {
   "cell_type": "markdown",
   "metadata": {},
   "source": [
    "$$ \\hat{C}(C_{i}) = \\sum\\limits_{x \\in C_i} d(x,c_{i}) $$ "
   ]
  },
  {
   "cell_type": "markdown",
   "metadata": {},
   "source": [
    "*Separation* measures clustering effectiveness between clusters."
   ]
  },
  {
   "cell_type": "markdown",
   "metadata": {},
   "source": [
    "$$ \\hat{S}(C_{i},C_{j}) = d(c_{i},c_{j}) $$ "
   ]
  },
  {
   "cell_type": "markdown",
   "metadata": {},
   "source": [
    "We can turn these values into overall measures of clustering validity by taking a weighted sum over clusters:"
   ]
  },
  {
   "cell_type": "markdown",
   "metadata": {},
   "source": [
    "$$ \\hat{V}_{total} = \\sum\\limits_{1}^K w_{i}\\hat{V}(C_{i}) $$"
   ]
  },
  {
   "cell_type": "markdown",
   "metadata": {},
   "source": [
    "Here $V$ can be cohesion, separation, or some function of both. The weights can all be set to $1$ (best for k-means), or proportional to the cluster masses (the number of points they contain).\n",
    "\n",
    "Cluster validation measures can be used to identify clusters that should be split or merged, or to identify individual points with disproportionate effect on the overall clustering."
   ]
  },
  {
   "cell_type": "markdown",
   "metadata": {},
   "source": [
    "### Silhouette Coefficient"
   ]
  },
  {
   "cell_type": "markdown",
   "metadata": {},
   "source": [
    "One useful measure than combines the ideas of cohesion and separation is the [silhouette coefficient](http://pafnuty.wordpress.com/2013/02/04/interpretation-of-silhouette-plots-clustering/). For an individual point $x_i$ , this is given by:"
   ]
  },
  {
   "cell_type": "markdown",
   "metadata": {},
   "source": [
    "$$ SC_{i} = \\frac{b_{i}-a_{i}}{max(a_{i},b_{i})} \\\\\n",
    "\\begin{align*}\n",
    "\\text{such that}&: \\\\\n",
    "& a_{i} = \\text{average distance to the points of its own cluster from } x_{i} \\\\\n",
    "& b_{i} = \\text{average distance to the points of the nearest-cluster from } x_{i}\\\\\n",
    "\\end{align*}$$"
   ]
  },
  {
   "cell_type": "markdown",
   "metadata": {},
   "source": [
    "The silhouette coefficient can take values between -1 and 1. In general, we want separation to be high and cohesion to be low. This corresponds to a value of SC close to +1. A negative silhouette coefficient means the cluster radius is larger than the space between clusters, and thus clusters overlap."
   ]
  },
  {
   "cell_type": "markdown",
   "metadata": {},
   "source": [
    "![](assets/silhouettegraph.png)"
   ]
  },
  {
   "cell_type": "markdown",
   "metadata": {},
   "source": [
    "The silhouette coefficient for the cluster $C_i$ is given by the average silhouette coefficient across all points in $C_i$ :"
   ]
  },
  {
   "cell_type": "markdown",
   "metadata": {},
   "source": [
    "$$ SC(C_{i}) = \\frac{1}{m_{i}} \\sum \\limits_{x \\in C_{i}} SC_{i} $$"
   ]
  },
  {
   "cell_type": "markdown",
   "metadata": {},
   "source": [
    "The overall silhouette coefficient is given by the average silhouette coefficient across all points:"
   ]
  },
  {
   "cell_type": "markdown",
   "metadata": {},
   "source": [
    "$$ SC_{total} = \\frac{1}{k} \\sum \\limits_{1}^{k} SC(C_{i}) $$"
   ]
  },
  {
   "cell_type": "markdown",
   "metadata": {},
   "source": [
    "This gives a summary measure of the overall clustering quality."
   ]
  },
  {
   "cell_type": "markdown",
   "metadata": {},
   "source": [
    "### Similarity Matrix"
   ]
  },
  {
   "cell_type": "markdown",
   "metadata": {},
   "source": [
    "An alternative validation scheme is given by comparing the similarity matrix with an idealized $(0/1)$ similarity matrix that represents the same clustering configuration. This can be done either graphically or using correlations."
   ]
  },
  {
   "cell_type": "markdown",
   "metadata": {},
   "source": [
    "![](assets/similaritymatrix.png)"
   ]
  },
  {
   "cell_type": "markdown",
   "metadata": {},
   "source": [
    "One useful application of cluster validation is to determine the best number of clusters for your dataset. We can do this by computing the overall SSE or [intepreting the Silhouette Coefficient](http://pafnuty.wordpress.com/2013/02/04/interpretation-of-silhouette-plots-clustering/) for different values of K."
   ]
  },
  {
   "cell_type": "markdown",
   "metadata": {},
   "source": [
    "![](assets/cluster_validation.png)"
   ]
  },
  {
   "cell_type": "markdown",
   "metadata": {},
   "source": [
    "To determine your level of confidence in these validation metrics, we use rely on our statistical methods, eg, by computing frequency distributions for these metrics (over several runs of the algorithm) and determining statistical significance."
   ]
  },
  {
   "cell_type": "markdown",
   "metadata": {},
   "source": [
    "Ultimately, cluster validation and clustering in general are suggestive techniques that rely on human interpretation to be meaningful."
   ]
  },
  {
   "cell_type": "markdown",
   "metadata": {},
   "source": [
    "![break](assets/code.png)"
   ]
  },
  {
   "cell_type": "markdown",
   "metadata": {},
   "source": [
    "## Implementing K-Means"
   ]
  },
  {
   "cell_type": "markdown",
   "metadata": {},
   "source": [
    "* See a very basic example of K-means applied to a clear data set\n",
    "* Work through an implementation of predicting the classes in the iris data set\n",
    "* Application to data we're using"
   ]
  },
  {
   "cell_type": "code",
   "execution_count": 14,
   "metadata": {
    "collapsed": true
   },
   "outputs": [],
   "source": [
    "%matplotlib inline\n",
    "import pandas as pd\n",
    "import numpy as np\n",
    "import matplotlib\n",
    "import matplotlib.pyplot as plt\n",
    "\n",
    "# Don't show deprecation warnings\n",
    "import warnings\n",
    "warnings.filterwarnings(\"ignore\", category=DeprecationWarning) \n",
    "\n",
    "# Set some Pandas options\n",
    "pd.set_option('max_columns', 30)\n",
    "pd.set_option('max_rows', 20)\n",
    "\n",
    "# Set some Matplotlib options\n",
    "matplotlib.rcParams.update({'font.size': 20})\n",
    "matplotlib.rcParams['figure.figsize'] = 20, 8\n",
    "\n",
    "# Store data in a consistent place\n",
    "DATA_DIR = '../data/'"
   ]
  },
  {
   "cell_type": "markdown",
   "metadata": {},
   "source": [
    "### K-Means with good data"
   ]
  },
  {
   "cell_type": "markdown",
   "metadata": {},
   "source": [
    "First things first, let's look at a readable and good application of kmeans with made up data:"
   ]
  },
  {
   "cell_type": "code",
   "execution_count": 15,
   "metadata": {
    "collapsed": false
   },
   "outputs": [
    {
     "data": {
      "text/html": [
       "<div style=\"max-height:1000px;max-width:1500px;overflow:auto;\">\n",
       "<table border=\"1\" class=\"dataframe\">\n",
       "  <thead>\n",
       "    <tr style=\"text-align: right;\">\n",
       "      <th></th>\n",
       "      <th>x</th>\n",
       "      <th>y</th>\n",
       "    </tr>\n",
       "  </thead>\n",
       "  <tbody>\n",
       "    <tr>\n",
       "      <th>count</th>\n",
       "      <td>80.000000</td>\n",
       "      <td>80.000000</td>\n",
       "    </tr>\n",
       "    <tr>\n",
       "      <th>mean</th>\n",
       "      <td>2.460389</td>\n",
       "      <td>2.509017</td>\n",
       "    </tr>\n",
       "    <tr>\n",
       "      <th>std</th>\n",
       "      <td>1.104095</td>\n",
       "      <td>1.003107</td>\n",
       "    </tr>\n",
       "    <tr>\n",
       "      <th>min</th>\n",
       "      <td>1.000114</td>\n",
       "      <td>1.015821</td>\n",
       "    </tr>\n",
       "    <tr>\n",
       "      <th>25%</th>\n",
       "      <td>1.383966</td>\n",
       "      <td>1.691632</td>\n",
       "    </tr>\n",
       "    <tr>\n",
       "      <th>50%</th>\n",
       "      <td>2.495866</td>\n",
       "      <td>2.504939</td>\n",
       "    </tr>\n",
       "    <tr>\n",
       "      <th>75%</th>\n",
       "      <td>3.564193</td>\n",
       "      <td>3.439357</td>\n",
       "    </tr>\n",
       "    <tr>\n",
       "      <th>max</th>\n",
       "      <td>3.969596</td>\n",
       "      <td>3.970020</td>\n",
       "    </tr>\n",
       "  </tbody>\n",
       "</table>\n",
       "</div>"
      ],
      "text/plain": [
       "               x          y\n",
       "count  80.000000  80.000000\n",
       "mean    2.460389   2.509017\n",
       "std     1.104095   1.003107\n",
       "min     1.000114   1.015821\n",
       "25%     1.383966   1.691632\n",
       "50%     2.495866   2.504939\n",
       "75%     3.564193   3.439357\n",
       "max     3.969596   3.970020"
      ]
     },
     "execution_count": 15,
     "metadata": {},
     "output_type": "execute_result"
    }
   ],
   "source": [
    "# load modules\n",
    "from sklearn import cluster\n",
    "from numpy import random\n",
    "from pandas import DataFrame, concat\n",
    "from matplotlib import pyplot as plt\n",
    "\n",
    "random.seed(1)\n",
    "\n",
    "classone = DataFrame({\n",
    "    'x' :random.random(20) + 1,\n",
    "    'y' : random.random(20) + 1,\n",
    "    'label' : ['r' for i in range(20)]\n",
    "})\n",
    "classtwo = DataFrame({\n",
    "    'x' :random.random(20) + 1,\n",
    "    'y' : random.random(20) + 3,\n",
    "    'label' : ['g' for i in range(20)]\n",
    "})\n",
    "classthree = DataFrame({\n",
    "    'x' :random.random(20) + 3,\n",
    "    'y' : random.random(20) + 1,\n",
    "    'label' : ['b' for i in range(20)]\n",
    "})\n",
    "classfour = DataFrame({\n",
    "    'x' :random.random(20) + 3,\n",
    "    'y' : random.random(20) + 3,\n",
    "    'label' : ['purple' for i in range(20)]\n",
    "})\n",
    "\n",
    "data = concat([classone, classtwo, classthree, classfour])\n",
    "data.describe()"
   ]
  },
  {
   "cell_type": "code",
   "execution_count": 16,
   "metadata": {
    "collapsed": false
   },
   "outputs": [
    {
     "data": {
      "text/html": [
       "<div style=\"max-height:1000px;max-width:1500px;overflow:auto;\">\n",
       "<table border=\"1\" class=\"dataframe\">\n",
       "  <thead>\n",
       "    <tr style=\"text-align: right;\">\n",
       "      <th></th>\n",
       "      <th>label</th>\n",
       "      <th>x</th>\n",
       "      <th>y</th>\n",
       "    </tr>\n",
       "  </thead>\n",
       "  <tbody>\n",
       "    <tr>\n",
       "      <th>10</th>\n",
       "      <td>b</td>\n",
       "      <td>3.114746</td>\n",
       "      <td>1.172341</td>\n",
       "    </tr>\n",
       "    <tr>\n",
       "      <th>11</th>\n",
       "      <td>b</td>\n",
       "      <td>3.949489</td>\n",
       "      <td>1.137136</td>\n",
       "    </tr>\n",
       "    <tr>\n",
       "      <th>12</th>\n",
       "      <td>b</td>\n",
       "      <td>3.449912</td>\n",
       "      <td>1.932595</td>\n",
       "    </tr>\n",
       "    <tr>\n",
       "      <th>13</th>\n",
       "      <td>b</td>\n",
       "      <td>3.578390</td>\n",
       "      <td>1.696818</td>\n",
       "    </tr>\n",
       "    <tr>\n",
       "      <th>14</th>\n",
       "      <td>b</td>\n",
       "      <td>3.408137</td>\n",
       "      <td>1.066000</td>\n",
       "    </tr>\n",
       "    <tr>\n",
       "      <th>15</th>\n",
       "      <td>b</td>\n",
       "      <td>3.237027</td>\n",
       "      <td>1.755463</td>\n",
       "    </tr>\n",
       "    <tr>\n",
       "      <th>16</th>\n",
       "      <td>b</td>\n",
       "      <td>3.903380</td>\n",
       "      <td>1.753876</td>\n",
       "    </tr>\n",
       "    <tr>\n",
       "      <th>17</th>\n",
       "      <td>b</td>\n",
       "      <td>3.573679</td>\n",
       "      <td>1.923025</td>\n",
       "    </tr>\n",
       "    <tr>\n",
       "      <th>18</th>\n",
       "      <td>b</td>\n",
       "      <td>3.002870</td>\n",
       "      <td>1.711525</td>\n",
       "    </tr>\n",
       "    <tr>\n",
       "      <th>19</th>\n",
       "      <td>b</td>\n",
       "      <td>3.617145</td>\n",
       "      <td>1.124271</td>\n",
       "    </tr>\n",
       "    <tr>\n",
       "      <th>0</th>\n",
       "      <td>purple</td>\n",
       "      <td>3.019880</td>\n",
       "      <td>3.556240</td>\n",
       "    </tr>\n",
       "    <tr>\n",
       "      <th>1</th>\n",
       "      <td>purple</td>\n",
       "      <td>3.026211</td>\n",
       "      <td>3.136455</td>\n",
       "    </tr>\n",
       "    <tr>\n",
       "      <th>2</th>\n",
       "      <td>purple</td>\n",
       "      <td>3.028306</td>\n",
       "      <td>3.059918</td>\n",
       "    </tr>\n",
       "    <tr>\n",
       "      <th>3</th>\n",
       "      <td>purple</td>\n",
       "      <td>3.246211</td>\n",
       "      <td>3.121343</td>\n",
       "    </tr>\n",
       "    <tr>\n",
       "      <th>4</th>\n",
       "      <td>purple</td>\n",
       "      <td>3.860028</td>\n",
       "      <td>3.044552</td>\n",
       "    </tr>\n",
       "    <tr>\n",
       "      <th>5</th>\n",
       "      <td>purple</td>\n",
       "      <td>3.538831</td>\n",
       "      <td>3.107494</td>\n",
       "    </tr>\n",
       "    <tr>\n",
       "      <th>6</th>\n",
       "      <td>purple</td>\n",
       "      <td>3.552822</td>\n",
       "      <td>3.225709</td>\n",
       "    </tr>\n",
       "    <tr>\n",
       "      <th>7</th>\n",
       "      <td>purple</td>\n",
       "      <td>3.842031</td>\n",
       "      <td>3.712989</td>\n",
       "    </tr>\n",
       "    <tr>\n",
       "      <th>8</th>\n",
       "      <td>purple</td>\n",
       "      <td>3.124173</td>\n",
       "      <td>3.559717</td>\n",
       "    </tr>\n",
       "    <tr>\n",
       "      <th>9</th>\n",
       "      <td>purple</td>\n",
       "      <td>3.279184</td>\n",
       "      <td>3.012556</td>\n",
       "    </tr>\n",
       "  </tbody>\n",
       "</table>\n",
       "</div>"
      ],
      "text/plain": [
       "     label         x         y\n",
       "10       b  3.114746  1.172341\n",
       "11       b  3.949489  1.137136\n",
       "12       b  3.449912  1.932595\n",
       "13       b  3.578390  1.696818\n",
       "14       b  3.408137  1.066000\n",
       "15       b  3.237027  1.755463\n",
       "16       b  3.903380  1.753876\n",
       "17       b  3.573679  1.923025\n",
       "18       b  3.002870  1.711525\n",
       "19       b  3.617145  1.124271\n",
       "0   purple  3.019880  3.556240\n",
       "1   purple  3.026211  3.136455\n",
       "2   purple  3.028306  3.059918\n",
       "3   purple  3.246211  3.121343\n",
       "4   purple  3.860028  3.044552\n",
       "5   purple  3.538831  3.107494\n",
       "6   purple  3.552822  3.225709\n",
       "7   purple  3.842031  3.712989\n",
       "8   purple  3.124173  3.559717\n",
       "9   purple  3.279184  3.012556"
      ]
     },
     "execution_count": 16,
     "metadata": {},
     "output_type": "execute_result"
    }
   ],
   "source": [
    "data.iloc[50:70]"
   ]
  },
  {
   "cell_type": "markdown",
   "metadata": {},
   "source": [
    "A quick scatter shows that yes, these are easy identifiable clusters."
   ]
  },
  {
   "cell_type": "code",
   "execution_count": 17,
   "metadata": {
    "collapsed": false
   },
   "outputs": [
    {
     "data": {
      "image/png": "[encoded data removed]",
      "text/plain": [
       "<matplotlib.figure.Figure at 0x7f0e006408d0>"
      ]
     },
     "metadata": {},
     "output_type": "display_data"
    }
   ],
   "source": [
    "data.plot(kind='scatter', x='x', y='y', c=data.label);\n",
    "plt.title('Really Easy Clusters')\n",
    "plt.show()"
   ]
  },
  {
   "cell_type": "code",
   "execution_count": 18,
   "metadata": {
    "collapsed": false
   },
   "outputs": [
    {
     "ename": "NameError",
     "evalue": "name 'num_data' is not defined",
     "output_type": "error",
     "traceback": [
      "\u001b[1;31m---------------------------------------------------------------------------\u001b[0m",
      "\u001b[1;31mNameError\u001b[0m                                 Traceback (most recent call last)",
      "\u001b[1;32m<ipython-input-18-2e4e4697a549>\u001b[0m in \u001b[0;36m<module>\u001b[1;34m()\u001b[0m\n\u001b[1;32m----> 1\u001b[1;33m \u001b[0mcls\u001b[0m \u001b[1;33m=\u001b[0m \u001b[0mcluster\u001b[0m\u001b[1;33m.\u001b[0m\u001b[0mk_means\u001b[0m\u001b[1;33m(\u001b[0m\u001b[0mnum_data\u001b[0m\u001b[1;33m[\u001b[0m \u001b[1;33m[\u001b[0m\u001b[1;34m'x'\u001b[0m\u001b[1;33m,\u001b[0m \u001b[1;34m'y'\u001b[0m\u001b[1;33m]\u001b[0m \u001b[1;33m]\u001b[0m\u001b[1;33m.\u001b[0m\u001b[0mvalues\u001b[0m\u001b[1;33m,\u001b[0m \u001b[1;36m4\u001b[0m\u001b[1;33m)\u001b[0m\u001b[1;33m\u001b[0m\u001b[0m\n\u001b[0m",
      "\u001b[1;31mNameError\u001b[0m: name 'num_data' is not defined"
     ]
    }
   ],
   "source": [
    "cls = cluster.k_means(num_data[ ['x', 'y'] ].values, 4)"
   ]
  },
  {
   "cell_type": "code",
   "execution_count": null,
   "metadata": {
    "collapsed": false
   },
   "outputs": [],
   "source": [
    "print cls"
   ]
  },
  {
   "cell_type": "markdown",
   "metadata": {},
   "source": [
    "Printing cls returns two arrays and a float.\n",
    "The first array is 'x' and 'y' for the centrioids of each cluster.\n",
    "The second array is the cluster values.\n",
    "The float represents the inertia."
   ]
  },
  {
   "cell_type": "code",
   "execution_count": null,
   "metadata": {
    "collapsed": true
   },
   "outputs": [],
   "source": [
    "data['clusters'] = cls[1]"
   ]
  },
  {
   "cell_type": "code",
   "execution_count": null,
   "metadata": {
    "collapsed": false
   },
   "outputs": [],
   "source": [
    "num_data.plot(kind='scatter', x='x', y='y', c=data.clusters);\n",
    "plt.title('Really Easy Clusters')\n",
    "plt.show()"
   ]
  },
  {
   "cell_type": "markdown",
   "metadata": {},
   "source": [
    "What happens when we introduce a new length of cluster?"
   ]
  },
  {
   "cell_type": "code",
   "execution_count": null,
   "metadata": {
    "collapsed": true
   },
   "outputs": [],
   "source": [
    "classfive = DataFrame({\n",
    "    'x' : random.random(50) * 50 + 100,\n",
    "    'y' : random.random(50) * 50 + 100,\n",
    "    'label' : ['orange' for i in range(50)]\n",
    "})"
   ]
  },
  {
   "cell_type": "code",
   "execution_count": null,
   "metadata": {
    "collapsed": true
   },
   "outputs": [],
   "source": [
    "data_denorm = concat([data, classfive])"
   ]
  },
  {
   "cell_type": "code",
   "execution_count": null,
   "metadata": {
    "collapsed": true
   },
   "outputs": [],
   "source": [
    "cls = cluster.k_means(data_denorm[ ['x', 'y'] ].values, 5)"
   ]
  },
  {
   "cell_type": "code",
   "execution_count": null,
   "metadata": {
    "collapsed": true
   },
   "outputs": [],
   "source": [
    "data_denorm['clusters'] = cls[1]"
   ]
  },
  {
   "cell_type": "code",
   "execution_count": null,
   "metadata": {
    "collapsed": false
   },
   "outputs": [],
   "source": [
    "cls[0]"
   ]
  },
  {
   "cell_type": "code",
   "execution_count": null,
   "metadata": {
    "collapsed": false
   },
   "outputs": [],
   "source": [
    "plt.scatter(data_denorm.x.values, data_denorm.y.values, c=list(data_denorm.clusters.values))\n",
    "plt.title('Clusters Identifed by color')\n",
    "plt.show()"
   ]
  },
  {
   "cell_type": "markdown",
   "metadata": {},
   "source": [
    "### Iris "
   ]
  },
  {
   "cell_type": "code",
   "execution_count": null,
   "metadata": {
    "collapsed": false
   },
   "outputs": [],
   "source": [
    "## Iris Data Application\n",
    "from sklearn import datasets\n",
    "iris = datasets.load_iris()\n",
    "cls = cluster.k_means(iris.data, 3)\n",
    "print cls"
   ]
  },
  {
   "cell_type": "markdown",
   "metadata": {},
   "source": [
    "Compare the results here. How did K-means do without any data changes?"
   ]
  },
  {
   "cell_type": "code",
   "execution_count": null,
   "metadata": {
    "collapsed": false,
    "scrolled": true
   },
   "outputs": [],
   "source": [
    "import matplotlib.pyplot as plt\n",
    "\n",
    "plt.subplot(211)\n",
    "plt.scatter(iris.data[:,:1], iris.data[:, 1:2], cmap=plt.cm.jet, c=iris.target)\n",
    "plt.subplot(212)\n",
    "plt.scatter(iris.data[:,:1], iris.data[:, 1:2], cmap=plt.cm.jet, c=list(cls[1]))\n",
    "plt.show()"
   ]
  },
  {
   "cell_type": "markdown",
   "metadata": {},
   "source": [
    "Now calculate the Silhouette Coefficient for the total cluster."
   ]
  },
  {
   "cell_type": "code",
   "execution_count": null,
   "metadata": {
    "collapsed": false
   },
   "outputs": [],
   "source": [
    "from sklearn.metrics import silhouette_score\n",
    "\n",
    "silhouette_score(iris.data, cls[1])"
   ]
  },
  {
   "cell_type": "markdown",
   "metadata": {},
   "source": [
    "### Classwork"
   ]
  },
  {
   "cell_type": "markdown",
   "metadata": {},
   "source": [
    "Analyze a dataset containing 13 chemical measurements on 178 Italian wine samples. Get the data from the [UCI Machine Learning Repository](http://archive.ics.uci.edu/ml/datasets/Wine).\n",
    "\n",
    "* What is the optimal number of clusters?\n",
    "* What determines what clusters consist of?\n",
    "* How well did the K-means clustering uncover the actual structure of the data contained in the first column?"
   ]
  },
  {
   "cell_type": "markdown",
   "metadata": {},
   "source": [
    "![break](assets/resources.png)"
   ]
  },
  {
   "cell_type": "markdown",
   "metadata": {},
   "source": [
    "## Resources"
   ]
  },
  {
   "cell_type": "markdown",
   "metadata": {},
   "source": [
    "### Handbook"
   ]
  },
  {
   "cell_type": "markdown",
   "metadata": {},
   "source": [
    "![resource](assets/intro_to_data_mining.png)[Introduction to Data Mining (Ch. 8)](http://www-users.cs.umn.edu/~kumar/dmbook/index.php)"
   ]
  },
  {
   "cell_type": "markdown",
   "metadata": {},
   "source": [
    "### Academic"
   ]
  },
  {
   "cell_type": "markdown",
   "metadata": {},
   "source": [
    "* [An implementation of the relational k-means algorithm](http://arxiv.org/abs/1304.6899)\n",
    "* [An efficient k-means algorithm integrated with Jaccard distance measure for document clustering](http://ieeexplore.ieee.org/xpl/login.jsp?tp=&arnumber=5340335&url=http%3A%2F%2Fieeexplore.ieee.org%2Fxpls%2Fabs_all.jsp%3Farnumber%3D5340335)"
   ]
  },
  {
   "cell_type": "markdown",
   "metadata": {},
   "source": [
    "### Packages"
   ]
  },
  {
   "cell_type": "markdown",
   "metadata": {},
   "source": [
    "* [SciKit Clusting](http://scikit-learn.org/stable/modules/clustering.html)\n",
    "* [sklearn.cluster.KMeans](http://scikit-learn.org/stable/modules/generated/sklearn.cluster.KMeans.html)"
   ]
  },
  {
   "cell_type": "markdown",
   "metadata": {},
   "source": [
    "### Examples"
   ]
  },
  {
   "cell_type": "markdown",
   "metadata": {},
   "source": [
    "* [Blogpost on Insult Detection](http://blog.kaggle.com/2012/09/26/impermium-andreas-blog/)\n",
    "* [Github Code of Insult Detection Solution](https://github.com/amueller/kaggle_insults/)\n",
    "* [Choosing a ML Classifier](http://blog.echen.me/2011/04/27/choosing-a-machine-learning-classifier/)\n",
    "* [KMeans IPython Notebook](http://nbviewer.ipython.org/urls/raw.github.com/temporaer/tutorial_ml_gkbionics/master/2%2520-%2520KMeans.ipynb)\n",
    "* [Cloudera ML KMeans](http://blog.cloudera.com/blog/2013/03/cloudera_ml_data_science_tools/)"
   ]
  }
 ],
 "metadata": {
  "kernelspec": {
   "display_name": "Python 2",
   "language": "python",
   "name": "python2"
  },
  "language_info": {
   "codemirror_mode": {
    "name": "ipython",
    "version": 2
   },
   "file_extension": ".py",
   "mimetype": "text/x-python",
   "name": "python",
   "nbconvert_exporter": "python",
   "pygments_lexer": "ipython2",
   "version": "2.7.9"
  }
 },
 "nbformat": 4,
 "nbformat_minor": 0
}
