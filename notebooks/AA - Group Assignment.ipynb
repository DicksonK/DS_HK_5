{
 "metadata": {
  "name": "",
  "signature": "sha256:5c1da7e2137ee8c6fdbfc0c818bc53f13c0be6bdddb1b0951eff389a8c21f33e"
 },
 "nbformat": 3,
 "nbformat_minor": 0,
 "worksheets": [
  {
   "cells": [
    {
     "cell_type": "code",
     "collapsed": false,
     "input": [
      "%%javascript\n",
      "\n",
      "window.load_remote_theme = false\n",
      "var theme_url = \"https://drostehk.github.io/ipynb-theme/\";\n",
      "var asset_url = 'https://raw.githubusercontent.com/tijptjik/DS_assets/master/';\n",
      "\n",
      "window.load_local_theme = function(){\n",
      "    var hostname = document.location.hostname\n",
      "    return ((hostname == \"localhost\" || hostname == '127.0.0.1') && !load_remote_theme)\n",
      "}\n",
      "\n",
      "var url = load_local_theme() ? document.location.origin + \"/files/theme/custom.js\" : theme_url + 'custom.js'\n",
      "\n",
      "$.getScript(url)"
     ],
     "language": "python",
     "metadata": {},
     "outputs": [
      {
       "javascript": [
        "\n",
        "window.load_remote_theme = false\n",
        "var theme_url = \"https://drostehk.github.io/ipynb-theme/\";\n",
        "var asset_url = 'https://raw.githubusercontent.com/tijptjik/DS_assets/master/';\n",
        "\n",
        "window.load_local_theme = function(){\n",
        "    var hostname = document.location.hostname\n",
        "    return ((hostname == \"localhost\" || hostname == '127.0.0.1') && !load_remote_theme)\n",
        "}\n",
        "\n",
        "var url = load_local_theme() ? document.location.origin + \"/files/theme/custom.js\" : theme_url + 'custom.js'\n",
        "\n",
        "$.getScript(url)"
       ],
       "metadata": {},
       "output_type": "display_data",
       "text": [
        "<IPython.core.display.Javascript at 0x7f8e6426c750>"
       ]
      }
     ],
     "prompt_number": 1
    },
    {
     "cell_type": "heading",
     "level": 1,
     "metadata": {},
     "source": [
      "Group Assignment : Estimation Problem"
     ]
    },
    {
     "cell_type": "markdown",
     "metadata": {},
     "source": [
      "Team up in pairs, and build the best estimation model for one of the following datasets"
     ]
    },
    {
     "cell_type": "heading",
     "level": 3,
     "metadata": {},
     "source": [
      "Datasets"
     ]
    },
    {
     "cell_type": "code",
     "collapsed": false,
     "input": [
      "import pandas as pd"
     ],
     "language": "python",
     "metadata": {},
     "outputs": [],
     "prompt_number": 2
    },
    {
     "cell_type": "markdown",
     "metadata": {},
     "source": [
      "#### Example: Kelly Blue Book\n",
      "Data collected from Kelly Blue Book for several hundred 2005 used General Motors (GM) cars allows you  to develop a multivariate regression model to determine car values based on a variety of characteristics such as mileage, make, model, engine size, interior style, and cruise control. "
     ]
    },
    {
     "cell_type": "code",
     "collapsed": false,
     "input": [
      "   pd.read_excel('../data/estimation/kelly_blue_cars.xls').head()"
     ],
     "language": "python",
     "metadata": {},
     "outputs": [
      {
       "html": [
        "<div style=\"max-height:1000px;max-width:1500px;overflow:auto;\">\n",
        "<table border=\"1\" class=\"dataframe\">\n",
        "  <thead>\n",
        "    <tr style=\"text-align: right;\">\n",
        "      <th></th>\n",
        "      <th>Price</th>\n",
        "      <th>Mileage</th>\n",
        "      <th>Make</th>\n",
        "      <th>Model</th>\n",
        "      <th>Trim</th>\n",
        "      <th>Type</th>\n",
        "      <th>Cylinder</th>\n",
        "      <th>Liter</th>\n",
        "      <th>Doors</th>\n",
        "      <th>Cruise</th>\n",
        "      <th>Sound</th>\n",
        "      <th>Leather</th>\n",
        "    </tr>\n",
        "  </thead>\n",
        "  <tbody>\n",
        "    <tr>\n",
        "      <th>0</th>\n",
        "      <td> 17314.103129</td>\n",
        "      <td>  8221</td>\n",
        "      <td> Buick</td>\n",
        "      <td> Century</td>\n",
        "      <td> Sedan 4D</td>\n",
        "      <td> Sedan</td>\n",
        "      <td> 6</td>\n",
        "      <td> 3.1</td>\n",
        "      <td> 4</td>\n",
        "      <td> 1</td>\n",
        "      <td> 1</td>\n",
        "      <td> 1</td>\n",
        "    </tr>\n",
        "    <tr>\n",
        "      <th>1</th>\n",
        "      <td> 17542.036083</td>\n",
        "      <td>  9135</td>\n",
        "      <td> Buick</td>\n",
        "      <td> Century</td>\n",
        "      <td> Sedan 4D</td>\n",
        "      <td> Sedan</td>\n",
        "      <td> 6</td>\n",
        "      <td> 3.1</td>\n",
        "      <td> 4</td>\n",
        "      <td> 1</td>\n",
        "      <td> 1</td>\n",
        "      <td> 0</td>\n",
        "    </tr>\n",
        "    <tr>\n",
        "      <th>2</th>\n",
        "      <td> 16218.847862</td>\n",
        "      <td> 13196</td>\n",
        "      <td> Buick</td>\n",
        "      <td> Century</td>\n",
        "      <td> Sedan 4D</td>\n",
        "      <td> Sedan</td>\n",
        "      <td> 6</td>\n",
        "      <td> 3.1</td>\n",
        "      <td> 4</td>\n",
        "      <td> 1</td>\n",
        "      <td> 1</td>\n",
        "      <td> 0</td>\n",
        "    </tr>\n",
        "    <tr>\n",
        "      <th>3</th>\n",
        "      <td> 16336.913140</td>\n",
        "      <td> 16342</td>\n",
        "      <td> Buick</td>\n",
        "      <td> Century</td>\n",
        "      <td> Sedan 4D</td>\n",
        "      <td> Sedan</td>\n",
        "      <td> 6</td>\n",
        "      <td> 3.1</td>\n",
        "      <td> 4</td>\n",
        "      <td> 1</td>\n",
        "      <td> 0</td>\n",
        "      <td> 0</td>\n",
        "    </tr>\n",
        "    <tr>\n",
        "      <th>4</th>\n",
        "      <td> 16339.170324</td>\n",
        "      <td> 19832</td>\n",
        "      <td> Buick</td>\n",
        "      <td> Century</td>\n",
        "      <td> Sedan 4D</td>\n",
        "      <td> Sedan</td>\n",
        "      <td> 6</td>\n",
        "      <td> 3.1</td>\n",
        "      <td> 4</td>\n",
        "      <td> 1</td>\n",
        "      <td> 0</td>\n",
        "      <td> 1</td>\n",
        "    </tr>\n",
        "  </tbody>\n",
        "</table>\n",
        "</div>"
       ],
       "metadata": {},
       "output_type": "pyout",
       "prompt_number": 7,
       "text": [
        "          Price  Mileage   Make    Model      Trim   Type  Cylinder  Liter  \\\n",
        "0  17314.103129     8221  Buick  Century  Sedan 4D  Sedan         6    3.1   \n",
        "1  17542.036083     9135  Buick  Century  Sedan 4D  Sedan         6    3.1   \n",
        "2  16218.847862    13196  Buick  Century  Sedan 4D  Sedan         6    3.1   \n",
        "3  16336.913140    16342  Buick  Century  Sedan 4D  Sedan         6    3.1   \n",
        "4  16339.170324    19832  Buick  Century  Sedan 4D  Sedan         6    3.1   \n",
        "\n",
        "   Doors  Cruise  Sound  Leather  \n",
        "0      4       1      1        1  \n",
        "1      4       1      1        0  \n",
        "2      4       1      1        0  \n",
        "3      4       1      0        0  \n",
        "4      4       1      0        1  "
       ]
      }
     ],
     "prompt_number": 7
    },
    {
     "cell_type": "heading",
     "level": 3,
     "metadata": {},
     "source": [
      "Regression Analysis by Example"
     ]
    },
    {
     "cell_type": "markdown",
     "metadata": {},
     "source": [
      "![resource](assets/regressionanalysisexample.png) [Regression Analysis By Example](http://type.hk:54988/calibre/get/pdf/Regression%20Analysis%20by%20Example%20-%20Samprit%20Chatterjee_294.pdf)"
     ]
    },
    {
     "cell_type": "markdown",
     "metadata": {},
     "source": [
      "Login // Password for the book \n",
      "\n",
      "        media // guidance\n",
      "\n",
      "Any dataset from [Regression Analysis by Example](http://www.stat.nus.edu.sg/~zhangjt/teaching/textbook/datasets.htm)"
     ]
    },
    {
     "cell_type": "heading",
     "level": 3,
     "metadata": {},
     "source": [
      "Deliverables"
     ]
    },
    {
     "cell_type": "markdown",
     "metadata": {},
     "source": [
      "A 10 minute presentation in class for your peers showcasing;\n",
      "* Exploratory Data Analysis\n",
      "* Motivation for feature selection\n",
      "* Checking whether the preconditions for linear regression have been met\n",
      "* Evaluation of model's strengths and weaknesses\n",
      "\n",
      "Audiences can be assumed to understand all your technical points, so don't be afraid to dive into the code to showcase your solutions! iPython notebook comes with a slideshow mode, consider [using it](http://www.damian.oquanta.info/posts/make-your-slides-with-ipython.html)\n",
      "    "
     ]
    },
    {
     "cell_type": "heading",
     "level": 3,
     "metadata": {},
     "source": [
      "Teams"
     ]
    },
    {
     "cell_type": "code",
     "collapsed": false,
     "input": [
      "teams = pd.DataFrame({\n",
      "    'PLAYER 1' : ['Dickson'],\n",
      "    'PLAYER 2' : ['Mart'],\n",
      "    'DATASET' : ['Catch 22']\n",
      "})\n",
      "teams"
     ],
     "language": "python",
     "metadata": {},
     "outputs": [
      {
       "html": [
        "<div style=\"max-height:1000px;max-width:1500px;overflow:auto;\">\n",
        "<table border=\"1\" class=\"dataframe\">\n",
        "  <thead>\n",
        "    <tr style=\"text-align: right;\">\n",
        "      <th></th>\n",
        "      <th>DATASET</th>\n",
        "      <th>PLAYER 1</th>\n",
        "      <th>PLAYER 2</th>\n",
        "    </tr>\n",
        "  </thead>\n",
        "  <tbody>\n",
        "    <tr>\n",
        "      <th>0</th>\n",
        "      <td> Catch 22</td>\n",
        "      <td> Dickson</td>\n",
        "      <td> Mart</td>\n",
        "    </tr>\n",
        "  </tbody>\n",
        "</table>\n",
        "</div>"
       ],
       "metadata": {},
       "output_type": "pyout",
       "prompt_number": 9,
       "text": [
        "    DATASET PLAYER 1 PLAYER 2\n",
        "0  Catch 22  Dickson     Mart"
       ]
      }
     ],
     "prompt_number": 9
    },
    {
     "cell_type": "heading",
     "level": 3,
     "metadata": {},
     "source": [
      "Support"
     ]
    },
    {
     "cell_type": "markdown",
     "metadata": {},
     "source": [
      "All the usual support channels are availables, but I'd like to point your attention to a **Python Dojo** being organised by a friend of mine coming Sunday.\n",
      "\n",
      "[Facebook Event](https://www.facebook.com/events/934350619917654/)"
     ]
    }
   ],
   "metadata": {}
  }
 ]
}