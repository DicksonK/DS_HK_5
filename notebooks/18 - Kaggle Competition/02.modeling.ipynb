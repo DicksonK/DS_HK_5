{
 "cells": [
  {
   "cell_type": "code",
   "execution_count": 2,
   "metadata": {
    "collapsed": false
   },
   "outputs": [
    {
     "data": {
      "application/javascript": [
       "\n",
       "window.load_remote_theme = false\n",
       "var theme_url = \"https://drostehk.github.io/ipynb-theme/\";\n",
       "var asset_url = 'https://raw.githubusercontent.com/tijptjik/DS_assets/master/';\n",
       "\n",
       "window.load_local_theme = function(){\n",
       "    var hostname = document.location.hostname\n",
       "    return ((hostname == \"localhost\" || hostname == '127.0.0.1') && !load_remote_theme)\n",
       "}\n",
       "\n",
       "var url = load_local_theme() ? document.location.origin + \"/files/theme/custom.js\" : theme_url + 'custom.js'\n",
       "\n",
       "$.getScript(url)"
      ],
      "text/plain": [
       "<IPython.core.display.Javascript object>"
      ]
     },
     "metadata": {},
     "output_type": "display_data"
    }
   ],
   "source": [
    "%%javascript\n",
    "\n",
    "window.load_remote_theme = false\n",
    "var theme_url = \"https://drostehk.github.io/ipynb-theme/\";\n",
    "var asset_url = 'https://raw.githubusercontent.com/tijptjik/DS_assets/master/';\n",
    "\n",
    "window.load_local_theme = function(){\n",
    "    var hostname = document.location.hostname\n",
    "    return ((hostname == \"localhost\" || hostname == '127.0.0.1') && !load_remote_theme)\n",
    "}\n",
    "\n",
    "var url = load_local_theme() ? document.location.origin + \"/files/theme/custom.js\" : theme_url + 'custom.js'\n",
    "\n",
    "$.getScript(url)"
   ]
  },
  {
   "cell_type": "markdown",
   "metadata": {},
   "source": [
    "# Kaggle Competition"
   ]
  },
  {
   "cell_type": "markdown",
   "metadata": {},
   "source": [
    "## 2. Modeling"
   ]
  },
  {
   "cell_type": "code",
   "execution_count": 6,
   "metadata": {
    "collapsed": true
   },
   "outputs": [],
   "source": [
    "from __future__ import unicode_literals, division\n",
    "\n",
    "import IPython\n",
    "import warnings\n",
    "import requests\n",
    "import numpy as np\n",
    "import pandas as pd\n",
    "import seaborn as sns\n",
    "import matplotlib as mpl\n",
    "import matplotlib.pyplot as plt\n",
    "\n",
    "from pylab import *\n",
    "from IPython.display import HTML\n",
    "from IPython.display import display as prnt\n",
    "\n",
    "# Matplotlib in notebook\n",
    "%matplotlib inline\n",
    "\n",
    "# Notebook Options\n",
    "warnings.filterwarnings('ignore')\n",
    "np.set_printoptions(suppress=True)\n",
    "\n",
    "# Matplotlib Styles\n",
    "c = {'axes.labelsize': 17,\n",
    "'axes.titlesize': 16,\n",
    "'figure.figsize': [18, 8],\n",
    "'grid.linewidth': 1.6,\n",
    "'legend.fontsize': 17,\n",
    "'lines.linewidth': 2,\n",
    "'lines.markeredgewidth': 0.0,\n",
    "'lines.markersize': 11,\n",
    "'patch.linewidth': 0.5,\n",
    "'xtick.labelsize': 16,\n",
    "'xtick.major.pad': 20,\n",
    "'xtick.major.width': 2,\n",
    "'xtick.minor.width': 1,\n",
    "'ytick.labelsize': 16.0,\n",
    "'ytick.major.pad': 20,\n",
    "'ytick.major.width': 2,\n",
    "'ytick.minor.width': 1 }\n",
    "wide_c = dict(c, **{'figure.figsize':[20,8]})"
   ]
  },
  {
   "cell_type": "markdown",
   "metadata": {},
   "source": [
    "#### Utility Functions"
   ]
  },
  {
   "cell_type": "code",
   "execution_count": 7,
   "metadata": {
    "collapsed": true
   },
   "outputs": [],
   "source": [
    "def table(df,replace_match=\"\",replace_str=\"\"):\n",
    "    return IPython.display.display(HTML(df.to_html().replace('<table border=\"1\" class=\"dataframe\">','<table class=\"table table-striped table-hover\">').replace(replace_match,replace_str)))"
   ]
  },
  {
   "cell_type": "markdown",
   "metadata": {},
   "source": [
    "### Load the Data"
   ]
  },
  {
   "cell_type": "code",
   "execution_count": 120,
   "metadata": {
    "collapsed": true
   },
   "outputs": [],
   "source": [
    "DATA_DIR = '../../data/bikeshare/'\n",
    "TRAIN_FILE = DATA_DIR + 'train.csv'\n",
    "TEST_FILE = DATA_DIR + 'test.csv'\n",
    "df = pd.read_csv(TRAIN_FILE)"
   ]
  },
  {
   "cell_type": "markdown",
   "metadata": {},
   "source": [
    "#### Training / Test Split"
   ]
  },
  {
   "cell_type": "code",
   "execution_count": 121,
   "metadata": {
    "collapsed": true
   },
   "outputs": [],
   "source": [
    "def get_train_data():\n",
    "    # Loads the training data, but splits the y from the X\n",
    "    dfx = pd.read_csv(TRAIN_FILE)\n",
    "    return dfx.iloc[:, 0:9], dfx.iloc[:,-1]"
   ]
  },
  {
   "cell_type": "markdown",
   "metadata": {},
   "source": [
    "### Scoring Method"
   ]
  },
  {
   "cell_type": "code",
   "execution_count": 10,
   "metadata": {
    "collapsed": true
   },
   "outputs": [],
   "source": [
    "from sklearn.metrics import make_scorer\n",
    "\n",
    "# First, we should set up some sort of testing framework, so that we can benchmark our progress as we go\n",
    "# The evaluation metric is Root mean squared logarithmic error.\n",
    "def rmsele(actual, pred):\n",
    "    \"\"\"\n",
    "    Given a column of predictions and a column of actuals, calculate the RMSELE\n",
    "    \"\"\"\n",
    "    squared_errors = (np.log(pred + 1) - np.log(actual + 1)) ** 2\n",
    "    mean_squared = np.sum(squared_errors) / len(squared_errors)\n",
    "    return np.sqrt(mean_squared)\n",
    "\n",
    "# This helper function will make a callable that we can use in cross_val_score\n",
    "rmsele_scorer = make_scorer(rmsele, greater_is_better=False)"
   ]
  },
  {
   "cell_type": "markdown",
   "metadata": {},
   "source": [
    "### Baseline Model"
   ]
  },
  {
   "cell_type": "code",
   "execution_count": 127,
   "metadata": {
    "collapsed": false
   },
   "outputs": [
    {
     "data": {
      "text/plain": [
       "1.5691983019475926"
      ]
     },
     "execution_count": 127,
     "metadata": {},
     "output_type": "execute_result"
    }
   ],
   "source": [
    "from sklearn.cross_validation import KFold, cross_val_score\n",
    "\n",
    "expected_value = df['count'].mean()\n",
    "yhat = np.array([expected_value] * len(df['count']))\n",
    "\n",
    "rmsele(df['count'].values, yhat)"
   ]
  },
  {
   "cell_type": "code",
   "execution_count": 114,
   "metadata": {
    "collapsed": false
   },
   "outputs": [
    {
     "name": "stderr",
     "output_type": "stream",
     "text": [
      "[Parallel(n_jobs=1)]: Done   1 jobs       | elapsed:    0.0s\n",
      "[Parallel(n_jobs=1)]: Done   5 out of   5 | elapsed:    0.0s finished\n"
     ]
    }
   ],
   "source": [
    "from sklearn.linear_model import Ridge\n",
    "from sklearn.cross_validation import KFold, cross_val_score\n",
    "\n",
    "# Lets just train a basic model so that we can test if our scoring and\n",
    "# cross validation framework works well. We'll use a Ridge regression,\n",
    "# which is a form of linear regression\n",
    "X, y = get_train_data()\n",
    "# Subset the X to just use temp, atemp, and workingday\n",
    "Xhat = X[['temp', 'atemp', 'humidity']]\n",
    "ridge_estimator = Ridge(normalize=True)\n",
    "scores = cross_val_score(ridge_estimator, Xhat, y, scoring=rmsele_scorer, cv=5, verbose=1)\n"
   ]
  },
  {
   "cell_type": "code",
   "execution_count": 115,
   "metadata": {
    "collapsed": false
   },
   "outputs": [
    {
     "data": {
      "text/plain": [
       "-0.9917841659309734"
      ]
     },
     "execution_count": 115,
     "metadata": {},
     "output_type": "execute_result"
    }
   ],
   "source": [
    "X, y = get_train_data()\n",
    "# Subset the X to just use temp, atemp, and workingday\n",
    "Xhat = X[['temp', 'atemp', 'humidity']]\n",
    "ridge_estimator = Ridge()\n",
    "ridge_estimator.fit(Xhat,y).score(Xhat,y)\n"
   ]
  },
  {
   "cell_type": "markdown",
   "metadata": {},
   "source": [
    "### CrossValidation"
   ]
  },
  {
   "cell_type": "code",
   "execution_count": 98,
   "metadata": {
    "collapsed": true
   },
   "outputs": [],
   "source": [
    "# Fill in some of the parameters on cross_val_score\n",
    "def perform_cv(estimator, X, y):\n",
    "    return cross_val_score(estimator, X, y, scoring=rmsele_scorer, cv=5, verbose=1)"
   ]
  },
  {
   "cell_type": "code",
   "execution_count": 113,
   "metadata": {
    "collapsed": false
   },
   "outputs": [
    {
     "data": {
      "text/html": [
       "<div>\n",
       "<table border=\"1\" class=\"dataframe\">\n",
       "  <thead>\n",
       "    <tr style=\"text-align: right;\">\n",
       "      <th></th>\n",
       "      <th>datetime</th>\n",
       "      <th>season</th>\n",
       "      <th>holiday</th>\n",
       "      <th>workingday</th>\n",
       "      <th>weather</th>\n",
       "      <th>temp</th>\n",
       "      <th>atemp</th>\n",
       "      <th>humidity</th>\n",
       "      <th>windspeed</th>\n",
       "    </tr>\n",
       "  </thead>\n",
       "  <tbody>\n",
       "    <tr>\n",
       "      <th>1603</th>\n",
       "      <td>2011-07-21 19:00:00</td>\n",
       "      <td>3</td>\n",
       "      <td>0</td>\n",
       "      <td>1</td>\n",
       "      <td>1</td>\n",
       "      <td>35.26</td>\n",
       "      <td>46.210</td>\n",
       "      <td>67</td>\n",
       "      <td>19.0012</td>\n",
       "    </tr>\n",
       "    <tr>\n",
       "      <th>1604</th>\n",
       "      <td>2011-07-21 20:00:00</td>\n",
       "      <td>3</td>\n",
       "      <td>0</td>\n",
       "      <td>1</td>\n",
       "      <td>1</td>\n",
       "      <td>34.44</td>\n",
       "      <td>44.695</td>\n",
       "      <td>71</td>\n",
       "      <td>15.0013</td>\n",
       "    </tr>\n",
       "    <tr>\n",
       "      <th>1605</th>\n",
       "      <td>2011-07-21 21:00:00</td>\n",
       "      <td>3</td>\n",
       "      <td>0</td>\n",
       "      <td>1</td>\n",
       "      <td>1</td>\n",
       "      <td>33.62</td>\n",
       "      <td>44.695</td>\n",
       "      <td>75</td>\n",
       "      <td>15.0013</td>\n",
       "    </tr>\n",
       "  </tbody>\n",
       "</table>\n",
       "</div>"
      ],
      "text/plain": [
       "                 datetime  season  holiday  workingday  weather   temp  \\\n",
       "1603  2011-07-21 19:00:00       3        0           1        1  35.26   \n",
       "1604  2011-07-21 20:00:00       3        0           1        1  34.44   \n",
       "1605  2011-07-21 21:00:00       3        0           1        1  33.62   \n",
       "\n",
       "       atemp  humidity  windspeed  \n",
       "1603  46.210        67    19.0012  \n",
       "1604  44.695        71    15.0013  \n",
       "1605  44.695        75    15.0013  "
      ]
     },
     "execution_count": 113,
     "metadata": {},
     "output_type": "execute_result"
    }
   ],
   "source": [
    "X[ridge_estimator.predict(Xhat) < 0]"
   ]
  },
  {
   "cell_type": "markdown",
   "metadata": {},
   "source": [
    "### Grid Search"
   ]
  },
  {
   "cell_type": "code",
   "execution_count": 99,
   "metadata": {
    "collapsed": false
   },
   "outputs": [
    {
     "data": {
      "text/plain": [
       "[mean: -1.40707, std: 0.13649, params: {u'alpha': 1.0},\n",
       " mean: -1.40707, std: 0.13649, params: {u'alpha': 1.6681005372000588},\n",
       " mean: -1.40707, std: 0.13649, params: {u'alpha': 2.7825594022071245},\n",
       " mean: -1.40707, std: 0.13649, params: {u'alpha': 4.6415888336127784},\n",
       " mean: -1.40707, std: 0.13649, params: {u'alpha': 7.7426368268112693},\n",
       " mean: -1.40706, std: 0.13649, params: {u'alpha': 12.915496650148841},\n",
       " mean: -1.40705, std: 0.13650, params: {u'alpha': 21.544346900318832},\n",
       " mean: -1.40703, std: 0.13650, params: {u'alpha': 35.938136638046259},\n",
       " mean: -1.40701, std: 0.13651, params: {u'alpha': 59.948425031894089},\n",
       " mean: -1.40697, std: 0.13652, params: {u'alpha': 100.0}]"
      ]
     },
     "execution_count": 99,
     "metadata": {},
     "output_type": "execute_result"
    }
   ],
   "source": [
    "from sklearn.grid_search import GridSearchCV\n",
    "\n",
    "# Try a simple grid search with the estimator\n",
    "parameters = {'alpha': np.logspace(0, 2, 10)}\n",
    "grid = GridSearchCV(ridge_estimator, parameters, scoring=rmsele_scorer, cv=5)\n",
    "grid.fit(Xhat, y)\n",
    "grid.grid_scores_"
   ]
  },
  {
   "cell_type": "code",
   "execution_count": 100,
   "metadata": {
    "collapsed": true
   },
   "outputs": [],
   "source": [
    "# And for grid_search\n",
    "def perform_grid_search(estimator, parameters, X, y):\n",
    "    grid_search = GridSearchCV(estimator, parameters, scoring=rmsele_scorer, cv=5)\n",
    "    grid_search.fit(X, y)\n",
    "    return grid_search"
   ]
  },
  {
   "cell_type": "markdown",
   "metadata": {},
   "source": [
    "## Transform Data"
   ]
  },
  {
   "cell_type": "code",
   "execution_count": 128,
   "metadata": {
    "collapsed": true
   },
   "outputs": [],
   "source": [
    "from sklearn.preprocessing import StandardScaler"
   ]
  },
  {
   "cell_type": "code",
   "execution_count": 130,
   "metadata": {
    "collapsed": false
   },
   "outputs": [
    {
     "data": {
      "text/plain": [
       "StandardScaler(copy=True, with_mean=True, with_std=True)"
      ]
     },
     "execution_count": 130,
     "metadata": {},
     "output_type": "execute_result"
    }
   ],
   "source": [
    "Xhat = X[['temp', 'atemp', 'humidity']]\n",
    "normalize = StandardScaler()\n",
    "normalize.fit(Xhat)"
   ]
  },
  {
   "cell_type": "code",
   "execution_count": 131,
   "metadata": {
    "collapsed": false
   },
   "outputs": [
    {
     "name": "stdout",
     "output_type": "stream",
     "text": [
      "[  8.05896237   8.78206495  19.29190522]\n",
      "[ 20.62060681  24.01286462  64.12521177]\n"
     ]
    },
    {
     "data": {
      "text/html": [
       "<div>\n",
       "<table border=\"1\" class=\"dataframe\">\n",
       "  <thead>\n",
       "    <tr style=\"text-align: right;\">\n",
       "      <th></th>\n",
       "      <th>temp</th>\n",
       "      <th>atemp</th>\n",
       "      <th>humidity</th>\n",
       "    </tr>\n",
       "  </thead>\n",
       "  <tbody>\n",
       "    <tr>\n",
       "      <th>0</th>\n",
       "      <td>-1.235966</td>\n",
       "      <td>-1.440193</td>\n",
       "      <td>-0.421172</td>\n",
       "    </tr>\n",
       "    <tr>\n",
       "      <th>1</th>\n",
       "      <td>-1.235966</td>\n",
       "      <td>-1.181711</td>\n",
       "      <td>-0.421172</td>\n",
       "    </tr>\n",
       "    <tr>\n",
       "      <th>2</th>\n",
       "      <td>-1.235966</td>\n",
       "      <td>-1.181711</td>\n",
       "      <td>-0.421172</td>\n",
       "    </tr>\n",
       "    <tr>\n",
       "      <th>3</th>\n",
       "      <td>-1.235966</td>\n",
       "      <td>-1.267682</td>\n",
       "      <td>-0.421172</td>\n",
       "    </tr>\n",
       "    <tr>\n",
       "      <th>4</th>\n",
       "      <td>-1.235966</td>\n",
       "      <td>-1.267682</td>\n",
       "      <td>-0.421172</td>\n",
       "    </tr>\n",
       "    <tr>\n",
       "      <th>5</th>\n",
       "      <td>-1.337716</td>\n",
       "      <td>-1.440193</td>\n",
       "      <td>-0.213831</td>\n",
       "    </tr>\n",
       "    <tr>\n",
       "      <th>6</th>\n",
       "      <td>-1.439467</td>\n",
       "      <td>-1.526733</td>\n",
       "      <td>-0.213831</td>\n",
       "    </tr>\n",
       "    <tr>\n",
       "      <th>7</th>\n",
       "      <td>-1.439467</td>\n",
       "      <td>-1.526733</td>\n",
       "      <td>-0.473007</td>\n",
       "    </tr>\n",
       "    <tr>\n",
       "      <th>8</th>\n",
       "      <td>-1.439467</td>\n",
       "      <td>-1.526733</td>\n",
       "      <td>-0.473007</td>\n",
       "    </tr>\n",
       "    <tr>\n",
       "      <th>9</th>\n",
       "      <td>-1.337716</td>\n",
       "      <td>-1.440193</td>\n",
       "      <td>-0.628513</td>\n",
       "    </tr>\n",
       "    <tr>\n",
       "      <th>10</th>\n",
       "      <td>-1.235966</td>\n",
       "      <td>-1.440193</td>\n",
       "      <td>-0.835854</td>\n",
       "    </tr>\n",
       "    <tr>\n",
       "      <th>11</th>\n",
       "      <td>-1.134216</td>\n",
       "      <td>-1.181711</td>\n",
       "      <td>-0.991359</td>\n",
       "    </tr>\n",
       "    <tr>\n",
       "      <th>12</th>\n",
       "      <td>-1.032466</td>\n",
       "      <td>-0.836690</td>\n",
       "      <td>-1.146865</td>\n",
       "    </tr>\n",
       "    <tr>\n",
       "      <th>13</th>\n",
       "      <td>-1.134216</td>\n",
       "      <td>-1.095171</td>\n",
       "      <td>-0.991359</td>\n",
       "    </tr>\n",
       "    <tr>\n",
       "      <th>14</th>\n",
       "      <td>-1.032466</td>\n",
       "      <td>-1.009201</td>\n",
       "      <td>-0.991359</td>\n",
       "    </tr>\n",
       "    <tr>\n",
       "      <th>15</th>\n",
       "      <td>-0.930716</td>\n",
       "      <td>-0.922661</td>\n",
       "      <td>-0.991359</td>\n",
       "    </tr>\n",
       "    <tr>\n",
       "      <th>16</th>\n",
       "      <td>-1.032466</td>\n",
       "      <td>-1.009201</td>\n",
       "      <td>-0.784019</td>\n",
       "    </tr>\n",
       "    <tr>\n",
       "      <th>17</th>\n",
       "      <td>-1.032466</td>\n",
       "      <td>-0.922661</td>\n",
       "      <td>-0.784019</td>\n",
       "    </tr>\n",
       "    <tr>\n",
       "      <th>18</th>\n",
       "      <td>-1.235966</td>\n",
       "      <td>-1.267682</td>\n",
       "      <td>-0.421172</td>\n",
       "    </tr>\n",
       "    <tr>\n",
       "      <th>19</th>\n",
       "      <td>-1.235966</td>\n",
       "      <td>-1.440193</td>\n",
       "      <td>-0.421172</td>\n",
       "    </tr>\n",
       "    <tr>\n",
       "      <th>20</th>\n",
       "      <td>-1.235966</td>\n",
       "      <td>-1.354222</td>\n",
       "      <td>-0.213831</td>\n",
       "    </tr>\n",
       "    <tr>\n",
       "      <th>21</th>\n",
       "      <td>-1.337716</td>\n",
       "      <td>-1.440193</td>\n",
       "      <td>-0.213831</td>\n",
       "    </tr>\n",
       "    <tr>\n",
       "      <th>22</th>\n",
       "      <td>-1.337716</td>\n",
       "      <td>-1.526733</td>\n",
       "      <td>0.045345</td>\n",
       "    </tr>\n",
       "    <tr>\n",
       "      <th>23</th>\n",
       "      <td>-1.337716</td>\n",
       "      <td>-1.526733</td>\n",
       "      <td>0.045345</td>\n",
       "    </tr>\n",
       "    <tr>\n",
       "      <th>24</th>\n",
       "      <td>-1.337716</td>\n",
       "      <td>-1.440193</td>\n",
       "      <td>0.304521</td>\n",
       "    </tr>\n",
       "    <tr>\n",
       "      <th>25</th>\n",
       "      <td>-1.337716</td>\n",
       "      <td>-1.440193</td>\n",
       "      <td>0.304521</td>\n",
       "    </tr>\n",
       "    <tr>\n",
       "      <th>26</th>\n",
       "      <td>-1.337716</td>\n",
       "      <td>-1.354222</td>\n",
       "      <td>0.563697</td>\n",
       "    </tr>\n",
       "    <tr>\n",
       "      <th>27</th>\n",
       "      <td>-1.439467</td>\n",
       "      <td>-1.526733</td>\n",
       "      <td>0.822873</td>\n",
       "    </tr>\n",
       "    <tr>\n",
       "      <th>28</th>\n",
       "      <td>-1.439467</td>\n",
       "      <td>-1.267682</td>\n",
       "      <td>1.185720</td>\n",
       "    </tr>\n",
       "    <tr>\n",
       "      <th>29</th>\n",
       "      <td>-1.337716</td>\n",
       "      <td>-1.612703</td>\n",
       "      <td>-0.213831</td>\n",
       "    </tr>\n",
       "    <tr>\n",
       "      <th>...</th>\n",
       "      <td>...</td>\n",
       "      <td>...</td>\n",
       "      <td>...</td>\n",
       "    </tr>\n",
       "    <tr>\n",
       "      <th>6463</th>\n",
       "      <td>-1.337716</td>\n",
       "      <td>-1.526733</td>\n",
       "      <td>-1.043195</td>\n",
       "    </tr>\n",
       "    <tr>\n",
       "      <th>6464</th>\n",
       "      <td>-0.828966</td>\n",
       "      <td>-0.664179</td>\n",
       "      <td>-0.161996</td>\n",
       "    </tr>\n",
       "    <tr>\n",
       "      <th>6465</th>\n",
       "      <td>-1.439467</td>\n",
       "      <td>-1.612703</td>\n",
       "      <td>-0.887689</td>\n",
       "    </tr>\n",
       "    <tr>\n",
       "      <th>6466</th>\n",
       "      <td>-1.541217</td>\n",
       "      <td>-1.526733</td>\n",
       "      <td>-0.680348</td>\n",
       "    </tr>\n",
       "    <tr>\n",
       "      <th>6467</th>\n",
       "      <td>-1.541217</td>\n",
       "      <td>-1.612703</td>\n",
       "      <td>-0.473007</td>\n",
       "    </tr>\n",
       "    <tr>\n",
       "      <th>6468</th>\n",
       "      <td>-1.541217</td>\n",
       "      <td>-1.612703</td>\n",
       "      <td>-0.680348</td>\n",
       "    </tr>\n",
       "    <tr>\n",
       "      <th>6469</th>\n",
       "      <td>-1.642967</td>\n",
       "      <td>-1.699243</td>\n",
       "      <td>-0.473007</td>\n",
       "    </tr>\n",
       "    <tr>\n",
       "      <th>6470</th>\n",
       "      <td>-1.642967</td>\n",
       "      <td>-1.699243</td>\n",
       "      <td>-0.473007</td>\n",
       "    </tr>\n",
       "    <tr>\n",
       "      <th>6471</th>\n",
       "      <td>-1.744717</td>\n",
       "      <td>-1.785214</td>\n",
       "      <td>-0.265666</td>\n",
       "    </tr>\n",
       "    <tr>\n",
       "      <th>6472</th>\n",
       "      <td>-1.744717</td>\n",
       "      <td>-1.699243</td>\n",
       "      <td>-0.265666</td>\n",
       "    </tr>\n",
       "    <tr>\n",
       "      <th>6473</th>\n",
       "      <td>-1.846467</td>\n",
       "      <td>-1.785214</td>\n",
       "      <td>0.252686</td>\n",
       "    </tr>\n",
       "    <tr>\n",
       "      <th>6474</th>\n",
       "      <td>-1.744717</td>\n",
       "      <td>-1.871754</td>\n",
       "      <td>-0.006490</td>\n",
       "    </tr>\n",
       "    <tr>\n",
       "      <th>6475</th>\n",
       "      <td>-1.744717</td>\n",
       "      <td>-1.785214</td>\n",
       "      <td>-0.006490</td>\n",
       "    </tr>\n",
       "    <tr>\n",
       "      <th>6476</th>\n",
       "      <td>-1.744717</td>\n",
       "      <td>-1.699243</td>\n",
       "      <td>-0.006490</td>\n",
       "    </tr>\n",
       "    <tr>\n",
       "      <th>6477</th>\n",
       "      <td>-1.846467</td>\n",
       "      <td>-1.871754</td>\n",
       "      <td>0.252686</td>\n",
       "    </tr>\n",
       "    <tr>\n",
       "      <th>6478</th>\n",
       "      <td>-1.642967</td>\n",
       "      <td>-1.526733</td>\n",
       "      <td>-0.006490</td>\n",
       "    </tr>\n",
       "    <tr>\n",
       "      <th>6479</th>\n",
       "      <td>-1.541217</td>\n",
       "      <td>-1.526733</td>\n",
       "      <td>0.252686</td>\n",
       "    </tr>\n",
       "    <tr>\n",
       "      <th>6480</th>\n",
       "      <td>-1.439467</td>\n",
       "      <td>-1.440193</td>\n",
       "      <td>-0.213831</td>\n",
       "    </tr>\n",
       "    <tr>\n",
       "      <th>6481</th>\n",
       "      <td>-1.337716</td>\n",
       "      <td>-1.440193</td>\n",
       "      <td>-0.421172</td>\n",
       "    </tr>\n",
       "    <tr>\n",
       "      <th>6482</th>\n",
       "      <td>-1.235966</td>\n",
       "      <td>-1.267682</td>\n",
       "      <td>-1.043195</td>\n",
       "    </tr>\n",
       "    <tr>\n",
       "      <th>6483</th>\n",
       "      <td>-1.134216</td>\n",
       "      <td>-1.181711</td>\n",
       "      <td>-0.991359</td>\n",
       "    </tr>\n",
       "    <tr>\n",
       "      <th>6484</th>\n",
       "      <td>-1.134216</td>\n",
       "      <td>-1.095171</td>\n",
       "      <td>-0.991359</td>\n",
       "    </tr>\n",
       "    <tr>\n",
       "      <th>6485</th>\n",
       "      <td>-1.235966</td>\n",
       "      <td>-1.267682</td>\n",
       "      <td>-0.835854</td>\n",
       "    </tr>\n",
       "    <tr>\n",
       "      <th>6486</th>\n",
       "      <td>-1.235966</td>\n",
       "      <td>-1.095171</td>\n",
       "      <td>-0.835854</td>\n",
       "    </tr>\n",
       "    <tr>\n",
       "      <th>6487</th>\n",
       "      <td>-1.235966</td>\n",
       "      <td>-1.181711</td>\n",
       "      <td>-0.835854</td>\n",
       "    </tr>\n",
       "    <tr>\n",
       "      <th>6488</th>\n",
       "      <td>-1.235966</td>\n",
       "      <td>-1.267682</td>\n",
       "      <td>-0.213831</td>\n",
       "    </tr>\n",
       "    <tr>\n",
       "      <th>6489</th>\n",
       "      <td>-1.235966</td>\n",
       "      <td>-1.267682</td>\n",
       "      <td>-0.213831</td>\n",
       "    </tr>\n",
       "    <tr>\n",
       "      <th>6490</th>\n",
       "      <td>-1.235966</td>\n",
       "      <td>-1.267682</td>\n",
       "      <td>-0.213831</td>\n",
       "    </tr>\n",
       "    <tr>\n",
       "      <th>6491</th>\n",
       "      <td>-1.235966</td>\n",
       "      <td>-1.181711</td>\n",
       "      <td>-0.421172</td>\n",
       "    </tr>\n",
       "    <tr>\n",
       "      <th>6492</th>\n",
       "      <td>-1.235966</td>\n",
       "      <td>-1.181711</td>\n",
       "      <td>0.045345</td>\n",
       "    </tr>\n",
       "  </tbody>\n",
       "</table>\n",
       "<p>6493 rows × 3 columns</p>\n",
       "</div>"
      ],
      "text/plain": [
       "          temp     atemp  humidity\n",
       "0    -1.235966 -1.440193 -0.421172\n",
       "1    -1.235966 -1.181711 -0.421172\n",
       "2    -1.235966 -1.181711 -0.421172\n",
       "3    -1.235966 -1.267682 -0.421172\n",
       "4    -1.235966 -1.267682 -0.421172\n",
       "5    -1.337716 -1.440193 -0.213831\n",
       "6    -1.439467 -1.526733 -0.213831\n",
       "7    -1.439467 -1.526733 -0.473007\n",
       "8    -1.439467 -1.526733 -0.473007\n",
       "9    -1.337716 -1.440193 -0.628513\n",
       "10   -1.235966 -1.440193 -0.835854\n",
       "11   -1.134216 -1.181711 -0.991359\n",
       "12   -1.032466 -0.836690 -1.146865\n",
       "13   -1.134216 -1.095171 -0.991359\n",
       "14   -1.032466 -1.009201 -0.991359\n",
       "15   -0.930716 -0.922661 -0.991359\n",
       "16   -1.032466 -1.009201 -0.784019\n",
       "17   -1.032466 -0.922661 -0.784019\n",
       "18   -1.235966 -1.267682 -0.421172\n",
       "19   -1.235966 -1.440193 -0.421172\n",
       "20   -1.235966 -1.354222 -0.213831\n",
       "21   -1.337716 -1.440193 -0.213831\n",
       "22   -1.337716 -1.526733  0.045345\n",
       "23   -1.337716 -1.526733  0.045345\n",
       "24   -1.337716 -1.440193  0.304521\n",
       "25   -1.337716 -1.440193  0.304521\n",
       "26   -1.337716 -1.354222  0.563697\n",
       "27   -1.439467 -1.526733  0.822873\n",
       "28   -1.439467 -1.267682  1.185720\n",
       "29   -1.337716 -1.612703 -0.213831\n",
       "...        ...       ...       ...\n",
       "6463 -1.337716 -1.526733 -1.043195\n",
       "6464 -0.828966 -0.664179 -0.161996\n",
       "6465 -1.439467 -1.612703 -0.887689\n",
       "6466 -1.541217 -1.526733 -0.680348\n",
       "6467 -1.541217 -1.612703 -0.473007\n",
       "6468 -1.541217 -1.612703 -0.680348\n",
       "6469 -1.642967 -1.699243 -0.473007\n",
       "6470 -1.642967 -1.699243 -0.473007\n",
       "6471 -1.744717 -1.785214 -0.265666\n",
       "6472 -1.744717 -1.699243 -0.265666\n",
       "6473 -1.846467 -1.785214  0.252686\n",
       "6474 -1.744717 -1.871754 -0.006490\n",
       "6475 -1.744717 -1.785214 -0.006490\n",
       "6476 -1.744717 -1.699243 -0.006490\n",
       "6477 -1.846467 -1.871754  0.252686\n",
       "6478 -1.642967 -1.526733 -0.006490\n",
       "6479 -1.541217 -1.526733  0.252686\n",
       "6480 -1.439467 -1.440193 -0.213831\n",
       "6481 -1.337716 -1.440193 -0.421172\n",
       "6482 -1.235966 -1.267682 -1.043195\n",
       "6483 -1.134216 -1.181711 -0.991359\n",
       "6484 -1.134216 -1.095171 -0.991359\n",
       "6485 -1.235966 -1.267682 -0.835854\n",
       "6486 -1.235966 -1.095171 -0.835854\n",
       "6487 -1.235966 -1.181711 -0.835854\n",
       "6488 -1.235966 -1.267682 -0.213831\n",
       "6489 -1.235966 -1.267682 -0.213831\n",
       "6490 -1.235966 -1.267682 -0.213831\n",
       "6491 -1.235966 -1.181711 -0.421172\n",
       "6492 -1.235966 -1.181711  0.045345\n",
       "\n",
       "[6493 rows x 3 columns]"
      ]
     },
     "execution_count": 131,
     "metadata": {},
     "output_type": "execute_result"
    }
   ],
   "source": [
    "print normalize.std_\n",
    "print normalize.mean_\n",
    "(Xhat - Xhat.mean()) / Xhat.std()\n",
    "(Xhat - normalize.mean_) / normalize.std_"
   ]
  },
  {
   "cell_type": "code",
   "execution_count": 132,
   "metadata": {
    "collapsed": false
   },
   "outputs": [
    {
     "name": "stderr",
     "output_type": "stream",
     "text": [
      "[Parallel(n_jobs=1)]: Done   1 jobs       | elapsed:    0.0s\n",
      "[Parallel(n_jobs=1)]: Done   5 out of   5 | elapsed:    0.0s finished\n"
     ]
    },
    {
     "data": {
      "text/plain": [
       "array([-0.79759964, -1.1612211 , -0.95312686, -0.9597229 , -1.13519441])"
      ]
     },
     "execution_count": 132,
     "metadata": {},
     "output_type": "execute_result"
    }
   ],
   "source": [
    "from sklearn.preprocessing import StandardScaler\n",
    "\n",
    "# Now lets move on to the actual transformation of the inputs\n",
    "# First, not every estimator we'll use will have the \"normalize\" keyword\n",
    "# So let's break it out into a transformer, so that we have better control over it\n",
    "normalize = StandardScaler()\n",
    "ridge_estimator = Ridge()\n",
    "Xhat = X[['temp', 'atemp', 'humidity']]\n",
    "Xhat = normalize.fit_transform(Xhat)\n",
    "scores = perform_cv(ridge_estimator, Xhat, y)\n",
    "scores"
   ]
  },
  {
   "cell_type": "code",
   "execution_count": 133,
   "metadata": {
    "collapsed": false
   },
   "outputs": [
    {
     "name": "stderr",
     "output_type": "stream",
     "text": [
      "[Parallel(n_jobs=1)]: Done   1 jobs       | elapsed:    0.0s\n",
      "[Parallel(n_jobs=1)]: Done   5 out of   5 | elapsed:    0.0s finished\n"
     ]
    },
    {
     "data": {
      "text/plain": [
       "array([-0.79748819, -1.16231977, -0.95315771, -0.95972978, -1.13522833])"
      ]
     },
     "execution_count": 133,
     "metadata": {},
     "output_type": "execute_result"
    }
   ],
   "source": [
    "from sklearn.pipeline import Pipeline, FeatureUnion\n",
    "\n",
    "# Now we have the beginnings of a multi-step pipeline\n",
    "# Scikit lets you wrap each of these steps into a Pipeline object, so you just have to run fit / predict once\n",
    "# instead of manually feeding the data from one transformer to the next\n",
    "normalize = StandardScaler()\n",
    "ridge_estimator = Ridge()\n",
    "pipeline = Pipeline([('normalize', normalize), ('ridge', ridge_estimator)])\n",
    "Xhat = X[['temp', 'atemp', 'humidity']]\n",
    "scores = perform_cv(pipeline, Xhat, y)\n",
    "scores"
   ]
  },
  {
   "cell_type": "code",
   "execution_count": 134,
   "metadata": {
    "collapsed": false
   },
   "outputs": [
    {
     "data": {
      "text/plain": [
       "[mean: -1.00157, std: 0.13375, params: {u'ridge__alpha': 1.0},\n",
       " mean: -1.00007, std: 0.13095, params: {u'ridge__alpha': 2.1544346900318838},\n",
       " mean: -1.00438, std: 0.13395, params: {u'ridge__alpha': 4.6415888336127784},\n",
       " mean: -1.00412, std: 0.12983, params: {u'ridge__alpha': 10.0},\n",
       " mean: -1.00532, std: 0.12538, params: {u'ridge__alpha': 21.544346900318832},\n",
       " mean: -1.00748, std: 0.12074, params: {u'ridge__alpha': 46.415888336127772},\n",
       " mean: -1.01160, std: 0.11830, params: {u'ridge__alpha': 100.0},\n",
       " mean: -1.01541, std: 0.11720, params: {u'ridge__alpha': 215.44346900318823},\n",
       " mean: -1.01812, std: 0.11709, params: {u'ridge__alpha': 464.15888336127773},\n",
       " mean: -1.02011, std: 0.11788, params: {u'ridge__alpha': 1000.0}]"
      ]
     },
     "execution_count": 134,
     "metadata": {},
     "output_type": "execute_result"
    }
   ],
   "source": [
    "# Additionally, you can perform grid search over all of the steps of the pipeline\n",
    "# So you don't have to tune each step manually\n",
    "# The pipeline exposes the underlying steps' parameters like so:\n",
    "# ridge__alpha, and normalize__with_mean\n",
    "normalize = StandardScaler()\n",
    "ridge_estimator = Ridge()\n",
    "parameters = {'ridge__alpha': np.logspace(0, 3, 10)}\n",
    "Xhat = X[['temp', 'atemp', 'humidity']]\n",
    "pipeline = Pipeline([('normalize', normalize), ('ridge', ridge_estimator)])\n",
    "grid = GridSearchCV(pipeline, parameters, scoring=rmsele_scorer, cv=5)\n",
    "grid.fit(Xhat, y)\n",
    "grid.grid_scores_"
   ]
  },
  {
   "cell_type": "markdown",
   "metadata": {},
   "source": [
    "## Submission"
   ]
  },
  {
   "cell_type": "code",
   "execution_count": 118,
   "metadata": {
    "collapsed": true
   },
   "outputs": [],
   "source": [
    "def make_submission(df_test, prediction, filename='submission.csv'):\n",
    "    with open(filename, 'w') as f:\n",
    "        f.write('datetime,count\\n')\n",
    "        submission_strings = df_test.reset_index()['datetime'] + ',' + prediction.astype(str)\n",
    "        for row in submission_strings:\n",
    "            f.write(row + '\\n')\n",
    "\n",
    "# make_submission(df_test, prediction, 'submission1.csv')"
   ]
  }
 ],
 "metadata": {
  "kernelspec": {
   "display_name": "Python 2",
   "language": "python",
   "name": "python2"
  },
  "language_info": {
   "codemirror_mode": {
    "name": "ipython",
    "version": 2
   },
   "file_extension": ".py",
   "mimetype": "text/x-python",
   "name": "python",
   "nbconvert_exporter": "python",
   "pygments_lexer": "ipython2",
   "version": "2.7.10"
  }
 },
 "nbformat": 4,
 "nbformat_minor": 0
}
