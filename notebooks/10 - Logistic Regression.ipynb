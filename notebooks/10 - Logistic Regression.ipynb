{
 "cells": [
  {
   "cell_type": "code",
   "execution_count": 1,
   "metadata": {
    "collapsed": false
   },
   "outputs": [
    {
     "data": {
      "application/javascript": [
       "\n",
       "window.load_remote_theme = false\n",
       "var theme_url = \"https://drostehk.github.io/ipynb-theme/\";\n",
       "var asset_url = 'https://raw.githubusercontent.com/tijptjik/DS_assets/master/';\n",
       "\n",
       "window.load_local_theme = function(){\n",
       "    var hostname = document.location.hostname\n",
       "    return ((hostname == \"localhost\" || hostname == '127.0.0.1') && !load_remote_theme)\n",
       "}\n",
       "\n",
       "var url = load_local_theme() ? document.location.origin + \"/files/theme/custom.js\" : theme_url + 'custom.js'\n",
       "\n",
       "$.getScript(url)"
      ],
      "text/plain": [
       "<IPython.core.display.Javascript object>"
      ]
     },
     "metadata": {},
     "output_type": "display_data"
    }
   ],
   "source": [
    "%%javascript\n",
    "\n",
    "window.load_remote_theme = false\n",
    "var theme_url = \"https://drostehk.github.io/ipynb-theme/\";\n",
    "var asset_url = 'https://raw.githubusercontent.com/tijptjik/DS_assets/master/';\n",
    "\n",
    "window.load_local_theme = function(){\n",
    "    var hostname = document.location.hostname\n",
    "    return ((hostname == \"localhost\" || hostname == '127.0.0.1') && !load_remote_theme)\n",
    "}\n",
    "\n",
    "var url = load_local_theme() ? document.location.origin + \"/files/theme/custom.js\" : theme_url + 'custom.js'\n",
    "\n",
    "$.getScript(url)"
   ]
  },
  {
   "cell_type": "markdown",
   "metadata": {},
   "source": [
    "# Logistic Regression"
   ]
  },
  {
   "cell_type": "markdown",
   "metadata": {},
   "source": [
    "> The virtue of binary is that it's the simplest possible way of representing numbers. Anything else is more complicated. You can catch errors with it, it's unambiguous in its reading, there are lots of good things about binary. So it is very, very simple once you learn how to read it.\n",
    "\n",
    "<footer>~ George M. Whitesides</footer>"
   ]
  },
  {
   "cell_type": "markdown",
   "metadata": {},
   "source": [
    "![break](assets/agenda.png)"
   ]
  },
  {
   "cell_type": "markdown",
   "metadata": {},
   "source": [
    "1. Logistic Regression\n",
    "1. Interpreting Results\n",
    "\n",
    "**Labs:**\n",
    "1. Logistic Regression"
   ]
  },
  {
   "cell_type": "markdown",
   "metadata": {},
   "source": [
    "![break](assets/theory.png)"
   ]
  },
  {
   "cell_type": "markdown",
   "metadata": {},
   "source": [
    "## Logistic Regression"
   ]
  },
  {
   "cell_type": "markdown",
   "metadata": {},
   "source": [
    "|   \t|continuous\t|categorical   \t|\n",
    "|:-:\t|:-:\t|:-:\t|\n",
    "|**supervised**   \t|regression   \t|**classification**   \t|\n",
    "|**unsupervised**   \t|dimension reduction   \t|clustering   \t|"
   ]
  },
  {
   "cell_type": "markdown",
   "metadata": {},
   "source": [
    "A generalization of the linear regression model to classification problems."
   ]
  },
  {
   "cell_type": "markdown",
   "metadata": {},
   "source": [
    "In **linear regression**, we used a set of covariates to predict the value of a (continuous) outcome variable.\n",
    "In **logistic regression**, we use a set of covariates to predict probabilities of (binary) class membership. These probabilities are then mapped to class labels, thus solving the classification problem."
   ]
  },
  {
   "cell_type": "markdown",
   "metadata": {},
   "source": [
    "Probability predictions look like this."
   ]
  },
  {
   "cell_type": "markdown",
   "metadata": {},
   "source": [
    "![](assets/logistic_regression.png)"
   ]
  },
  {
   "cell_type": "markdown",
   "metadata": {},
   "source": [
    "* ** Y ** : Probability of belonging to class\n",
    "* ** X ** : Value of independent variable"
   ]
  },
  {
   "cell_type": "markdown",
   "metadata": {},
   "source": [
    "Probabilities are “snapped” to class labels (eg by threshholding at 50%)."
   ]
  },
  {
   "cell_type": "markdown",
   "metadata": {},
   "source": [
    "![](assets/logistic_regression_snap.png)\n",
    "\n"
   ]
  },
  {
   "cell_type": "markdown",
   "metadata": {},
   "source": [
    "Note that Logistic Regression is primarily used to solve a binary classification problem.\n",
    "\n",
    "Examples:\n",
    "* Was this credit transaction fraudulent? (Y/N)\n",
    "* User a boy or a girl?\n",
    "* Do I have x disease?\n",
    "* Should this stock be bought or sold?"
   ]
  },
  {
   "cell_type": "markdown",
   "metadata": {},
   "source": [
    "### Why don't we simply use the linear model?"
   ]
  },
  {
   "cell_type": "markdown",
   "metadata": {},
   "source": [
    "Consider the linear probability (LP) model:"
   ]
  },
  {
   "cell_type": "markdown",
   "metadata": {},
   "source": [
    "$$Y = a + \\beta X + \\epsilon$$"
   ]
  },
  {
   "cell_type": "markdown",
   "metadata": {},
   "source": [
    "where"
   ]
  },
  {
   "cell_type": "markdown",
   "metadata": {},
   "source": [
    "* $Y$ is a dummy dependent variable, =1 if event happens, =0 if event doesn't happen,\n",
    "* $a$ is the coefficient on the constant term,\n",
    "* $B$ is the coefficient(s) on the independent variable(s),\n",
    "* $X$ is the independent variable(s), and\n",
    "* $e$ is the error term."
   ]
  },
  {
   "cell_type": "markdown",
   "metadata": {},
   "source": [
    "Use of the LP model generally gives you the correct answers in terms of the sign and significance level of the coefficients. The predicted probabilities from the model are usually where we run into trouble. There are 3 problems with using the LP model, all exhibed in the following plot"
   ]
  },
  {
   "cell_type": "markdown",
   "metadata": {},
   "source": [
    "![](http://www.decisionsonevidence.com/wp-content/uploads/2012/12/Using-Linear-Probability-Model-to-Fit-Relationship-between-Adult-Literacy-and-GDP-per-Capita-1024x744.png)"
   ]
  },
  {
   "cell_type": "markdown",
   "metadata": {},
   "source": [
    "### Variance"
   ]
  },
  {
   "cell_type": "markdown",
   "metadata": {},
   "source": [
    "$$ Var(X) = E(X^2) - (E(X))^2 $$"
   ]
  },
  {
   "cell_type": "markdown",
   "metadata": {},
   "source": [
    "The derivation of this formula, for discrete random variable is"
   ]
  },
  {
   "cell_type": "markdown",
   "metadata": {},
   "source": [
    "$$ \\begin{align}\n",
    "  Var(X) &= \\sum (x-\\mu)^2 P(x) \\\\\n",
    "  &= \\sum (x^2 - 2\\mu x + {\\mu}^2) P(x) \\\\\n",
    "  &= \\sum x^2 P(x) - 2\\mu \\sum x P(x) + {\\mu}^2 \\sum P(x) \\\\\n",
    "  &= E(X^2) - 2\\mu \\mu + {\\mu}^2 (1) \\\\\n",
    "  &= E(X^2) - {\\mu}^2 \\\\\n",
    "  &= E(X^2) - (E(X))^2\n",
    "\\end{align}  $$ "
   ]
  },
  {
   "cell_type": "markdown",
   "metadata": {},
   "source": [
    "### Bernouli Trials"
   ]
  },
  {
   "cell_type": "markdown",
   "metadata": {},
   "source": [
    "An experiment, or trial, whose outcome can be classified as either a success or failure is\n",
    "performed.\n",
    "\n",
    "$X = 1$ when the outcome is a success\n",
    "$0$ when outcome is a failure\n",
    "\n",
    "If $p$ is the probability of a success then the probability mass function is,\n",
    "\n",
    "$$p(0) = P(X=0) = 1-p$$\n",
    "$$p(1) = P(X=1) = p$$\n",
    "\n",
    "A random variable is called a Bernoulli random variable if it has the above pmf for p\n",
    "between $0$ and $1$.\n",
    "\n",
    "Expected value of Bernoulli r. v.:\n",
    "\n",
    "$$E(X) = 0*(1-p) + 1*p = p$$\n",
    "\n",
    "Variance of Bernoulli r. v.:\n",
    "\n",
    "$$E(X^2) = 0^2*(1-p) + 1^2*p = p$$\n",
    "\n",
    "$$Var(X) = E(X^2) - (E(X))^2 = p - p^2 = p(1-p)$$"
   ]
  },
  {
   "cell_type": "markdown",
   "metadata": {},
   "source": [
    "1. The error terms are heteroskedastic (heteroskedasticity occurs when the variance of the dependent variable is different with different values of the independent variables): $var(e)= p/(1-p)$, where $p$ is the probability that EVENT=1. Since $P$ depends on $X$ the \"classical regression assumption\" that the error term does not depend on the $X$s is violated.\n",
    "1. $e$ is not normally distributed because $P$ takes on only two values, violating another \"classical regression assumption\"\n",
    "1. The predicted probabilities can be greater than $1$ or less than $0$ which can be a problem if the predicted values are used in a subsequent analysis. Some people try to solve this problem by setting probabilities that are greater than (less than) 1 (0) to be equal to 1 (0). This amounts to an interpretation that a high probability of the Event (Nonevent) occuring is considered a sure thing."
   ]
  },
  {
   "cell_type": "markdown",
   "metadata": {},
   "source": [
    "### The Logistic Regression Model"
   ]
  },
  {
   "cell_type": "markdown",
   "metadata": {},
   "source": [
    "The 'logit' model solves these problems:"
   ]
  },
  {
   "cell_type": "markdown",
   "metadata": {},
   "source": [
    "$$ln(p/(1-p)) = a + \\beta X + \\epsilon$$"
   ]
  },
  {
   "cell_type": "markdown",
   "metadata": {},
   "source": [
    "where:"
   ]
  },
  {
   "cell_type": "markdown",
   "metadata": {},
   "source": [
    "* $ln$ is the natural logarithm, $log_{exp}$, where $exp=2.71828…$\n",
    "* $p$ is the probability that the event Y occurs, $p(Y=1)$\n",
    "* $p/(1-p)$ is the \"odds ratio\"\n",
    "* $ln[p/(1-p)]$ is the log odds ratio, or \"logit\"\n",
    "* all other components of the model are the same."
   ]
  },
  {
   "cell_type": "markdown",
   "metadata": {},
   "source": [
    "### The log function\n",
    "\n",
    "Any positive number, `y`, can be written as `10` raised to some power, `x`. We can write this relationship in equation form:\n",
    "\n",
    "$$ y = 10^ x$$\n",
    "    \n",
    "For example it is obvious that 1000 can be written as $10^3$. It is not so obvious that $16$ can be written as $10^{1.2}$.\n",
    "\n",
    "![](http://mathonweb.com/help_ebook/html/functions/functions59.gif)\n",
    "\n",
    "We next define a function called the _logarithm_ that takes a number like 16 as input, calculates that it can be written as $10^{1.2}$, and returns the exponent $1.2$ as its output value. \n",
    "\n",
    "> **log(x)** (logarithm to the base e) is defined as the function that takes any positive number x as input and returns the exponent to which the base 10 must be raised to obtain x. The domain of the log function is all positive real numbers and the range is all real numbers.\n",
    "\n",
    "![](http://mathonweb.com/help_ebook/html/functions/functions60.gif)"
   ]
  },
  {
   "cell_type": "markdown",
   "metadata": {},
   "source": [
    "An important feature of the log function is that it increases very slowly as x becomes very large. It describes nicely how the human ear percieves loud sounds and the way the human eye percieves bright lights."
   ]
  },
  {
   "cell_type": "markdown",
   "metadata": {},
   "source": [
    "We next define a function called the natural logarithm that takes a number like $5$ as input, calculates that it can be written as $e^{1.6}$, and returns the exponent $1.6$ as its output value."
   ]
  },
  {
   "cell_type": "markdown",
   "metadata": {},
   "source": [
    "![](http://mathonweb.com/help_ebook/html/functions/functions61a.gif)"
   ]
  },
  {
   "cell_type": "markdown",
   "metadata": {},
   "source": [
    "> `ln(x)` is defined as the function that takes any positive number $x$ as input and returns the exponent to which the base $e$ must be raised to obtain $x$. ($e$ denotes the number 2.7182818284590…).  The domain of the ln function is all positive real numbers and the range is all real numbers."
   ]
  },
  {
   "cell_type": "markdown",
   "metadata": {},
   "source": [
    "![](http://mathonweb.com/help_ebook/html/functions/functions61b.gif)"
   ]
  },
  {
   "cell_type": "markdown",
   "metadata": {},
   "source": [
    "All three of these curves are called exponential functions because the independent variable x is in the exponent. All three have the property that the higher up the curve you go the steeper they get. However $y = e ^x$ has the special property that **at every point along the curve the slope equals the height**. "
   ]
  },
  {
   "cell_type": "markdown",
   "metadata": {},
   "source": [
    "### The logistic regression"
   ]
  },
  {
   "cell_type": "markdown",
   "metadata": {},
   "source": [
    "The logistic regression model is simply a non-linear transformation of the linear regression. The \"logistic\" distribution is an S-shaped distribution function which is similar to the standard-normal distribution (which results in a probit regression model) but easier to work with in most applications (the probabilities are easier to calculate). The logit distribution constrains the estimated probabilities to lie between 0 and 1."
   ]
  },
  {
   "cell_type": "markdown",
   "metadata": {},
   "source": [
    "For instance, the estimated probability is:"
   ]
  },
  {
   "cell_type": "markdown",
   "metadata": {},
   "source": [
    "$$p = 1/[1 + exp(-a - \\beta X)]$$"
   ]
  },
  {
   "cell_type": "markdown",
   "metadata": {},
   "source": [
    "With this functional form:"
   ]
  },
  {
   "cell_type": "markdown",
   "metadata": {},
   "source": [
    "* if you let $a + \\beta X = 0$, then $p = .50$\n",
    "* as $a + \\beta X$ gets really big, p approaches 1\n",
    "* as $a + \\beta X$ gets really small, p approaches 0."
   ]
  },
  {
   "cell_type": "markdown",
   "metadata": {},
   "source": [
    "![](http://www.saedsayad.com/images/LogReg_1.png)"
   ]
  },
  {
   "cell_type": "markdown",
   "metadata": {},
   "source": [
    "### Interpreting Logit Coefficients"
   ]
  },
  {
   "cell_type": "markdown",
   "metadata": {},
   "source": [
    "The estimated coefficients must be interpreted with care. Instead of the slope coefficients ($\\beta$) being the rate of change in $Y$ (the dependent variables) as $X$ changes (as in the LP model or OLS regression), now the slope coefficient is interpreted as the rate of change in the \"log odds\" as $X$ changes. This explanation is not very intuitive..."
   ]
  },
  {
   "cell_type": "markdown",
   "metadata": {},
   "source": [
    "An interpretation of the logit coefficient which is usually more intuitive (especially for dummy independent variables) is the \"odds ratio\" --  $exp(\\beta)$ is the effect of the independent variable on the \"odds ratio\". The odds ratio is the probability of the event divided by the probability of the nonevent."
   ]
  },
  {
   "cell_type": "markdown",
   "metadata": {},
   "source": [
    "For example, if $exp(\\beta_3) = 2$, then a one unit change in $X_3$ would make the event twice as likely $(.67/.33)$ to occur. Odds ratios equal to $1$ mean that there is a $50/50$ chance that the event will occur with a small change in the independent variable."
   ]
  },
  {
   "cell_type": "markdown",
   "metadata": {},
   "source": [
    "Negative coefficients lead to odds ratios less than one: if $exp(\\beta_2) = 0.67$, then a one unit change in $X_2$ leads to the event being less likely ($.40/.60$) to occur."
   ]
  },
  {
   "cell_type": "markdown",
   "metadata": {},
   "source": [
    "Odds ratios less than $1$ (negative coefficients) tend to be harder to interpret than odds ratios greater than one(positive coefficients). Note that odds ratios for continuous independent variables tend to be close to one, this does NOT suggest that the coefficients are insignificant."
   ]
  },
  {
   "cell_type": "markdown",
   "metadata": {},
   "source": [
    "![break](assets/theory.png)"
   ]
  },
  {
   "cell_type": "markdown",
   "metadata": {},
   "source": [
    "## Interpreting Results"
   ]
  },
  {
   "cell_type": "markdown",
   "metadata": {},
   "source": [
    "In linear regression, the parameter β represents the change in the response variable for a unit change in the\n",
    "covariate. \n",
    "\n",
    "In logistic regression, β represents the change in the logit function for a unit change in the covariate.\n",
    "\n",
    "Interpreting this change in the logit function requires another definition first."
   ]
  },
  {
   "cell_type": "markdown",
   "metadata": {},
   "source": [
    "Your independent variables $X_i$ can be continuous or binary. The regression coefficients $\\beta_i$ can be exponentiated to give you the change in odds of $Y$ per change in $X_i$, i.e.,"
   ]
  },
  {
   "cell_type": "markdown",
   "metadata": {},
   "source": [
    "In English, you can say that the odds of $Y=1$ increase by a factor of $e^{\\beta_i}$ per unit change in $X$i."
   ]
  },
  {
   "cell_type": "markdown",
   "metadata": {},
   "source": [
    "The odds of an event are given by the ratio of the probability of the event by its complement:"
   ]
  },
  {
   "cell_type": "markdown",
   "metadata": {},
   "source": [
    "$$ O(x=1) = \\frac{p(1)}{(1-p(1))}$$ "
   ]
  },
  {
   "cell_type": "markdown",
   "metadata": {},
   "source": [
    "The odds ratio of a binary event is given by the odds of the event divided by the odds of its complement:"
   ]
  },
  {
   "cell_type": "markdown",
   "metadata": {},
   "source": [
    "$$ O R={O(x=1) \\over O(x=0)}={ p(1)/[1-p(1)] \\over p(0)/[1-p(0)] }$$ "
   ]
  },
  {
   "cell_type": "markdown",
   "metadata": {},
   "source": [
    "Substituting the definition of $p(x)$ into this equation yields (after some algebra),\n",
    "\n",
    "$$ O R = e^β $$\n",
    "\n",
    "This simple relationship between the odds ratio and the parameter $β$ is what makes logistic regression such a powerful tool."
   ]
  },
  {
   "cell_type": "markdown",
   "metadata": {},
   "source": [
    "**Q: So how do we interpret this?**\n",
    "\n",
    "A: The odds ratio of a binary event gives the increase in likelihood of an outcome if the event occurs."
   ]
  },
  {
   "cell_type": "markdown",
   "metadata": {},
   "source": [
    "Suppose we are interested in mobile purchase behavior. Let $y$ be a class label denoting purchase/no purchase, and let $x$ denote a mobile OS (for example, Android).\n",
    "\n",
    "In this case, an odds ratio of $2$ (eg, $β = log(2)$) indicates that a purchase is twice as likely for an Android user as for a non-Android user."
   ]
  },
  {
   "cell_type": "markdown",
   "metadata": {},
   "source": [
    "![break](assets/code.png)"
   ]
  },
  {
   "cell_type": "markdown",
   "metadata": {},
   "source": [
    "## Logistic Regression"
   ]
  },
  {
   "cell_type": "markdown",
   "metadata": {},
   "source": [
    "Use the example from $\\hat{y}$ instead : [Tutorial](http://blog.yhathq.com/posts/logistic-regression-and-python.html)"
   ]
  },
  {
   "cell_type": "markdown",
   "metadata": {},
   "source": [
    "* Work through the Logistic Regression model."
   ]
  },
  {
   "cell_type": "code",
   "execution_count": 18,
   "metadata": {
    "collapsed": false
   },
   "outputs": [],
   "source": [
    "%matplotlib inline\n",
    "import pandas as pd\n",
    "import numpy as np\n",
    "import matplotlib.pyplot as plt\n",
    "\n",
    "# Set some Pandas options\n",
    "pd.set_option('max_columns', 30)\n",
    "pd.set_option('max_rows', 20)\n",
    "\n",
    "# Store data in a consistent place\n",
    "DATA_DIR = '../data/'"
   ]
  },
  {
   "cell_type": "markdown",
   "metadata": {},
   "source": [
    "Let's see if we can use logistic regression to predict what kinds of beer people like."
   ]
  },
  {
   "cell_type": "code",
   "execution_count": 10,
   "metadata": {
    "collapsed": false
   },
   "outputs": [
    {
     "name": "stdout",
     "output_type": "stream",
     "text": [
      "  % Total    % Received % Xferd  Average Speed   Time    Time     Time  Current\n",
      "                                 Dload  Upload   Total   Spent    Left  Speed\n",
      "100 19771  100 19771    0     0  10139      0  0:00:01  0:00:01 --:--:-- 10138\n"
     ]
    }
   ],
   "source": [
    "!curl http://www-958.ibm.com/software/analytics/manyeyes/datasets/af-er-beer-dataset/versions/1.txt > ../data/beer.tsv    "
   ]
  },
  {
   "cell_type": "code",
   "execution_count": 19,
   "metadata": {
    "collapsed": false
   },
   "outputs": [
    {
     "data": {
      "text/html": [
       "<div style=\"max-height:1000px;max-width:1500px;overflow:auto;\">\n",
       "<table border=\"1\" class=\"dataframe\">\n",
       "  <thead>\n",
       "    <tr style=\"text-align: right;\">\n",
       "      <th></th>\n",
       "      <th>Rank</th>\n",
       "      <th>Name</th>\n",
       "      <th>Brewery</th>\n",
       "      <th>Type</th>\n",
       "      <th>ABV</th>\n",
       "      <th>WR</th>\n",
       "      <th>Reviews</th>\n",
       "    </tr>\n",
       "  </thead>\n",
       "  <tbody>\n",
       "    <tr>\n",
       "      <th>0 </th>\n",
       "      <td>  1</td>\n",
       "      <td>                                 Heady Topper</td>\n",
       "      <td>                                     The Alchemist</td>\n",
       "      <td>      Imperial IPA</td>\n",
       "      <td>  8.0</td>\n",
       "      <td> 4.69</td>\n",
       "      <td> 3146</td>\n",
       "    </tr>\n",
       "    <tr>\n",
       "      <th>1 </th>\n",
       "      <td>  2</td>\n",
       "      <td>                            Pliny The Younger</td>\n",
       "      <td>                     Russian River Brewing Company</td>\n",
       "      <td>      Imperial IPA</td>\n",
       "      <td> 11.0</td>\n",
       "      <td> 4.65</td>\n",
       "      <td> 1572</td>\n",
       "    </tr>\n",
       "    <tr>\n",
       "      <th>2 </th>\n",
       "      <td>  3</td>\n",
       "      <td>                              Pliny The Elder</td>\n",
       "      <td>                     Russian River Brewing Company</td>\n",
       "      <td>      Imperial IPA</td>\n",
       "      <td>  8.0</td>\n",
       "      <td> 4.64</td>\n",
       "      <td> 6129</td>\n",
       "    </tr>\n",
       "    <tr>\n",
       "      <th>3 </th>\n",
       "      <td>  4</td>\n",
       "      <td>                  Founders CBS Imperial Stout</td>\n",
       "      <td>                          Founders Brewing Company</td>\n",
       "      <td>    Imperial Stout</td>\n",
       "      <td> 10.6</td>\n",
       "      <td> 4.63</td>\n",
       "      <td> 2026</td>\n",
       "    </tr>\n",
       "    <tr>\n",
       "      <th>4 </th>\n",
       "      <td>  5</td>\n",
       "      <td>      Founders KBS (Kentucky Breakfast Stout)</td>\n",
       "      <td>                          Founders Brewing Company</td>\n",
       "      <td>    Imperial Stout</td>\n",
       "      <td> 11.2</td>\n",
       "      <td> 4.61</td>\n",
       "      <td> 4714</td>\n",
       "    </tr>\n",
       "    <tr>\n",
       "      <th>5 </th>\n",
       "      <td>  6</td>\n",
       "      <td>                                  Zombie Dust</td>\n",
       "      <td>                Three Floyds Brewing Co. &amp; Brewpub</td>\n",
       "      <td> American Pale Ale</td>\n",
       "      <td>  6.4</td>\n",
       "      <td> 4.61</td>\n",
       "      <td> 2978</td>\n",
       "    </tr>\n",
       "    <tr>\n",
       "      <th>6 </th>\n",
       "      <td>  7</td>\n",
       "      <td>               Trappist Westvleteren 12 (XII)</td>\n",
       "      <td> Brouwerij Westvleteren (Sint-Sixtusabdij van W...</td>\n",
       "      <td>               NaN</td>\n",
       "      <td> 10.2</td>\n",
       "      <td> 4.61</td>\n",
       "      <td> 2891</td>\n",
       "    </tr>\n",
       "    <tr>\n",
       "      <th>7 </th>\n",
       "      <td>  8</td>\n",
       "      <td>            Bourbon County Brand Coffee Stout</td>\n",
       "      <td>                             Goose Island Beer Co.</td>\n",
       "      <td>    Imperial Stout</td>\n",
       "      <td> 14.0</td>\n",
       "      <td> 4.61</td>\n",
       "      <td> 2014</td>\n",
       "    </tr>\n",
       "    <tr>\n",
       "      <th>8 </th>\n",
       "      <td>  9</td>\n",
       "      <td>                                     Parabola</td>\n",
       "      <td>                      Firestone Walker Brewing Co.</td>\n",
       "      <td>    Imperial Stout</td>\n",
       "      <td> 12.5</td>\n",
       "      <td> 4.55</td>\n",
       "      <td> 2178</td>\n",
       "    </tr>\n",
       "    <tr>\n",
       "      <th>9 </th>\n",
       "      <td> 10</td>\n",
       "      <td>   Bourbon Barrel Aged Vanilla Bean Dark Lord</td>\n",
       "      <td>                Three Floyds Brewing Co. &amp; Brewpub</td>\n",
       "      <td>    Imperial Stout</td>\n",
       "      <td> 15.0</td>\n",
       "      <td> 4.55</td>\n",
       "      <td>  429</td>\n",
       "    </tr>\n",
       "    <tr>\n",
       "      <th>10</th>\n",
       "      <td> 11</td>\n",
       "      <td>                                    The Abyss</td>\n",
       "      <td>                                  Deschute Brewery</td>\n",
       "      <td>    Imperial Stout</td>\n",
       "      <td> 11.0</td>\n",
       "      <td> 4.53</td>\n",
       "      <td> 3032</td>\n",
       "    </tr>\n",
       "    <tr>\n",
       "      <th>11</th>\n",
       "      <td> 12</td>\n",
       "      <td>                                 Supplication</td>\n",
       "      <td>                     Russian River Brewing Company</td>\n",
       "      <td>    Imperial Stout</td>\n",
       "      <td>  7.0</td>\n",
       "      <td> 4.53</td>\n",
       "      <td> 2715</td>\n",
       "    </tr>\n",
       "    <tr>\n",
       "      <th>12</th>\n",
       "      <td> 13</td>\n",
       "      <td>                           Bell's Hopslam Ale</td>\n",
       "      <td>                            Bell's Brewing Company</td>\n",
       "      <td>      Imperial IPA</td>\n",
       "      <td> 10.0</td>\n",
       "      <td> 4.52</td>\n",
       "      <td> 6267</td>\n",
       "    </tr>\n",
       "    <tr>\n",
       "      <th>13</th>\n",
       "      <td> 14</td>\n",
       "      <td>                         Cantillon Fou' Foune</td>\n",
       "      <td>                               Brasserie Cantillon</td>\n",
       "      <td>             Fruit</td>\n",
       "      <td>  5.0</td>\n",
       "      <td> 4.52</td>\n",
       "      <td>  914</td>\n",
       "    </tr>\n",
       "    <tr>\n",
       "      <th>14</th>\n",
       "      <td> 15</td>\n",
       "      <td>                     Founders Breakfast Stout</td>\n",
       "      <td>                          Founders Brewing Company</td>\n",
       "      <td>    Imperial Stout</td>\n",
       "      <td>  8.3</td>\n",
       "      <td> 4.51</td>\n",
       "      <td> 6956</td>\n",
       "    </tr>\n",
       "    <tr>\n",
       "      <th>15</th>\n",
       "      <td> 16</td>\n",
       "      <td>                      Trappistes Rochefort 10</td>\n",
       "      <td>                            Brasserie de Rochefort</td>\n",
       "      <td>               NaN</td>\n",
       "      <td> 11.3</td>\n",
       "      <td> 4.51</td>\n",
       "      <td> 4451</td>\n",
       "    </tr>\n",
       "    <tr>\n",
       "      <th>16</th>\n",
       "      <td> 17</td>\n",
       "      <td>                   Bourbon County Brand Stout</td>\n",
       "      <td>                             Goose Island Beer Co.</td>\n",
       "      <td>    Imperial Stout</td>\n",
       "      <td> 15.0</td>\n",
       "      <td> 4.51</td>\n",
       "      <td> 4239</td>\n",
       "    </tr>\n",
       "    <tr>\n",
       "      <th>17</th>\n",
       "      <td> 18</td>\n",
       "      <td>                                   Citra DIPA</td>\n",
       "      <td>                        Kern River Brewing Company</td>\n",
       "      <td>      Imperial IPA</td>\n",
       "      <td>  8.0</td>\n",
       "      <td> 4.51</td>\n",
       "      <td>  714</td>\n",
       "    </tr>\n",
       "    <tr>\n",
       "      <th>18</th>\n",
       "      <td> 19</td>\n",
       "      <td>                     Hunahpu's Imperial Stout</td>\n",
       "      <td>                                Cigar City Brewing</td>\n",
       "      <td>    Imperial Stout</td>\n",
       "      <td> 11.0</td>\n",
       "      <td> 4.50</td>\n",
       "      <td> 1204</td>\n",
       "    </tr>\n",
       "    <tr>\n",
       "      <th>19</th>\n",
       "      <td> 20</td>\n",
       "      <td> Dark Horse Bourbon Barrel Aged Plead The 5th</td>\n",
       "      <td>                        Dark Horse Brewing Company</td>\n",
       "      <td>    Imperial Stout</td>\n",
       "      <td> 14.0</td>\n",
       "      <td> 4.50</td>\n",
       "      <td>  787</td>\n",
       "    </tr>\n",
       "    <tr>\n",
       "      <th></th>\n",
       "      <td>...</td>\n",
       "      <td>...</td>\n",
       "      <td>...</td>\n",
       "      <td>...</td>\n",
       "      <td>...</td>\n",
       "      <td>...</td>\n",
       "      <td>...</td>\n",
       "    </tr>\n",
       "  </tbody>\n",
       "</table>\n",
       "<p>50 rows × 7 columns</p>\n",
       "</div>"
      ],
      "text/plain": [
       "    Rank                                          Name  \\\n",
       "0      1                                  Heady Topper   \n",
       "1      2                             Pliny The Younger   \n",
       "2      3                               Pliny The Elder   \n",
       "3      4                   Founders CBS Imperial Stout   \n",
       "4      5       Founders KBS (Kentucky Breakfast Stout)   \n",
       "5      6                                   Zombie Dust   \n",
       "6      7                Trappist Westvleteren 12 (XII)   \n",
       "7      8             Bourbon County Brand Coffee Stout   \n",
       "8      9                                      Parabola   \n",
       "9     10    Bourbon Barrel Aged Vanilla Bean Dark Lord   \n",
       "10    11                                     The Abyss   \n",
       "11    12                                  Supplication   \n",
       "12    13                            Bell's Hopslam Ale   \n",
       "13    14                          Cantillon Fou' Foune   \n",
       "14    15                      Founders Breakfast Stout   \n",
       "15    16                       Trappistes Rochefort 10   \n",
       "16    17                    Bourbon County Brand Stout   \n",
       "17    18                                    Citra DIPA   \n",
       "18    19                      Hunahpu's Imperial Stout   \n",
       "19    20  Dark Horse Bourbon Barrel Aged Plead The 5th   \n",
       "     ...                                           ...   \n",
       "\n",
       "                                              Brewery               Type  \\\n",
       "0                                       The Alchemist       Imperial IPA   \n",
       "1                       Russian River Brewing Company       Imperial IPA   \n",
       "2                       Russian River Brewing Company       Imperial IPA   \n",
       "3                            Founders Brewing Company     Imperial Stout   \n",
       "4                            Founders Brewing Company     Imperial Stout   \n",
       "5                  Three Floyds Brewing Co. & Brewpub  American Pale Ale   \n",
       "6   Brouwerij Westvleteren (Sint-Sixtusabdij van W...                NaN   \n",
       "7                               Goose Island Beer Co.     Imperial Stout   \n",
       "8                        Firestone Walker Brewing Co.     Imperial Stout   \n",
       "9                  Three Floyds Brewing Co. & Brewpub     Imperial Stout   \n",
       "10                                   Deschute Brewery     Imperial Stout   \n",
       "11                      Russian River Brewing Company     Imperial Stout   \n",
       "12                             Bell's Brewing Company       Imperial IPA   \n",
       "13                                Brasserie Cantillon              Fruit   \n",
       "14                           Founders Brewing Company     Imperial Stout   \n",
       "15                             Brasserie de Rochefort                NaN   \n",
       "16                              Goose Island Beer Co.     Imperial Stout   \n",
       "17                         Kern River Brewing Company       Imperial IPA   \n",
       "18                                 Cigar City Brewing     Imperial Stout   \n",
       "19                         Dark Horse Brewing Company     Imperial Stout   \n",
       "                                                  ...                ...   \n",
       "\n",
       "     ABV    WR  Reviews  \n",
       "0    8.0  4.69     3146  \n",
       "1   11.0  4.65     1572  \n",
       "2    8.0  4.64     6129  \n",
       "3   10.6  4.63     2026  \n",
       "4   11.2  4.61     4714  \n",
       "5    6.4  4.61     2978  \n",
       "6   10.2  4.61     2891  \n",
       "7   14.0  4.61     2014  \n",
       "8   12.5  4.55     2178  \n",
       "9   15.0  4.55      429  \n",
       "10  11.0  4.53     3032  \n",
       "11   7.0  4.53     2715  \n",
       "12  10.0  4.52     6267  \n",
       "13   5.0  4.52      914  \n",
       "14   8.3  4.51     6956  \n",
       "15  11.3  4.51     4451  \n",
       "16  15.0  4.51     4239  \n",
       "17   8.0  4.51      714  \n",
       "18  11.0  4.50     1204  \n",
       "19  14.0  4.50      787  \n",
       "     ...   ...      ...  \n",
       "\n",
       "[50 rows x 7 columns]"
      ]
     },
     "execution_count": 19,
     "metadata": {},
     "output_type": "execute_result"
    }
   ],
   "source": [
    "import re\n",
    "beer = pd.read_csv(DATA_DIR + 'beer.tsv', delimiter=\"\\t\")\n",
    "beer.head(50)"
   ]
  },
  {
   "cell_type": "code",
   "execution_count": 46,
   "metadata": {
    "collapsed": false
   },
   "outputs": [
    {
     "data": {
      "text/plain": [
       "{'American Amber',\n",
       " 'American Barleywine',\n",
       " 'American Black Ale',\n",
       " 'American Double',\n",
       " 'American IPA',\n",
       " 'American Pale Ale',\n",
       " 'American Pale Lager',\n",
       " 'American Pale Wheat Ale',\n",
       " 'American Porter',\n",
       " 'American Stout',\n",
       " 'American Strong Ale',\n",
       " 'American Wild Ale',\n",
       " 'Belgian IPA',\n",
       " 'Belgian Pale Ale',\n",
       " 'Belgian Strong Dark Ale',\n",
       " 'Belgian Strong Pale Ale',\n",
       " 'Blatic Porter',\n",
       " 'Doppelbock',\n",
       " 'Dunkelweizen',\n",
       " 'Eisbock',\n",
       " 'English Barleywine',\n",
       " 'Farmhouse Ale',\n",
       " 'Flanders Oud Bruin',\n",
       " 'Flanders Red Ale',\n",
       " 'Fruit',\n",
       " 'Gueuze',\n",
       " 'Hefeweizen',\n",
       " 'Imperial IPA',\n",
       " 'Imperial Pilsner',\n",
       " 'Imperial Stout',\n",
       " 'Lambic',\n",
       " 'Lambic Gueuze',\n",
       " 'Oatmeal Stout',\n",
       " 'Old Ale',\n",
       " 'Porter',\n",
       " 'Red Ale',\n",
       " 'Russian Imperial Stout',\n",
       " 'Rye Beer',\n",
       " 'Scoth Ale',\n",
       " 'Tripel',\n",
       " 'Vegetable Beer',\n",
       " 'Weizenbock',\n",
       " 'Wild Ale'}"
      ]
     },
     "execution_count": 46,
     "metadata": {},
     "output_type": "execute_result"
    }
   ],
   "source": [
    "set(beer['Type'])\n",
    "# beer['Type'].unique"
   ]
  },
  {
   "cell_type": "code",
   "execution_count": 20,
   "metadata": {
    "collapsed": false
   },
   "outputs": [
    {
     "data": {
      "text/html": [
       "<div style=\"max-height:1000px;max-width:1500px;overflow:auto;\">\n",
       "<table border=\"1\" class=\"dataframe\">\n",
       "  <thead>\n",
       "    <tr style=\"text-align: right;\">\n",
       "      <th></th>\n",
       "      <th>Rank</th>\n",
       "      <th>ABV</th>\n",
       "      <th>WR</th>\n",
       "      <th>Reviews</th>\n",
       "    </tr>\n",
       "  </thead>\n",
       "  <tbody>\n",
       "    <tr>\n",
       "      <th>count</th>\n",
       "      <td> 250.000000</td>\n",
       "      <td> 248.000000</td>\n",
       "      <td> 250.000000</td>\n",
       "      <td>  250.000000</td>\n",
       "    </tr>\n",
       "    <tr>\n",
       "      <th>mean</th>\n",
       "      <td> 125.500000</td>\n",
       "      <td>   9.177823</td>\n",
       "      <td>   4.313600</td>\n",
       "      <td> 1504.832000</td>\n",
       "    </tr>\n",
       "    <tr>\n",
       "      <th>std</th>\n",
       "      <td>  72.312977</td>\n",
       "      <td>   3.178589</td>\n",
       "      <td>   0.105228</td>\n",
       "      <td> 1440.856384</td>\n",
       "    </tr>\n",
       "    <tr>\n",
       "      <th>min</th>\n",
       "      <td>   1.000000</td>\n",
       "      <td>   4.000000</td>\n",
       "      <td>   4.200000</td>\n",
       "      <td>  107.000000</td>\n",
       "    </tr>\n",
       "    <tr>\n",
       "      <th>25%</th>\n",
       "      <td>  63.250000</td>\n",
       "      <td>   7.000000</td>\n",
       "      <td>   4.230000</td>\n",
       "      <td>  447.750000</td>\n",
       "    </tr>\n",
       "    <tr>\n",
       "      <th>50%</th>\n",
       "      <td> 125.500000</td>\n",
       "      <td>   9.000000</td>\n",
       "      <td>   4.280000</td>\n",
       "      <td>  935.000000</td>\n",
       "    </tr>\n",
       "    <tr>\n",
       "      <th>75%</th>\n",
       "      <td> 187.750000</td>\n",
       "      <td>  10.500000</td>\n",
       "      <td>   4.360000</td>\n",
       "      <td> 2162.000000</td>\n",
       "    </tr>\n",
       "    <tr>\n",
       "      <th>max</th>\n",
       "      <td> 250.000000</td>\n",
       "      <td>  29.000000</td>\n",
       "      <td>   4.690000</td>\n",
       "      <td> 7320.000000</td>\n",
       "    </tr>\n",
       "  </tbody>\n",
       "</table>\n",
       "<p>8 rows × 4 columns</p>\n",
       "</div>"
      ],
      "text/plain": [
       "             Rank         ABV          WR      Reviews\n",
       "count  250.000000  248.000000  250.000000   250.000000\n",
       "mean   125.500000    9.177823    4.313600  1504.832000\n",
       "std     72.312977    3.178589    0.105228  1440.856384\n",
       "min      1.000000    4.000000    4.200000   107.000000\n",
       "25%     63.250000    7.000000    4.230000   447.750000\n",
       "50%    125.500000    9.000000    4.280000   935.000000\n",
       "75%    187.750000   10.500000    4.360000  2162.000000\n",
       "max    250.000000   29.000000    4.690000  7320.000000\n",
       "\n",
       "[8 rows x 4 columns]"
      ]
     },
     "execution_count": 20,
     "metadata": {},
     "output_type": "execute_result"
    }
   ],
   "source": [
    "beer.describe()"
   ]
  },
  {
   "cell_type": "code",
   "execution_count": 35,
   "metadata": {
    "collapsed": false
   },
   "outputs": [],
   "source": [
    "beer = beer.dropna()\n",
    "def good(x):\n",
    "    if x > 4.3:\n",
    "        return 1\n",
    "    else:\n",
    "        return 0\n",
    "\n",
    "beer['Good'] = beer['WR'].apply(good)"
   ]
  },
  {
   "cell_type": "markdown",
   "metadata": {},
   "source": [
    "Let's see how fit goes using just Reviews and ABV."
   ]
  },
  {
   "cell_type": "code",
   "execution_count": 36,
   "metadata": {
    "collapsed": false
   },
   "outputs": [],
   "source": [
    "from sklearn import linear_model\n",
    "\n",
    "logm = linear_model.LogisticRegression()\n",
    "\n",
    "X = beer[ ['Reviews', 'ABV'] ].values\n",
    "y = beer['Good'].values"
   ]
  },
  {
   "cell_type": "code",
   "execution_count": 37,
   "metadata": {
    "collapsed": false
   },
   "outputs": [
    {
     "data": {
      "text/plain": [
       "LogisticRegression(C=1.0, class_weight=None, dual=False, fit_intercept=True,\n",
       "          intercept_scaling=1, penalty='l2', random_state=None, tol=0.0001)"
      ]
     },
     "execution_count": 37,
     "metadata": {},
     "output_type": "execute_result"
    }
   ],
   "source": [
    "logm.fit(X, y)"
   ]
  },
  {
   "cell_type": "code",
   "execution_count": 38,
   "metadata": {
    "collapsed": false
   },
   "outputs": [
    {
     "data": {
      "text/plain": [
       "array([0, 0, 1, 0, 1, 0, 1, 0, 0, 0, 0, 1, 0, 1, 1, 0, 0, 0, 0, 0, 0, 0, 0,\n",
       "       1, 0, 0, 0, 0, 0, 0, 0, 0, 0, 0, 0, 0, 0, 0, 0, 0, 0, 0, 0, 1, 0, 1,\n",
       "       0, 0, 0, 0, 0, 0, 0, 0, 0, 1, 0, 0, 0, 0, 0, 0, 0, 0, 0, 0, 0, 0, 0,\n",
       "       0, 0, 0, 0, 1, 0, 0, 0, 0, 0, 0, 0, 0, 0, 0, 0, 0, 0, 0, 0, 0, 0, 0,\n",
       "       0, 1, 1, 0, 1, 0, 0, 0, 0, 0, 0, 0, 0, 0, 0, 1, 0, 0, 0, 0, 0, 0, 0,\n",
       "       0, 0, 1, 0, 0, 0, 0, 0, 0, 0, 0, 0, 0, 0, 0, 0, 0, 0, 0, 0, 0, 0, 0,\n",
       "       0, 0, 0, 0, 0, 0, 0, 0, 0, 0, 0, 0, 0, 0, 0, 0, 0, 0, 0, 0, 0, 0, 0,\n",
       "       1, 0, 0, 0, 0, 0, 0, 0, 0, 0, 0, 0, 0, 0, 0, 0, 0, 0, 0, 0, 0, 0, 0,\n",
       "       0, 0, 0, 0, 0, 0, 0, 0, 0, 0, 0, 0, 0, 0, 0, 0, 0, 0, 0, 0, 0, 0, 0,\n",
       "       0, 0, 0, 0, 0, 0, 0, 0, 0, 0, 0, 0, 0, 0, 0, 0, 0, 0, 0, 0, 0, 0, 0,\n",
       "       0, 0, 0, 0])"
      ]
     },
     "execution_count": 38,
     "metadata": {},
     "output_type": "execute_result"
    }
   ],
   "source": [
    "logm.predict(X)"
   ]
  },
  {
   "cell_type": "code",
   "execution_count": 41,
   "metadata": {
    "collapsed": false
   },
   "outputs": [
    {
     "data": {
      "text/plain": [
       "0.62393162393162394"
      ]
     },
     "execution_count": 41,
     "metadata": {},
     "output_type": "execute_result"
    }
   ],
   "source": [
    "logm.score(X, y)"
   ]
  },
  {
   "cell_type": "markdown",
   "metadata": {},
   "source": [
    "We end up with a value around .62, which is only slightly higher than random (random = .5, like a coin flip).\n",
    "\n",
    "Question: What data can we use in this data frame to determine what kind of beer it is? This may be a better indicator! Note, we can use regex's to create a new column."
   ]
  },
  {
   "cell_type": "markdown",
   "metadata": {},
   "source": [
    "![break](assets/voronoi.png)"
   ]
  },
  {
   "cell_type": "markdown",
   "metadata": {},
   "source": [
    "1. Write a function that groups our beers together using regex (example here):"
   ]
  },
  {
   "cell_type": "code",
   "execution_count": 35,
   "metadata": {
    "collapsed": false
   },
   "outputs": [
    {
     "data": {
      "text/plain": [
       "0    False\n",
       "1     True\n",
       "2     True\n",
       "3    False\n",
       "4    False\n",
       "5    False\n",
       "7    False\n",
       "8    False\n",
       "...\n",
       "242    False\n",
       "243    False\n",
       "244    False\n",
       "245    False\n",
       "246    False\n",
       "247    False\n",
       "248    False\n",
       "249    False\n",
       "Name: Name, Length: 234, dtype: bool"
      ]
     },
     "execution_count": 35,
     "metadata": {},
     "output_type": "execute_result"
    }
   ],
   "source": [
    "import re\n",
    "# If this is true, then there was a match!\n",
    "re.search('Apple', 'Apple Computer') != None\n",
    "\n",
    "# or you can use the str.contains method\n",
    "beer['Name'].str.contains('Pliny')"
   ]
  },
  {
   "cell_type": "markdown",
   "metadata": {},
   "source": [
    "We'll be grouping our beers into **Ale**, **Stout**, **IPA**, and **Lager**. \n",
    "\n",
    "Of course, due to how we handle our data (numpy arrays), these have to be vectorized into four separate columns. \n",
    "\n",
    "Finally, we can create a logistic regression model using these four to predict if \"Good\" = 0 or 1."
   ]
  },
  {
   "cell_type": "code",
   "execution_count": null,
   "metadata": {
    "collapsed": false
   },
   "outputs": [],
   "source": [
    "X = beer[ ['Ale', 'Stout', 'IPA', 'Lager'] ].values\n",
    "y = beer['Good'].values\n",
    "\n",
    "logm.fit(X, y)"
   ]
  },
  {
   "cell_type": "markdown",
   "metadata": {},
   "source": [
    "And consider looking again at the `coef_`, `intercept_`, etc. We can consider precision based on `|predicted - actual|` as well as looking at `.score()`.\n",
    "\n",
    "Consider using `set_params(penalty = 'l1')` to see how your results change, and if this has become more precise or not. How does this align with what we discussed with `l1` and `l2` norm in lecture?"
   ]
  },
  {
   "cell_type": "markdown",
   "metadata": {},
   "source": [
    "![break](assets/voronoi.png)"
   ]
  },
  {
   "cell_type": "markdown",
   "metadata": {},
   "source": [
    "## Homework"
   ]
  },
  {
   "cell_type": "markdown",
   "metadata": {},
   "source": [
    "Implement [this blog article](http://dataillumination.blogspot.hk/2015/03/predicting-flights-delay-using.html) predicting flights in Python.mm "
   ]
  },
  {
   "cell_type": "markdown",
   "metadata": {},
   "source": [
    "![break](assets/resources.png)"
   ]
  },
  {
   "cell_type": "markdown",
   "metadata": {},
   "source": [
    "## Resources"
   ]
  },
  {
   "cell_type": "markdown",
   "metadata": {},
   "source": [
    "* [Regression Analysis by Example](http://type.hk:2551/calibre/browse/book/294) (**Chapter 12**) - Samprit Chatterjee"
   ]
  },
  {
   "cell_type": "markdown",
   "metadata": {},
   "source": [
    "#### Articles"
   ]
  },
  {
   "cell_type": "markdown",
   "metadata": {},
   "source": [
    "* [The Bernoulli distribution mean and variance](http://hawaiireedlab.com/wpress/?p=1019)"
   ]
  },
  {
   "cell_type": "markdown",
   "metadata": {},
   "source": [
    "#### Code"
   ]
  },
  {
   "cell_type": "markdown",
   "metadata": {},
   "source": [
    "* [Overview with plots of statistical distributions](http://nbviewer.ipython.org/urls/gist.github.com/mattions/6113437/raw/c5468ea930d6960225d83e112d7f3d00d9c13398/Exploring+different+distribution.ipynb)\n"
   ]
  }
 ],
 "metadata": {
  "kernelspec": {
   "display_name": "Python 2",
   "language": "python",
   "name": "python2"
  },
  "language_info": {
   "codemirror_mode": {
    "name": "ipython",
    "version": 2
   },
   "file_extension": ".py",
   "mimetype": "text/x-python",
   "name": "python",
   "nbconvert_exporter": "python",
   "pygments_lexer": "ipython2",
   "version": "2.7.10"
  }
 },
 "nbformat": 4,
 "nbformat_minor": 0
}
