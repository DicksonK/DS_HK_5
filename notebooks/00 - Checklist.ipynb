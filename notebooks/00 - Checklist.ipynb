{
 "metadata": {
  "name": "",
  "signature": "sha256:057db26e3d9fc06bc66c96f013a0760464dc03871d230d054da499638a246440"
 },
 "nbformat": 3,
 "nbformat_minor": 0,
 "worksheets": [
  {
   "cells": [
    {
     "cell_type": "code",
     "collapsed": false,
     "input": [
      "%%javascript\n",
      "\n",
      "window.load_remote_theme = false\n",
      "var theme_url = \"https://drostehk.github.io/ipynb-theme/\";\n",
      "var asset_url = 'https://raw.githubusercontent.com/tijptjik/DS_assets/master/';\n",
      "\n",
      "window.load_local_theme = function(){\n",
      "    var hostname = document.location.hostname\n",
      "    return ((hostname == \"localhost\" || hostname == '127.0.0.1') && !load_remote_theme)\n",
      "}\n",
      "\n",
      "var url = load_local_theme() ? document.location.origin + \"/files/theme/custom.js\" : theme_url + 'custom.js'\n",
      "\n",
      "$.getScript(url)"
     ],
     "language": "python",
     "metadata": {},
     "outputs": [
      {
       "javascript": [
        "\n",
        "window.load_remote_theme = false\n",
        "var theme_url = \"https://drostehk.github.io/ipynb-theme/\";\n",
        "var asset_url = 'https://raw.githubusercontent.com/tijptjik/DS_assets/master/';\n",
        "\n",
        "window.load_local_theme = function(){\n",
        "    var hostname = document.location.hostname\n",
        "    return ((hostname == \"localhost\" || hostname == '127.0.0.1') && !load_remote_theme)\n",
        "}\n",
        "\n",
        "var url = load_local_theme() ? document.location.origin + \"/files/theme/custom.js\" : theme_url + 'custom.js'\n",
        "\n",
        "$.getScript(url)"
       ],
       "metadata": {},
       "output_type": "display_data",
       "text": [
        "<IPython.core.display.Javascript at 0x7f89a11fb450>"
       ]
      }
     ],
     "prompt_number": 1
    },
    {
     "cell_type": "heading",
     "level": 1,
     "metadata": {},
     "source": [
      "Checklist"
     ]
    },
    {
     "cell_type": "markdown",
     "metadata": {},
     "source": [
      "Let's check these items off our list."
     ]
    },
    {
     "cell_type": "heading",
     "level": 3,
     "metadata": {},
     "source": [
      "Install a Text Editor"
     ]
    },
    {
     "cell_type": "markdown",
     "metadata": {},
     "source": [
      "[Install SublimeText](http://www.sublimetext.com/3)"
     ]
    },
    {
     "cell_type": "heading",
     "level": 3,
     "metadata": {},
     "source": [
      "All Systems Go?"
     ]
    },
    {
     "cell_type": "markdown",
     "metadata": {},
     "source": [
      "Confirm sym-link between `/vagrant/` and `/home/vagrant/ds/`"
     ]
    },
    {
     "cell_type": "heading",
     "level": 3,
     "metadata": {},
     "source": [
      "Download the Course Files"
     ]
    },
    {
     "cell_type": "markdown",
     "metadata": {},
     "source": [
      "Files are hosted on [Github](https://github.com/ga-students/DAT_HK_5), you can either\n",
      "\n",
      "* Use `git` if you are already familiar with it\n",
      "* Click the [Download Zip Buttom](https://github.com/ga-students/DAT_HK_5/archive/gh-pages.zip)\n",
      "\n",
      "Once you have the files locally, put the directory (`DAT_HK_5`) into `~/DataScience/ds`"
     ]
    },
    {
     "cell_type": "heading",
     "level": 3,
     "metadata": {},
     "source": [
      "Make the local notebook available on your VM"
     ]
    },
    {
     "cell_type": "markdown",
     "metadata": {},
     "source": [
      "1. In `/home/vagrant/`,\n",
      "```bash\n",
      "mv notebooks notebooks_backup'\n",
      "```\n",
      "2. Symlink the notebooks directory on `/home/vagrant/`, \n",
      "```bash\n",
      "ln -s ~/ds/DAT_HK_5/notebooks notebooks`\n",
      "```"
     ]
    },
    {
     "cell_type": "heading",
     "level": 3,
     "metadata": {},
     "source": [
      "Give a Gist "
     ]
    },
    {
     "cell_type": "markdown",
     "metadata": {},
     "source": [
      "Send us your homework as a `gist` through [gist.github.com](https://gist.github.com/)"
     ]
    }
   ],
   "metadata": {}
  }
 ]
}