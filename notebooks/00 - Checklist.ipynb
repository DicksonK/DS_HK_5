{
 "metadata": {
  "name": "",
  "signature": "sha256:d59c09d89ac4ac75054a29cb7d988a8ad17c86423a68eb3655cee79063fcafff"
 },
 "nbformat": 3,
 "nbformat_minor": 0,
 "worksheets": [
  {
   "cells": [
    {
     "cell_type": "code",
     "collapsed": false,
     "input": [
      "    %%javascript\n",
      "    function is_local(){\n",
      "      return (document.location.hostname == \"localhost\" || document.location.hostname == '127.0.0.1')\n",
      "    }\n",
      "    var url = is_local() ? document.location.origin + \"/files/theme/custom.js\" : \"https://odhk.github.io/hyrule_theme/custom.js\"\n",
      "    $.getScript(url)"
     ],
     "language": "python",
     "metadata": {},
     "outputs": [
      {
       "javascript": [
        "function is_local(){\n",
        "  return (document.location.hostname == \"localhost\" || document.location.hostname == '127.0.0.1')\n",
        "}\n",
        "var url = is_local() ? document.location.origin + \"/files/theme/custom.js\" : \"https://odhk.github.io/hyrule_theme/custom.js\"\n",
        "$.getScript(url)"
       ],
       "metadata": {},
       "output_type": "display_data",
       "text": [
        "<IPython.core.display.Javascript at 0x7fab19c83e10>"
       ]
      }
     ],
     "prompt_number": 1
    },
    {
     "cell_type": "heading",
     "level": 1,
     "metadata": {},
     "source": [
      "Checklist"
     ]
    },
    {
     "cell_type": "markdown",
     "metadata": {},
     "source": [
      "Before charging on with the class, let's check these items off our list."
     ]
    },
    {
     "cell_type": "markdown",
     "metadata": {},
     "source": [
      "* [Install SublimeText](http://www.sublimetext.com/3)\n",
      "* All Systems Go?\n",
      "* Confirm sym-link between /vagrant/ and /home/vagrant/ds/\n",
      "* `git clone https://github.com/ga-students/DS_HK_4.git` in `~/DataScience/`\n",
      "* on /home/vagrant/, `mv notebooks notebooks_backup'\n",
      "* Symlink the notebooks directory on /home/vagrant/, `ln -s ~/ds/DS_HK_4/notebooks notebooks`"
     ]
    }
   ],
   "metadata": {}
  }
 ]
}