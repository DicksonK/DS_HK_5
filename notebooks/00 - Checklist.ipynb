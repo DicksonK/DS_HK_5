{
 "cells": [
  {
   "cell_type": "code",
   "execution_count": 1,
   "metadata": {
    "collapsed": false
   },
   "outputs": [
    {
     "data": {
      "application/javascript": [
       "\n",
       "window.load_remote_theme = false\n",
       "var theme_url = \"https://drostehk.github.io/ipynb-theme/\";\n",
       "var asset_url = 'https://raw.githubusercontent.com/tijptjik/DS_assets/master/';\n",
       "\n",
       "window.load_local_theme = function(){\n",
       "    var hostname = document.location.hostname\n",
       "    return ((hostname == \"localhost\" || hostname == '127.0.0.1') && !load_remote_theme)\n",
       "}\n",
       "\n",
       "var url = load_local_theme() ? document.location.origin + \"/files/theme/custom.js\" : theme_url + 'custom.js'\n",
       "\n",
       "$.getScript(url)"
      ],
      "text/plain": [
       "<IPython.core.display.Javascript object>"
      ]
     },
     "metadata": {},
     "output_type": "display_data"
    }
   ],
   "source": [
    "%%javascript\n",
    "\n",
    "window.load_remote_theme = false\n",
    "var theme_url = \"https://drostehk.github.io/ipynb-theme/\";\n",
    "var asset_url = 'https://raw.githubusercontent.com/tijptjik/DS_assets/master/';\n",
    "\n",
    "window.load_local_theme = function(){\n",
    "    var hostname = document.location.hostname\n",
    "    return ((hostname == \"localhost\" || hostname == '127.0.0.1') && !load_remote_theme)\n",
    "}\n",
    "\n",
    "var url = load_local_theme() ? document.location.origin + \"/files/theme/custom.js\" : theme_url + 'custom.js'\n",
    "\n",
    "$.getScript(url)"
   ]
  },
  {
   "cell_type": "markdown",
   "metadata": {},
   "source": [
    "# Data Science Welcome"
   ]
  },
  {
   "cell_type": "markdown",
   "metadata": {},
   "source": [
    "## Course Structure"
   ]
  },
  {
   "cell_type": "markdown",
   "metadata": {},
   "source": [
    "### Course Objectives"
   ]
  },
  {
   "cell_type": "markdown",
   "metadata": {},
   "source": [
    "* Insight in how to understand and read data\n",
    "* Gain techniques for manipulating data\n",
    "* Learn machine learning algorithms commonly used in practice\n",
    "* Build a Data Science project\n",
    "\n",
    "**Lots and lots of practice!**"
   ]
  },
  {
   "cell_type": "markdown",
   "metadata": {},
   "source": [
    "### Course Schedule"
   ]
  },
  {
   "cell_type": "markdown",
   "metadata": {},
   "source": [
    "```bash\n",
    "------------ INTRODUCTION ------------\n",
    "01 - Data Science Toolkit\n",
    "02 - Linear Algebra\n",
    "03 - Machine Learning\n",
    "04 - Exploratory Data Analysis\n",
    "------------ ESTIMATION ------------\n",
    "05 - Linear Regression\n",
    "06 - Polynomial Regression\n",
    "07 - Data Wrangling \n",
    "08 - Intro to R\n",
    "09 - Group Presentations\n",
    "------------ MACHINE LEARNING ------------\n",
    "10 - Logistic Regression\n",
    "11 - kNN \n",
    "12 - Decision Trees\n",
    "13 - Random Forests\n",
    "14 - Network Analysis\n",
    "15 - Feature Engineering I (PCA)\n",
    "16 - Feature Engineering II (Clustering)\n",
    "------------ REAL WORLD APPLICATIONS ------------\n",
    "17 - Kaggle I (EDA)\n",
    "18 - Kaggle II (Feature Engineering)\n",
    "19 - Big Data I (MapReduce)\n",
    "20 - Big Data II (Spark)\n",
    "21 - Project Labs\n",
    "22 - Final Presentations\n",
    "```"
   ]
  },
  {
   "cell_type": "markdown",
   "metadata": {},
   "source": [
    "### Lesson Materials"
   ]
  },
  {
   "cell_type": "markdown",
   "metadata": {},
   "source": [
    "Distributed as **iPython Notebooks**\n",
    "\n",
    "Generally lesson materials will follow these guidelines:\n",
    "* Cover theory in the first half\n",
    "* List materials and references for further reading\n",
    "* Code demos which implement the theory\n",
    "* Assigned Homework excercises to check understanding "
   ]
  },
  {
   "cell_type": "markdown",
   "metadata": {},
   "source": [
    "Materials are available from [GitHub](https://github.com/ga-students/DS_HK_6/archive/gh-pages.zip)"
   ]
  },
  {
   "cell_type": "markdown",
   "metadata": {},
   "source": [
    "## Projects"
   ]
  },
  {
   "cell_type": "markdown",
   "metadata": {},
   "source": [
    "### Group Project"
   ]
  },
  {
   "cell_type": "markdown",
   "metadata": {},
   "source": [
    "**Deliverable**: Presentation to class, _due week 5_.\n",
    "\n",
    "* Estimation problem (regression)\n",
    "* 4 Topics are provided with datasets - but check with us if you have a dataset you wish to use for this project.\n",
    "* In Teams of Two\n",
    "* Inform **INSTRUCTORS** of your chosen pair by _week 3_, lest you be assigned a partner.\n",
    "\n"
   ]
  },
  {
   "cell_type": "markdown",
   "metadata": {},
   "source": [
    "### Final Project"
   ]
  },
  {
   "cell_type": "markdown",
   "metadata": {},
   "source": [
    "**Deliverable**: Presentation to class and panel who will assess you on both the techical qualities of your project, as well as your ability to communicate its results, _due week 11_.\n",
    "\n",
    "For your final project, you will create a predictive model by doing the following:\n",
    "\n",
    "1. Acquire a real-world data set \n",
    "2. Form a hypothesis about it\n",
    "3. Clean it \n",
    "4. Parse it \n",
    "5. Apply modeling techniques and data analysis principles\n",
    "6. Your final presentation should include the following: \n",
    "\n",
    "    * A clearly articulated problem statement \n",
    "    * A summary of data acquisition, cleaning, and parsing stage \n",
    "    * Qualitative and quantitative market research \n",
    "    * A clear presentation of your predictive model and the processes you took to create it (10-15 minutes)\n",
    "    * Presentation style appropriate to the audience "
   ]
  },
  {
   "cell_type": "markdown",
   "metadata": {},
   "source": [
    "## Checklist"
   ]
  },
  {
   "cell_type": "markdown",
   "metadata": {},
   "source": [
    "Let's check these items off our list."
   ]
  },
  {
   "cell_type": "markdown",
   "metadata": {},
   "source": [
    "### Download the Course Files"
   ]
  },
  {
   "cell_type": "markdown",
   "metadata": {},
   "source": [
    "Let's start off with making a central place for your files"
   ]
  },
  {
   "cell_type": "markdown",
   "metadata": {},
   "source": [
    "```bash\n",
    "mkdir $HOME/DataScience\n",
    "```"
   ]
  },
  {
   "cell_type": "markdown",
   "metadata": {},
   "source": [
    "Now let's get you your `VagrantFile`"
   ]
  },
  {
   "cell_type": "markdown",
   "metadata": {},
   "source": [
    "```bash\n",
    "curl https://gist.githubusercontent.com/tijptjik/f765e70a50176274b6f2/raw/f1a6eb08cffa7c7fb3e01cea0bc0de7d5a2e5981/Vagrantfile > $HOME/DataScience/Vagrantfile\n",
    "```"
   ]
  },
  {
   "cell_type": "markdown",
   "metadata": {},
   "source": [
    "#### Online Notebooks"
   ]
  },
  {
   "cell_type": "markdown",
   "metadata": {},
   "source": [
    "The class materials are available as 'read-only' notebooks, at \n",
    "\n",
    "**[ga-students.github.io/DS_HK_6/](http://ga-students.github.io/DS_HK_6/)**\n",
    "\n",
    "However, in order to run python interactively, or to add your own notes to the materials, you'll need to download and serve the notebooks locally - that means, from your own laptop instead of hosted as an online website.\n",
    "\n",
    "Files are posted on [Github](https://github.com/ga-students/DS_HK_6), you can either\n",
    "\n",
    "* Use `git` if you are already familiar with it\n",
    "* Click the [Download Zip Button](https://github.com/ga-students/DS_HK_6/archive/gh-pages.zip)\n",
    "\n",
    "Once you have the files locally, put the directory (**`DS_HK_6`**) into `~/DataScience/ds`"
   ]
  },
  {
   "cell_type": "markdown",
   "metadata": {},
   "source": [
    "### Setting up the DataBox VM"
   ]
  },
  {
   "cell_type": "markdown",
   "metadata": {},
   "source": [
    "#### Install VirtualBox"
   ]
  },
  {
   "cell_type": "markdown",
   "metadata": {},
   "source": [
    "Go to the [Virtualbox download](https://www.virtualbox.org/wiki/Downloads) page and download the appropriate binary. Open the binary and follow the installations instructions."
   ]
  },
  {
   "cell_type": "markdown",
   "metadata": {},
   "source": [
    "#### Install Vagrant"
   ]
  },
  {
   "cell_type": "markdown",
   "metadata": {},
   "source": [
    "Similarly to Step 1, go the [Vagrant download](http://www.vagrantup.com/downloads.html) page and download the appropriate binary. Open the binary and follow the installations instructions."
   ]
  },
  {
   "cell_type": "markdown",
   "metadata": {},
   "source": [
    "#### Initialise Databox"
   ]
  },
  {
   "cell_type": "markdown",
   "metadata": {},
   "source": [
    "Follow Mart :)"
   ]
  },
  {
   "cell_type": "markdown",
   "metadata": {},
   "source": [
    "#### Launching the Jupyter Notebook Server"
   ]
  },
  {
   "cell_type": "markdown",
   "metadata": {},
   "source": [
    "#### Linking Up Files & Directories"
   ]
  },
  {
   "cell_type": "markdown",
   "metadata": {},
   "source": [
    "Now that you have your Jupyter Server running, create a `new` Jupyter Notebook. From within that notebook run the following commands, exactly"
   ]
  },
  {
   "cell_type": "markdown",
   "metadata": {},
   "source": [
    "##### linking your host machine to your guest "
   ]
  },
  {
   "cell_type": "markdown",
   "metadata": {},
   "source": [
    "```bash\n",
    "ln -s /vagrant/ds /home/vagrant/ds/\n",
    "```"
   ]
  },
  {
   "cell_type": "markdown",
   "metadata": {},
   "source": [
    "Provided you've downloaded your class files into `$HOME/DataScience/ds/DS_HK_6`, run the following."
   ]
  },
  {
   "cell_type": "markdown",
   "metadata": {},
   "source": [
    "```bash\n",
    "ln -s /home/vagrant/ds/DS_HK_6/notebooks/ /home/vagrant/notebooks/\n",
    "ln -s /home/vagrant/ds/DS_HK_6/data/ /home/vagrant/data/\n",
    "```"
   ]
  },
  {
   "cell_type": "markdown",
   "metadata": {},
   "source": [
    "### All Systems Go?"
   ]
  },
  {
   "cell_type": "markdown",
   "metadata": {},
   "source": [
    "Confirm sym-link between `/vagrant/` and `/home/vagrant/ds/`"
   ]
  },
  {
   "cell_type": "markdown",
   "metadata": {},
   "source": [
    "### Give a Gist "
   ]
  },
  {
   "cell_type": "markdown",
   "metadata": {},
   "source": [
    "Send us your homework as a `gist` through [gist.github.com](https://gist.github.com/)"
   ]
  }
 ],
 "metadata": {
  "kernelspec": {
   "display_name": "Python 2",
   "language": "python",
   "name": "python2"
  },
  "language_info": {
   "codemirror_mode": {
    "name": "ipython",
    "version": 2
   },
   "file_extension": ".py",
   "mimetype": "text/x-python",
   "name": "python",
   "nbconvert_exporter": "python",
   "pygments_lexer": "ipython2",
   "version": "2.7.9"
  }
 },
 "nbformat": 4,
 "nbformat_minor": 0
}
