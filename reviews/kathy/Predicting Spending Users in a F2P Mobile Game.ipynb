{
 "cells": [
  {
   "cell_type": "code",
   "execution_count": 1,
   "metadata": {
    "collapsed": true
   },
   "outputs": [],
   "source": [
    "import numpy as np\n",
    "import pandas as pd\n",
    "import json\n",
    "from datetime import datetime\n",
    "from pandas.io.json import json_normalize"
   ]
  },
  {
   "cell_type": "code",
   "execution_count": 2,
   "metadata": {
    "collapsed": true
   },
   "outputs": [],
   "source": [
    "# loading cleaned user data\n",
    "df = pd.read_csv(\"../data/users_cleaned.csv\")\n"
   ]
  },
  {
   "cell_type": "code",
   "execution_count": 13,
   "metadata": {
    "collapsed": false
   },
   "outputs": [
    {
     "data": {
      "text/html": [
       "<div style=\"max-height:1000px;max-width:1500px;overflow:auto;\">\n",
       "<table border=\"1\" class=\"dataframe\">\n",
       "  <thead>\n",
       "    <tr style=\"text-align: right;\">\n",
       "      <th></th>\n",
       "      <th>Unnamed: 0</th>\n",
       "      <th>balance</th>\n",
       "      <th>createdAt</th>\n",
       "      <th>locale</th>\n",
       "      <th>objectId</th>\n",
       "      <th>updatedAt</th>\n",
       "      <th>UsesFacebook</th>\n",
       "      <th>UsesGameCenter</th>\n",
       "      <th>TookOffer</th>\n",
       "      <th>MoneySpent</th>\n",
       "      <th>lang</th>\n",
       "      <th>country</th>\n",
       "      <th>DaysPlayed</th>\n",
       "    </tr>\n",
       "  </thead>\n",
       "  <tbody>\n",
       "    <tr>\n",
       "      <th>0</th>\n",
       "      <td>0</td>\n",
       "      <td>9881</td>\n",
       "      <td>2015-01-20T17:40:31.841Z</td>\n",
       "      <td>zh-Hans</td>\n",
       "      <td>bmTaQ1p2B6</td>\n",
       "      <td>2015-03-05T11:33:03.600Z</td>\n",
       "      <td>0</td>\n",
       "      <td>0</td>\n",
       "      <td>0</td>\n",
       "      <td>1.99</td>\n",
       "      <td>zh</td>\n",
       "      <td>CN</td>\n",
       "      <td>43</td>\n",
       "    </tr>\n",
       "    <tr>\n",
       "      <th>1</th>\n",
       "      <td>1</td>\n",
       "      <td>0</td>\n",
       "      <td>2015-01-21T06:56:54.947Z</td>\n",
       "      <td>en_US</td>\n",
       "      <td>BhCQlVzeFz</td>\n",
       "      <td>2015-01-21T06:56:54.947Z</td>\n",
       "      <td>0</td>\n",
       "      <td>0</td>\n",
       "      <td>0</td>\n",
       "      <td>0.00</td>\n",
       "      <td>en</td>\n",
       "      <td>US</td>\n",
       "      <td>0</td>\n",
       "    </tr>\n",
       "    <tr>\n",
       "      <th>2</th>\n",
       "      <td>2</td>\n",
       "      <td>0</td>\n",
       "      <td>2015-01-21T08:24:53.387Z</td>\n",
       "      <td>en_US</td>\n",
       "      <td>1clQzyY4OX</td>\n",
       "      <td>2015-01-21T08:24:53.387Z</td>\n",
       "      <td>0</td>\n",
       "      <td>0</td>\n",
       "      <td>0</td>\n",
       "      <td>0.00</td>\n",
       "      <td>en</td>\n",
       "      <td>US</td>\n",
       "      <td>0</td>\n",
       "    </tr>\n",
       "    <tr>\n",
       "      <th>3</th>\n",
       "      <td>3</td>\n",
       "      <td>0</td>\n",
       "      <td>2015-01-21T08:25:07.292Z</td>\n",
       "      <td>en_US</td>\n",
       "      <td>JE1vOwu2mY</td>\n",
       "      <td>2015-01-21T08:25:07.292Z</td>\n",
       "      <td>0</td>\n",
       "      <td>0</td>\n",
       "      <td>0</td>\n",
       "      <td>0.00</td>\n",
       "      <td>en</td>\n",
       "      <td>US</td>\n",
       "      <td>0</td>\n",
       "    </tr>\n",
       "    <tr>\n",
       "      <th>4</th>\n",
       "      <td>4</td>\n",
       "      <td>0</td>\n",
       "      <td>2015-01-21T08:26:33.767Z</td>\n",
       "      <td>en_US</td>\n",
       "      <td>JBIaF8WpN7</td>\n",
       "      <td>2015-01-21T08:26:33.767Z</td>\n",
       "      <td>0</td>\n",
       "      <td>0</td>\n",
       "      <td>0</td>\n",
       "      <td>0.00</td>\n",
       "      <td>en</td>\n",
       "      <td>US</td>\n",
       "      <td>0</td>\n",
       "    </tr>\n",
       "  </tbody>\n",
       "</table>\n",
       "</div>"
      ],
      "text/plain": [
       "   Unnamed: 0  balance                 createdAt   locale    objectId  \\\n",
       "0           0     9881  2015-01-20T17:40:31.841Z  zh-Hans  bmTaQ1p2B6   \n",
       "1           1        0  2015-01-21T06:56:54.947Z    en_US  BhCQlVzeFz   \n",
       "2           2        0  2015-01-21T08:24:53.387Z    en_US  1clQzyY4OX   \n",
       "3           3        0  2015-01-21T08:25:07.292Z    en_US  JE1vOwu2mY   \n",
       "4           4        0  2015-01-21T08:26:33.767Z    en_US  JBIaF8WpN7   \n",
       "\n",
       "                  updatedAt  UsesFacebook  UsesGameCenter  TookOffer  \\\n",
       "0  2015-03-05T11:33:03.600Z             0               0          0   \n",
       "1  2015-01-21T06:56:54.947Z             0               0          0   \n",
       "2  2015-01-21T08:24:53.387Z             0               0          0   \n",
       "3  2015-01-21T08:25:07.292Z             0               0          0   \n",
       "4  2015-01-21T08:26:33.767Z             0               0          0   \n",
       "\n",
       "   MoneySpent lang country  DaysPlayed  \n",
       "0        1.99   zh      CN          43  \n",
       "1        0.00   en      US           0  \n",
       "2        0.00   en      US           0  \n",
       "3        0.00   en      US           0  \n",
       "4        0.00   en      US           0  "
      ]
     },
     "execution_count": 13,
     "metadata": {},
     "output_type": "execute_result"
    }
   ],
   "source": [
    "df.head()"
   ]
  },
  {
   "cell_type": "code",
   "execution_count": 14,
   "metadata": {
    "collapsed": false
   },
   "outputs": [
    {
     "name": "stdout",
     "output_type": "stream",
     "text": [
      "Proportion of users that uses Facebook: 0.006580\n",
      "Proportion of users that uses GameCenter: 0.137291\n"
     ]
    }
   ],
   "source": [
    "# Proportion of users that uses Facebook\n",
    "# Proportion of users that uses GameCenter\n",
    "\n",
    "print \"Proportion of users that uses Facebook: %f\" % (df['UsesFacebook'].sum().astype(float) / len(df['UsesFacebook']))\n",
    "print \"Proportion of users that uses GameCenter: %f\" % (df['UsesGameCenter'].sum().astype(float) / len(df['UsesGameCenter']))"
   ]
  },
  {
   "cell_type": "code",
   "execution_count": 15,
   "metadata": {
    "collapsed": false
   },
   "outputs": [
    {
     "name": "stdout",
     "output_type": "stream",
     "text": [
      "Number of paying users: 2670\n",
      "Number of non-paying users: 438684\n",
      "Percentage of paying users: 0.006086\n"
     ]
    }
   ],
   "source": [
    "from __future__ import division\n",
    "\n",
    "# Percentage of paying users\n",
    "payingUsersCount = len(df[df['MoneySpent']>0])\n",
    "nonPayingUsersCount = len(df[df['MoneySpent']==0.])\n",
    "\n",
    "print \"Number of paying users: %s\" % payingUsersCount\n",
    "print \"Number of non-paying users: %s\" % nonPayingUsersCount\n",
    "print \"Percentage of paying users: %f\" % (payingUsersCount / nonPayingUsersCount)"
   ]
  },
  {
   "cell_type": "code",
   "execution_count": 16,
   "metadata": {
    "collapsed": false
   },
   "outputs": [
    {
     "ename": "NameError",
     "evalue": "name 'plt' is not defined",
     "output_type": "error",
     "traceback": [
      "\u001b[1;31m---------------------------------------------------------------------------\u001b[0m",
      "\u001b[1;31mNameError\u001b[0m                                 Traceback (most recent call last)",
      "\u001b[1;32m<ipython-input-16-a9f85128319f>\u001b[0m in \u001b[0;36m<module>\u001b[1;34m()\u001b[0m\n\u001b[0;32m      2\u001b[0m \u001b[1;33m\u001b[0m\u001b[0m\n\u001b[0;32m      3\u001b[0m \u001b[0mdf\u001b[0m\u001b[1;33m.\u001b[0m\u001b[0mhist\u001b[0m\u001b[1;33m(\u001b[0m\u001b[0mfigsize\u001b[0m\u001b[1;33m=\u001b[0m\u001b[1;33m(\u001b[0m\u001b[1;36m18\u001b[0m\u001b[1;33m,\u001b[0m\u001b[1;36m12\u001b[0m\u001b[1;33m)\u001b[0m\u001b[1;33m)\u001b[0m\u001b[1;33m\u001b[0m\u001b[0m\n\u001b[1;32m----> 4\u001b[1;33m \u001b[0mplt\u001b[0m\u001b[1;33m.\u001b[0m\u001b[0mshow\u001b[0m\u001b[1;33m(\u001b[0m\u001b[1;33m)\u001b[0m\u001b[1;33m\u001b[0m\u001b[0m\n\u001b[0m",
      "\u001b[1;31mNameError\u001b[0m: name 'plt' is not defined"
     ]
    },
    {
     "data": {
      "image/png": "[encoded data removed]",
      "text/plain": [
       "<matplotlib.figure.Figure at 0x7fa49974b0d0>"
      ]
     },
     "metadata": {},
     "output_type": "display_data"
    }
   ],
   "source": [
    "%matplotlib inline\n",
    "\n",
    "df.hist(figsize=(18,12))\n",
    "plt.show()\n",
    "\n",
    "# Very small percentage of paying users\n"
   ]
  },
  {
   "cell_type": "code",
   "execution_count": 22,
   "metadata": {
    "collapsed": false
   },
   "outputs": [],
   "source": [
    "df_paid = df.loc[df.MoneySpent>0]"
   ]
  },
  {
   "cell_type": "code",
   "execution_count": 24,
   "metadata": {
    "collapsed": false
   },
   "outputs": [
    {
     "data": {
      "text/html": [
       "<div style=\"max-height:1000px;max-width:1500px;overflow:auto;\">\n",
       "<table border=\"1\" class=\"dataframe\">\n",
       "  <thead>\n",
       "    <tr style=\"text-align: right;\">\n",
       "      <th></th>\n",
       "      <th>Unnamed: 0</th>\n",
       "      <th>balance</th>\n",
       "      <th>UsesFacebook</th>\n",
       "      <th>UsesGameCenter</th>\n",
       "      <th>TookOffer</th>\n",
       "      <th>MoneySpent</th>\n",
       "      <th>DaysPlayed</th>\n",
       "    </tr>\n",
       "  </thead>\n",
       "  <tbody>\n",
       "    <tr>\n",
       "      <th>count</th>\n",
       "      <td>2670.000000</td>\n",
       "      <td>2670.000000</td>\n",
       "      <td>2670.000000</td>\n",
       "      <td>2670.000000</td>\n",
       "      <td>2670.000000</td>\n",
       "      <td>2670.000000</td>\n",
       "      <td>2670.000000</td>\n",
       "    </tr>\n",
       "    <tr>\n",
       "      <th>mean</th>\n",
       "      <td>306527.314232</td>\n",
       "      <td>228.446442</td>\n",
       "      <td>0.008614</td>\n",
       "      <td>0.467416</td>\n",
       "      <td>0.606742</td>\n",
       "      <td>12.405352</td>\n",
       "      <td>20.784270</td>\n",
       "    </tr>\n",
       "    <tr>\n",
       "      <th>std</th>\n",
       "      <td>102937.896057</td>\n",
       "      <td>1136.342074</td>\n",
       "      <td>0.092430</td>\n",
       "      <td>0.499031</td>\n",
       "      <td>0.488565</td>\n",
       "      <td>30.129375</td>\n",
       "      <td>23.445606</td>\n",
       "    </tr>\n",
       "    <tr>\n",
       "      <th>min</th>\n",
       "      <td>0.000000</td>\n",
       "      <td>0.000000</td>\n",
       "      <td>0.000000</td>\n",
       "      <td>0.000000</td>\n",
       "      <td>0.000000</td>\n",
       "      <td>1.990000</td>\n",
       "      <td>0.000000</td>\n",
       "    </tr>\n",
       "    <tr>\n",
       "      <th>25%</th>\n",
       "      <td>268525.750000</td>\n",
       "      <td>9.000000</td>\n",
       "      <td>0.000000</td>\n",
       "      <td>0.000000</td>\n",
       "      <td>0.000000</td>\n",
       "      <td>1.990000</td>\n",
       "      <td>3.000000</td>\n",
       "    </tr>\n",
       "    <tr>\n",
       "      <th>50%</th>\n",
       "      <td>326206.000000</td>\n",
       "      <td>44.000000</td>\n",
       "      <td>0.000000</td>\n",
       "      <td>0.000000</td>\n",
       "      <td>1.000000</td>\n",
       "      <td>4.990000</td>\n",
       "      <td>12.000000</td>\n",
       "    </tr>\n",
       "    <tr>\n",
       "      <th>75%</th>\n",
       "      <td>380587.500000</td>\n",
       "      <td>164.000000</td>\n",
       "      <td>0.000000</td>\n",
       "      <td>1.000000</td>\n",
       "      <td>1.000000</td>\n",
       "      <td>10.960000</td>\n",
       "      <td>31.000000</td>\n",
       "    </tr>\n",
       "    <tr>\n",
       "      <th>max</th>\n",
       "      <td>441124.000000</td>\n",
       "      <td>38093.000000</td>\n",
       "      <td>1.000000</td>\n",
       "      <td>1.000000</td>\n",
       "      <td>1.000000</td>\n",
       "      <td>884.070000</td>\n",
       "      <td>97.000000</td>\n",
       "    </tr>\n",
       "  </tbody>\n",
       "</table>\n",
       "</div>"
      ],
      "text/plain": [
       "          Unnamed: 0       balance  UsesFacebook  UsesGameCenter    TookOffer  \\\n",
       "count    2670.000000   2670.000000   2670.000000     2670.000000  2670.000000   \n",
       "mean   306527.314232    228.446442      0.008614        0.467416     0.606742   \n",
       "std    102937.896057   1136.342074      0.092430        0.499031     0.488565   \n",
       "min         0.000000      0.000000      0.000000        0.000000     0.000000   \n",
       "25%    268525.750000      9.000000      0.000000        0.000000     0.000000   \n",
       "50%    326206.000000     44.000000      0.000000        0.000000     1.000000   \n",
       "75%    380587.500000    164.000000      0.000000        1.000000     1.000000   \n",
       "max    441124.000000  38093.000000      1.000000        1.000000     1.000000   \n",
       "\n",
       "        MoneySpent   DaysPlayed  \n",
       "count  2670.000000  2670.000000  \n",
       "mean     12.405352    20.784270  \n",
       "std      30.129375    23.445606  \n",
       "min       1.990000     0.000000  \n",
       "25%       1.990000     3.000000  \n",
       "50%       4.990000    12.000000  \n",
       "75%      10.960000    31.000000  \n",
       "max     884.070000    97.000000  "
      ]
     },
     "execution_count": 24,
     "metadata": {},
     "output_type": "execute_result"
    }
   ],
   "source": [
    "df_paid.describe()"
   ]
  },
  {
   "cell_type": "code",
   "execution_count": 27,
   "metadata": {
    "collapsed": true
   },
   "outputs": [],
   "source": [
    "# Load transaction data\n",
    "\n",
    "df_purchases = pd.read_csv(\"../data/IAP_cleaned.csv\")"
   ]
  },
  {
   "cell_type": "code",
   "execution_count": 30,
   "metadata": {
    "collapsed": false
   },
   "outputs": [
    {
     "data": {
      "text/html": [
       "<div style=\"max-height:1000px;max-width:1500px;overflow:auto;\">\n",
       "<table border=\"1\" class=\"dataframe\">\n",
       "  <thead>\n",
       "    <tr style=\"text-align: right;\">\n",
       "      <th></th>\n",
       "      <th>Unnamed: 0</th>\n",
       "      <th>balance</th>\n",
       "      <th>cost</th>\n",
       "      <th>createdAt</th>\n",
       "      <th>objectId</th>\n",
       "      <th>product</th>\n",
       "      <th>updatedAt</th>\n",
       "      <th>user.objectId</th>\n",
       "    </tr>\n",
       "  </thead>\n",
       "  <tbody>\n",
       "    <tr>\n",
       "      <th>0</th>\n",
       "      <td>0</td>\n",
       "      <td>12064</td>\n",
       "      <td>1.99</td>\n",
       "      <td>2015-03-05T10:21:59.304Z</td>\n",
       "      <td>DZgADJNFaG</td>\n",
       "      <td>hk.siuyiu.item.crystal1</td>\n",
       "      <td>2015-03-05T10:21:59.304Z</td>\n",
       "      <td>bmTaQ1p2B6</td>\n",
       "    </tr>\n",
       "    <tr>\n",
       "      <th>1</th>\n",
       "      <td>1</td>\n",
       "      <td>150</td>\n",
       "      <td>1.99</td>\n",
       "      <td>2015-03-13T10:11:46.155Z</td>\n",
       "      <td>p01j4QpYZf</td>\n",
       "      <td>hk.siuyiu.item.crystal1.new</td>\n",
       "      <td>2015-03-13T10:11:46.155Z</td>\n",
       "      <td>Da74nWLXNm</td>\n",
       "    </tr>\n",
       "    <tr>\n",
       "      <th>2</th>\n",
       "      <td>2</td>\n",
       "      <td>52</td>\n",
       "      <td>1.99</td>\n",
       "      <td>2015-03-13T11:40:15.665Z</td>\n",
       "      <td>AGuHX5iJv9</td>\n",
       "      <td>hk.siuyiu.item.crystal1</td>\n",
       "      <td>2015-03-13T11:40:15.665Z</td>\n",
       "      <td>PzruNp3hqk</td>\n",
       "    </tr>\n",
       "    <tr>\n",
       "      <th>3</th>\n",
       "      <td>3</td>\n",
       "      <td>3</td>\n",
       "      <td>1.99</td>\n",
       "      <td>2015-03-13T11:43:10.129Z</td>\n",
       "      <td>kPzmBUWW77</td>\n",
       "      <td>hk.siuyiu.item.crystal1</td>\n",
       "      <td>2015-03-13T11:43:10.129Z</td>\n",
       "      <td>06J9V5jkEO</td>\n",
       "    </tr>\n",
       "    <tr>\n",
       "      <th>4</th>\n",
       "      <td>4</td>\n",
       "      <td>120</td>\n",
       "      <td>1.99</td>\n",
       "      <td>2015-03-13T11:45:19.904Z</td>\n",
       "      <td>oZIVnH8JoH</td>\n",
       "      <td>hk.siuyiu.item.crystal1</td>\n",
       "      <td>2015-03-13T11:45:19.904Z</td>\n",
       "      <td>06J9V5jkEO</td>\n",
       "    </tr>\n",
       "  </tbody>\n",
       "</table>\n",
       "</div>"
      ],
      "text/plain": [
       "   Unnamed: 0  balance  cost                 createdAt    objectId  \\\n",
       "0           0    12064  1.99  2015-03-05T10:21:59.304Z  DZgADJNFaG   \n",
       "1           1      150  1.99  2015-03-13T10:11:46.155Z  p01j4QpYZf   \n",
       "2           2       52  1.99  2015-03-13T11:40:15.665Z  AGuHX5iJv9   \n",
       "3           3        3  1.99  2015-03-13T11:43:10.129Z  kPzmBUWW77   \n",
       "4           4      120  1.99  2015-03-13T11:45:19.904Z  oZIVnH8JoH   \n",
       "\n",
       "                       product                 updatedAt user.objectId  \n",
       "0      hk.siuyiu.item.crystal1  2015-03-05T10:21:59.304Z    bmTaQ1p2B6  \n",
       "1  hk.siuyiu.item.crystal1.new  2015-03-13T10:11:46.155Z    Da74nWLXNm  \n",
       "2      hk.siuyiu.item.crystal1  2015-03-13T11:40:15.665Z    PzruNp3hqk  \n",
       "3      hk.siuyiu.item.crystal1  2015-03-13T11:43:10.129Z    06J9V5jkEO  \n",
       "4      hk.siuyiu.item.crystal1  2015-03-13T11:45:19.904Z    06J9V5jkEO  "
      ]
     },
     "execution_count": 30,
     "metadata": {},
     "output_type": "execute_result"
    }
   ],
   "source": [
    "df_purchases.head()"
   ]
  },
  {
   "cell_type": "code",
   "execution_count": 32,
   "metadata": {
    "collapsed": true
   },
   "outputs": [],
   "source": [
    "# Record of virtual currency spending behavior per user\n",
    "df_spend = pd.read_csv(\"../data/spend_cleaned.csv\")"
   ]
  },
  {
   "cell_type": "code",
   "execution_count": 34,
   "metadata": {
    "collapsed": false
   },
   "outputs": [
    {
     "data": {
      "text/html": [
       "<div style=\"max-height:1000px;max-width:1500px;overflow:auto;\">\n",
       "<table border=\"1\" class=\"dataframe\">\n",
       "  <thead>\n",
       "    <tr style=\"text-align: right;\">\n",
       "      <th></th>\n",
       "      <th>Unnamed: 0</th>\n",
       "      <th>balance</th>\n",
       "      <th>createdAt</th>\n",
       "      <th>crystals</th>\n",
       "      <th>name</th>\n",
       "      <th>updatedAt</th>\n",
       "      <th>user.objectId</th>\n",
       "    </tr>\n",
       "  </thead>\n",
       "  <tbody>\n",
       "    <tr>\n",
       "      <th>0</th>\n",
       "      <td>0</td>\n",
       "      <td>1441</td>\n",
       "      <td>2015-03-05T10:12:48.621Z</td>\n",
       "      <td>34</td>\n",
       "      <td>Hurry Breeding</td>\n",
       "      <td>2015-03-05T10:12:48.621Z</td>\n",
       "      <td>bmTaQ1p2B6</td>\n",
       "    </tr>\n",
       "    <tr>\n",
       "      <th>1</th>\n",
       "      <td>1</td>\n",
       "      <td>2371</td>\n",
       "      <td>2015-03-05T10:17:54.682Z</td>\n",
       "      <td>25</td>\n",
       "      <td>Buy Wool Insta-Grow</td>\n",
       "      <td>2015-03-05T10:17:54.682Z</td>\n",
       "      <td>bmTaQ1p2B6</td>\n",
       "    </tr>\n",
       "    <tr>\n",
       "      <th>2</th>\n",
       "      <td>2</td>\n",
       "      <td>12179</td>\n",
       "      <td>2015-03-05T11:20:22.153Z</td>\n",
       "      <td>35</td>\n",
       "      <td>Hurry Breeding</td>\n",
       "      <td>2015-03-05T11:20:22.153Z</td>\n",
       "      <td>bmTaQ1p2B6</td>\n",
       "    </tr>\n",
       "    <tr>\n",
       "      <th>3</th>\n",
       "      <td>3</td>\n",
       "      <td>12144</td>\n",
       "      <td>2015-03-05T11:20:38.054Z</td>\n",
       "      <td>35</td>\n",
       "      <td>Hurry Breeding</td>\n",
       "      <td>2015-03-05T11:20:38.054Z</td>\n",
       "      <td>bmTaQ1p2B6</td>\n",
       "    </tr>\n",
       "    <tr>\n",
       "      <th>4</th>\n",
       "      <td>4</td>\n",
       "      <td>12109</td>\n",
       "      <td>2015-03-05T11:20:47.516Z</td>\n",
       "      <td>35</td>\n",
       "      <td>Hurry Breeding</td>\n",
       "      <td>2015-03-05T11:20:47.516Z</td>\n",
       "      <td>bmTaQ1p2B6</td>\n",
       "    </tr>\n",
       "  </tbody>\n",
       "</table>\n",
       "</div>"
      ],
      "text/plain": [
       "   Unnamed: 0  balance                 createdAt  crystals  \\\n",
       "0           0     1441  2015-03-05T10:12:48.621Z        34   \n",
       "1           1     2371  2015-03-05T10:17:54.682Z        25   \n",
       "2           2    12179  2015-03-05T11:20:22.153Z        35   \n",
       "3           3    12144  2015-03-05T11:20:38.054Z        35   \n",
       "4           4    12109  2015-03-05T11:20:47.516Z        35   \n",
       "\n",
       "                  name                 updatedAt user.objectId  \n",
       "0       Hurry Breeding  2015-03-05T10:12:48.621Z    bmTaQ1p2B6  \n",
       "1  Buy Wool Insta-Grow  2015-03-05T10:17:54.682Z    bmTaQ1p2B6  \n",
       "2       Hurry Breeding  2015-03-05T11:20:22.153Z    bmTaQ1p2B6  \n",
       "3       Hurry Breeding  2015-03-05T11:20:38.054Z    bmTaQ1p2B6  \n",
       "4       Hurry Breeding  2015-03-05T11:20:47.516Z    bmTaQ1p2B6  "
      ]
     },
     "execution_count": 34,
     "metadata": {},
     "output_type": "execute_result"
    }
   ],
   "source": [
    "df_spend.head()"
   ]
  }
 ],
 "metadata": {
  "kernelspec": {
   "display_name": "Python 2",
   "language": "python",
   "name": "python2"
  },
  "language_info": {
   "codemirror_mode": {
    "name": "ipython",
    "version": 2
   },
   "file_extension": ".py",
   "mimetype": "text/x-python",
   "name": "python",
   "nbconvert_exporter": "python",
   "pygments_lexer": "ipython2",
   "version": "2.7.6"
  }
 },
 "nbformat": 4,
 "nbformat_minor": 0
}
